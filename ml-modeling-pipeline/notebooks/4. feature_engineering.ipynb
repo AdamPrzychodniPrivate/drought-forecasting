{
 "cells": [
  {
   "cell_type": "code",
   "execution_count": null,
   "metadata": {},
   "outputs": [],
   "source": [
    "# # EXPERIMENTING WIT LAGGING THIS IS FOR FEATURE ENGINEERING \n",
    "# # Create a lagged version of the El Niño dataset, shifting by 3 months (90 days)\n",
    "# df_nino_lagged = nino_indices_df.with_columns((pl.col('time') + pl.duration(days=90)).alias('time_lagged'))"
   ]
  },
  {
   "cell_type": "code",
   "execution_count": null,
   "metadata": {},
   "outputs": [],
   "source": [
    "# df_nino_lagged = df_nino_lagged.with_columns(\n",
    "#     pl.col('time_lagged').dt.date().alias('time_lagged')\n",
    "# )"
   ]
  },
  {
   "cell_type": "code",
   "execution_count": null,
   "metadata": {},
   "outputs": [],
   "source": [
    "output_file_path = '/workspace/soil-ml-modeling-pipeline/ml-modeling-pipeline/data/02_intermediate/preprocessed_nino_data.parquet'\n",
    "df_nino_lagged.write_parquet(output_file_path)"
   ]
  },
  {
   "cell_type": "code",
   "execution_count": null,
   "metadata": {},
   "outputs": [],
   "source": [
    "# Load meteorlogical data from NASA\n",
    "df_nino_lagged = pl.read_parquet(\"/workspace/soil-ml-modeling-pipeline/ml-modeling-pipeline/data/02_intermediate/preprocessed_nino_data.parquet\")"
   ]
  }
 ],
 "metadata": {
  "language_info": {
   "name": "python"
  }
 },
 "nbformat": 4,
 "nbformat_minor": 2
}
