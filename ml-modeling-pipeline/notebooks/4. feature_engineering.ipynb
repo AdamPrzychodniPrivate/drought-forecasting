{
 "cells": [
  {
   "cell_type": "code",
   "execution_count": null,
   "metadata": {},
   "outputs": [],
   "source": [
    "# # EXPERIMENTING WIT LAGGING THIS IS FOR FEATURE ENGINEERING \n",
    "# # Create a lagged version of the El Niño dataset, shifting by 3 months (90 days)\n",
    "# df_nino_lagged = nino_indices_df.with_columns((pl.col('time') + pl.duration(days=90)).alias('time_lagged'))"
   ]
  },
  {
   "cell_type": "code",
   "execution_count": null,
   "metadata": {},
   "outputs": [],
   "source": [
    "# df_nino_lagged = df_nino_lagged.with_columns(\n",
    "#     pl.col('time_lagged').dt.date().alias('time_lagged')\n",
    "# )"
   ]
  },
  {
   "cell_type": "code",
   "execution_count": null,
   "metadata": {},
   "outputs": [],
   "source": [
    "output_file_path = '/workspace/soil-ml-modeling-pipeline/ml-modeling-pipeline/data/02_intermediate/preprocessed_nino_data.parquet'\n",
    "df_nino_lagged.write_parquet(output_file_path)"
   ]
  },
  {
   "cell_type": "code",
   "execution_count": null,
   "metadata": {},
   "outputs": [],
   "source": [
    "# Load meteorlogical data from NASA\n",
    "df_nino_lagged = pl.read_parquet(\"/workspace/soil-ml-modeling-pipeline/ml-modeling-pipeline/data/02_intermediate/preprocessed_nino_data.parquet\")"
   ]
  },
  {
   "cell_type": "code",
   "execution_count": null,
   "metadata": {},
   "outputs": [],
   "source": [
    "df = pd.read_parquet(\"/teamspace/studios/this_studio/ml-drought-forecasting/ml-modeling-pipeline/data/03_primary/preprocessed_data.parquet\")"
   ]
  },
  {
   "cell_type": "code",
   "execution_count": null,
   "metadata": {},
   "outputs": [],
   "source": [
    "import pandas as pd\n",
    "import numpy as np\n",
    "from sklearn.model_selection import train_test_split\n",
    "import xgboost as xgb\n",
    "import shap\n",
    "import matplotlib.pyplot as plt\n",
    "import seaborn as sns\n",
    "from sklearn.metrics import mean_squared_error, r2_score\n",
    "from sklearn.preprocessing import StandardScaler\n",
    "\n",
    "# Prepare the data\n",
    "feature_columns = df.columns.drop(['eddi_06mn', 'time', 'lat', 'lon'])\n",
    "X = df[feature_columns].copy()  # Explicitly create a copy\n",
    "y = df['eddi_06mn']\n",
    "\n",
    "# Downcast data types\n",
    "for col in X.select_dtypes(include=['float64', 'int64']).columns:\n",
    "    X[col] = pd.to_numeric(X[col], downcast='float')\n",
    "\n",
    "# Proceed with splitting the data\n",
    "X_train, X_test, y_train, y_test = train_test_split(\n",
    "    X, y, test_size=0.20, random_state=42\n",
    ")\n",
    "\n",
    "# Initialize and apply the scaler\n",
    "scaler = StandardScaler()\n",
    "\n",
    "# Fit the scaler on the training data and transform\n",
    "X_train_scaled = scaler.fit_transform(X_train)\n",
    "X_test_scaled = scaler.transform(X_test)\n",
    "\n",
    "# Convert scaled arrays back to DataFrames with original column names\n",
    "X_train_scaled = pd.DataFrame(\n",
    "    X_train_scaled, columns=X_train.columns, index=X_train.index\n",
    ")\n",
    "X_test_scaled = pd.DataFrame(\n",
    "    X_test_scaled, columns=X_test.columns, index=X_test.index\n",
    ")\n",
    "\n",
    "# Create DMatrix for XGBoost with scaled data and feature names\n",
    "dtrain = xgb.DMatrix(X_train_scaled, label=y_train)\n",
    "dtest = xgb.DMatrix(X_test_scaled, label=y_test)\n",
    "\n",
    "# Set up parameters for XGBoost with updated GPU settings\n",
    "params = {\n",
    "    'objective': 'reg:squarederror',\n",
    "    'eval_metric': 'rmse',\n",
    "    'tree_method': 'hist',  # Use 'hist' instead of 'gpu_hist'\n",
    "    'device': 'cuda',       # Specify GPU device\n",
    "    'max_depth': 6,\n",
    "    'eta': 0.1,\n",
    "    'subsample': 0.8,\n",
    "    'random_state': 42\n",
    "}\n",
    "\n",
    "# Train the model\n",
    "evals = [(dtrain, 'train'), (dtest, 'eval')]\n",
    "xgb_model = xgb.train(\n",
    "    params=params,\n",
    "    dtrain=dtrain,\n",
    "    num_boost_round=1000,\n",
    "    early_stopping_rounds=20,\n",
    "    evals=evals,\n",
    "    verbose_eval=50\n",
    ")\n",
    "\n",
    "# Evaluate the model\n",
    "y_pred = xgb_model.predict(dtest)\n",
    "mse = mean_squared_error(y_test, y_pred)\n",
    "r2 = r2_score(y_test, y_pred)\n",
    "print(f'MSE: {mse}, R^2: {r2}')\n",
    "\n",
    "# Extract feature importances\n",
    "importance_dict = xgb_model.get_score(importance_type='gain')\n",
    "importances = pd.DataFrame({\n",
    "    'Feature': importance_dict.keys(),\n",
    "    'Importance': importance_dict.values()\n",
    "})\n",
    "importances.sort_values(by='Importance', ascending=False, inplace=True)\n",
    "print(importances.head(10))\n",
    "\n",
    "# Plot feature importances\n",
    "plt.rcParams['figure.figsize'] = [10, 7]\n",
    "ax = xgb.plot_importance(xgb_model, max_num_features=50)\n",
    "plt.title('XGBoost Feature Importances (GPU Accelerated)')\n",
    "plt.show()\n",
    "\n",
    "# Compute SHAP values\n",
    "explainer = shap.TreeExplainer(xgb_model)\n",
    "X_test_sample = X_test_scaled.sample(n=1000, random_state=42)\n",
    "shap_values = explainer.shap_values(X_test_sample)\n",
    "\n",
    "# SHAP summary plot\n",
    "shap.summary_plot(shap_values, X_test_sample, feature_names=X.columns)\n"
   ]
  }
 ],
 "metadata": {
  "language_info": {
   "name": "python"
  }
 },
 "nbformat": 4,
 "nbformat_minor": 2
}
