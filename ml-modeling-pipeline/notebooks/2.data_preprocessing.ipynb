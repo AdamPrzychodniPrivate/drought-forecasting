{
 "cells": [
  {
   "cell_type": "code",
   "execution_count": null,
   "metadata": {},
   "outputs": [],
   "source": [
    "# import zipfile\n",
    "# import os\n",
    "\n",
    "# # Specify the path to the zip file\n",
    "# zip_file_path = '/teamspace/studios/this_studio/6268e3986ce330c33332a86dd878fba4.zip'\n",
    "\n",
    "# # Define the directory where you want to extract the files\n",
    "# extract_to_path = '/teamspace/studios/this_studio/extracted_files/'\n",
    "\n",
    "# # Create the directory if it doesn't exist\n",
    "# os.makedirs(extract_to_path, exist_ok=True)\n",
    "\n",
    "# # Open the zip file\n",
    "# with zipfile.ZipFile(zip_file_path, 'r') as zip_ref:\n",
    "#     # Extract all the contents into the specified directory\n",
    "#     zip_ref.extractall(extract_to_path)\n",
    "\n",
    "# print(f'Files extracted to: {extract_to_path}')\n"
   ]
  }
 ],
 "metadata": {
  "language_info": {
   "name": "python"
  }
 },
 "nbformat": 4,
 "nbformat_minor": 2
}
