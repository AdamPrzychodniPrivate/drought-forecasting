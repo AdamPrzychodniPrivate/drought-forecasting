{
 "cells": [
  {
   "cell_type": "code",
   "execution_count": 1,
   "metadata": {},
   "outputs": [],
   "source": [
    "import os\n",
    "\n",
    "import xarray as xr\n",
    "import matplotlib.pyplot as plt\n",
    "import pandas as pd\n",
    "\n",
    "import regionmask\n",
    "\n",
    "import numpy as np\n",
    "import pandas as pd\n",
    "import geopandas as gpd\n",
    "import dask_geopandas as dgpd\n",
    "from shapely.geometry import Point\n",
    "from dask import dataframe as dd\n",
    "from mpl_toolkits.basemap import Basemap\n",
    "\n",
    "import polars as pl\n",
    "import gc \n",
    "import pyarrow as pa\n",
    "\n",
    "from typing import List"
   ]
  },
  {
   "cell_type": "markdown",
   "metadata": {},
   "source": [
    "# Convert file format "
   ]
  },
  {
   "cell_type": "code",
   "execution_count": 2,
   "metadata": {},
   "outputs": [],
   "source": [
    "ds = xr.open_dataset('ml-drought-forecasting/ml-modeling-pipeline/data/01_raw/power_nasa_data.nc')\n",
    "\n",
    "df_pandas = ds.to_dataframe().reset_index()\n",
    "\n",
    "# Convert the Pandas DataFrame to a Polars DataFrame\n",
    "df_polars = pl.from_pandas(df_pandas)\n",
    "\n",
    "df_polars.write_parquet(\"ml-drought-forecasting/ml-modeling-pipeline/data//02_intermediate/power_nasa_data.parquet\")"
   ]
  },
  {
   "cell_type": "markdown",
   "metadata": {},
   "source": [
    "# Merge raw files"
   ]
  },
  {
   "cell_type": "markdown",
   "metadata": {},
   "source": [
    "## POWER NASA \n",
    "Already merged :)"
   ]
  },
  {
   "cell_type": "markdown",
   "metadata": {},
   "source": [
    "## EDDI"
   ]
  },
  {
   "cell_type": "code",
   "execution_count": 3,
   "metadata": {},
   "outputs": [],
   "source": [
    "def merge_parquet_files(parquet_files: List[str]) -> pl.DataFrame:\n",
    "    \"\"\"\n",
    "    Merge multiple Parquet files into a single DataFrame.\n",
    "\n",
    "    Args:\n",
    "        parquet_files (List[str]): List of file paths to the Parquet files.\n",
    "\n",
    "    Returns:\n",
    "        pl.DataFrame: Merged DataFrame containing data from all the Parquet files.\n",
    "    \"\"\"\n",
    "    # Initialize an empty list to store the dataframes\n",
    "    dataframes = []\n",
    "\n",
    "    # Iterate over the Parquet files\n",
    "    for file_path in parquet_files:\n",
    "        try:\n",
    "            # Read the Parquet file\n",
    "            df = pl.read_parquet(file_path)\n",
    "            \n",
    "            # Extract the time period from the file name\n",
    "            time_period = file_path.split(\"_\")[-1].split(\".\")[0]\n",
    "            \n",
    "            # Rename the 'eddi' column with the time period\n",
    "            df = df.rename({\"eddi\": f\"eddi_{time_period}\"})\n",
    "            \n",
    "            # Check if 'time' column is already in Date format\n",
    "            if df.dtypes[df.columns.index(\"time\")] != pl.Date:\n",
    "                # Convert 'time' column to Date format\n",
    "                df = df.with_columns(pl.col(\"time\").cast(pl.Date))\n",
    "            \n",
    "            # Append the dataframe to the list\n",
    "            dataframes.append(df)\n",
    "        except Exception as e:\n",
    "            print(f\"Error processing file: {file_path}\")\n",
    "            print(f\"Error message: {str(e)}\")\n",
    "            continue\n",
    "\n",
    "    # Check if any dataframes were successfully loaded\n",
    "    if not dataframes:\n",
    "        raise ValueError(\"No valid dataframes found in the provided Parquet files.\")\n",
    "\n",
    "    # Merge all the dataframes based on 'time', 'lat', and 'lon'\n",
    "    merged_df = dataframes[0]\n",
    "    for df in dataframes[1:]:\n",
    "        try:\n",
    "            merged_df = merged_df.join(df, on=[\"time\", \"lat\", \"lon\"])\n",
    "        except Exception as e:\n",
    "            print(f\"Error merging dataframe: {str(e)}\")\n",
    "            raise\n",
    "\n",
    "    return merged_df"
   ]
  },
  {
   "cell_type": "code",
   "execution_count": 5,
   "metadata": {},
   "outputs": [],
   "source": [
    "# Define the paths to your Parquet files\n",
    "parquet_files = [\n",
    "    \"ml-drought-forecasting/ml-modeling-pipeline/data/01_raw/merged_eddi_data_01mn.parquet\",\n",
    "    \"ml-drought-forecasting/ml-modeling-pipeline/data/01_raw/merged_eddi_data_02mn.parquet\",\n",
    "    \"ml-drought-forecasting/ml-modeling-pipeline/data/01_raw/merged_eddi_data_03mn.parquet\",\n",
    "    \"ml-drought-forecasting/ml-modeling-pipeline/data/01_raw/merged_eddi_data_06mn.parquet\",\n",
    "    \"ml-drought-forecasting/ml-modeling-pipeline/data/01_raw/merged_eddi_data_09mn.parquet\",\n",
    "    \"ml-drought-forecasting/ml-modeling-pipeline/data/01_raw/merged_eddi_data_12mn.parquet\"\n",
    "]\n",
    "merged_df = merge_parquet_files(parquet_files)"
   ]
  },
  {
   "cell_type": "code",
   "execution_count": 6,
   "metadata": {},
   "outputs": [],
   "source": [
    "output_file_path = 'ml-drought-forecasting/ml-modeling-pipeline/data/02_intermediate/merged_eddi_data.parquet'\n",
    "merged_df.write_parquet(output_file_path)"
   ]
  },
  {
   "cell_type": "markdown",
   "metadata": {},
   "source": [
    "## Nino"
   ]
  },
  {
   "cell_type": "code",
   "execution_count": 7,
   "metadata": {},
   "outputs": [],
   "source": [
    "# Example usage:\n",
    "nino12 = xr.open_dataset('ml-drought-forecasting/ml-modeling-pipeline/data/01_raw/inino12_daily.nc')\n",
    "nino3 = xr.open_dataset('ml-drought-forecasting/ml-modeling-pipeline/data/01_raw/inino3_daily.nc')\n",
    "nino34 = xr.open_dataset('ml-drought-forecasting/ml-modeling-pipeline/data/01_raw/inino34_daily.nc')\n",
    "nino4 = xr.open_dataset('ml-drought-forecasting/ml-modeling-pipeline/data/01_raw/inino4_daily.nc')"
   ]
  },
  {
   "cell_type": "code",
   "execution_count": 8,
   "metadata": {},
   "outputs": [],
   "source": [
    "def process_and_convert(dataset, variable_name, start_date='1981-09-01'):\n",
    "    \"\"\"\n",
    "    Process an xarray Dataset and convert it to a Polars DataFrame.\n",
    "\n",
    "    This function works with datasets that have either 'time' or 'TIME' as the time dimension.\n",
    "\n",
    "    Args:\n",
    "    dataset (xarray.Dataset): The input dataset.\n",
    "    variable_name (str): The name of the variable to process.\n",
    "    start_date (str): The start date for data selection. Default is '1981-09-01'.\n",
    "\n",
    "    Returns:\n",
    "    polars.DataFrame: The processed data as a Polars DataFrame.\n",
    "    \"\"\"\n",
    "    # Determine the time dimension name\n",
    "    time_dim = 'time' if 'time' in dataset.dims else 'TIME'\n",
    "\n",
    "    # Find the maximum valid date dynamically\n",
    "    max_valid_date = dataset[variable_name].dropna(dim=time_dim, how='all')[time_dim].max().values\n",
    "    \n",
    "    # Trim the dataset from the first known valid date to the last known valid date\n",
    "    valid_data = dataset.sel({time_dim: slice(start_date, max_valid_date)})\n",
    "    \n",
    "    # Convert the trimmed xarray Dataset to a pandas DataFrame\n",
    "    df_valid = valid_data[variable_name].to_dataframe(name=variable_name)\n",
    "    \n",
    "    # Reset the index to convert the datetime index into a regular column\n",
    "    df_valid_reset = df_valid.reset_index()\n",
    "    \n",
    "    # Convert the pandas DataFrame with reset index to a Polars DataFrame\n",
    "    pl_valid = pl.from_pandas(df_valid_reset)\n",
    "    \n",
    "    return pl_valid\n",
    "\n",
    "# Process each dataset\n",
    "pl_nino12 = process_and_convert(nino12, 'Nino12')\n",
    "pl_nino3 = process_and_convert(nino3, 'Nino3')\n",
    "pl_nino34 = process_and_convert(nino34, 'Nino34')\n",
    "pl_nino4 = process_and_convert(nino4, 'Nino4')\n"
   ]
  },
  {
   "cell_type": "code",
   "execution_count": 9,
   "metadata": {},
   "outputs": [],
   "source": [
    "def merge_datasets(*datasets):\n",
    "    \"\"\"\n",
    "    Merge multiple Polars DataFrames on their time column.\n",
    "\n",
    "    This function works with datasets that have either 'time' or 'TIME' as the time column.\n",
    "\n",
    "    Args:\n",
    "    *datasets: Variable number of Polars DataFrames to merge.\n",
    "\n",
    "    Returns:\n",
    "    polars.DataFrame: The merged DataFrame.\n",
    "    \"\"\"\n",
    "    if not datasets:\n",
    "        return None\n",
    "\n",
    "    # Determine the time column name from the first dataset\n",
    "    time_col = 'time' if 'time' in datasets[0].columns else 'TIME'\n",
    "\n",
    "    # Initial dataset to start merging from\n",
    "    merged_df = datasets[0]\n",
    "    \n",
    "    # Iterate over remaining datasets and merge them one by one\n",
    "    for data in datasets[1:]:\n",
    "        # Ensure the joining column has the same name in both DataFrames\n",
    "        if time_col not in data.columns:\n",
    "            data = data.rename({'TIME': 'time'} if 'TIME' in data.columns else {'time': 'TIME'})\n",
    "        \n",
    "        # Use Polars' join function with a custom suffix to prevent name clashes\n",
    "        merged_df = merged_df.join(data, on=time_col, how=\"outer\", suffix=\"_right\")\n",
    "        \n",
    "        # If '_right' columns are created (which contain the same data), drop them\n",
    "        right_cols = [col for col in merged_df.columns if col.endswith('_right')]\n",
    "        merged_df = merged_df.drop(right_cols)\n",
    "\n",
    "    return merged_df\n",
    "\n",
    "    # Merge the dataframes\n",
    "pl_merged_nino = merge_datasets(pl_nino12, pl_nino3, pl_nino34, pl_nino4)"
   ]
  },
  {
   "cell_type": "code",
   "execution_count": 10,
   "metadata": {},
   "outputs": [
    {
     "data": {
      "text/html": [
       "<div><style>\n",
       ".dataframe > thead > tr,\n",
       ".dataframe > tbody > tr {\n",
       "  text-align: right;\n",
       "  white-space: pre-wrap;\n",
       "}\n",
       "</style>\n",
       "<small>shape: (15_731, 5)</small><table border=\"1\" class=\"dataframe\"><thead><tr><th>time</th><th>Nino12</th><th>Nino3</th><th>Nino34</th><th>Nino4</th></tr><tr><td>datetime[ns]</td><td>f32</td><td>f32</td><td>f32</td><td>f32</td></tr></thead><tbody><tr><td>1981-09-01 00:00:00</td><td>0.05473</td><td>-0.033769</td><td>-0.033502</td><td>-0.087432</td></tr><tr><td>1981-09-02 00:00:00</td><td>0.125351</td><td>-0.068272</td><td>-0.045651</td><td>-0.085928</td></tr><tr><td>1981-09-03 00:00:00</td><td>0.20493</td><td>-0.132351</td><td>-0.089331</td><td>-0.061235</td></tr><tr><td>1981-09-04 00:00:00</td><td>-0.08833</td><td>-0.228514</td><td>-0.27863</td><td>-0.166646</td></tr><tr><td>1981-09-05 00:00:00</td><td>-0.346005</td><td>-0.255113</td><td>-0.333117</td><td>-0.287201</td></tr><tr><td>&hellip;</td><td>&hellip;</td><td>&hellip;</td><td>&hellip;</td><td>&hellip;</td></tr><tr><td>2024-09-21 00:00:00</td><td>-0.399372</td><td>-0.395616</td><td>-0.493105</td><td>0.40461</td></tr><tr><td>2024-09-22 00:00:00</td><td>-0.50677</td><td>-0.22946</td><td>-0.44171</td><td>0.306508</td></tr><tr><td>2024-09-23 00:00:00</td><td>-0.671493</td><td>-0.06463</td><td>-0.341495</td><td>0.299641</td></tr><tr><td>2024-09-24 00:00:00</td><td>-0.67833</td><td>0.012665</td><td>-0.293034</td><td>0.358804</td></tr><tr><td>2024-09-25 00:00:00</td><td>-0.988929</td><td>0.084005</td><td>-0.204226</td><td>0.488442</td></tr></tbody></table></div>"
      ],
      "text/plain": [
       "shape: (15_731, 5)\n",
       "┌─────────────────────┬───────────┬───────────┬───────────┬───────────┐\n",
       "│ time                ┆ Nino12    ┆ Nino3     ┆ Nino34    ┆ Nino4     │\n",
       "│ ---                 ┆ ---       ┆ ---       ┆ ---       ┆ ---       │\n",
       "│ datetime[ns]        ┆ f32       ┆ f32       ┆ f32       ┆ f32       │\n",
       "╞═════════════════════╪═══════════╪═══════════╪═══════════╪═══════════╡\n",
       "│ 1981-09-01 00:00:00 ┆ 0.05473   ┆ -0.033769 ┆ -0.033502 ┆ -0.087432 │\n",
       "│ 1981-09-02 00:00:00 ┆ 0.125351  ┆ -0.068272 ┆ -0.045651 ┆ -0.085928 │\n",
       "│ 1981-09-03 00:00:00 ┆ 0.20493   ┆ -0.132351 ┆ -0.089331 ┆ -0.061235 │\n",
       "│ 1981-09-04 00:00:00 ┆ -0.08833  ┆ -0.228514 ┆ -0.27863  ┆ -0.166646 │\n",
       "│ 1981-09-05 00:00:00 ┆ -0.346005 ┆ -0.255113 ┆ -0.333117 ┆ -0.287201 │\n",
       "│ …                   ┆ …         ┆ …         ┆ …         ┆ …         │\n",
       "│ 2024-09-21 00:00:00 ┆ -0.399372 ┆ -0.395616 ┆ -0.493105 ┆ 0.40461   │\n",
       "│ 2024-09-22 00:00:00 ┆ -0.50677  ┆ -0.22946  ┆ -0.44171  ┆ 0.306508  │\n",
       "│ 2024-09-23 00:00:00 ┆ -0.671493 ┆ -0.06463  ┆ -0.341495 ┆ 0.299641  │\n",
       "│ 2024-09-24 00:00:00 ┆ -0.67833  ┆ 0.012665  ┆ -0.293034 ┆ 0.358804  │\n",
       "│ 2024-09-25 00:00:00 ┆ -0.988929 ┆ 0.084005  ┆ -0.204226 ┆ 0.488442  │\n",
       "└─────────────────────┴───────────┴───────────┴───────────┴───────────┘"
      ]
     },
     "execution_count": 10,
     "metadata": {},
     "output_type": "execute_result"
    }
   ],
   "source": [
    "pl_merged_nino\n"
   ]
  },
  {
   "cell_type": "code",
   "execution_count": 11,
   "metadata": {},
   "outputs": [],
   "source": [
    "pl_merged_nino.write_parquet(\"ml-drought-forecasting/ml-modeling-pipeline/data/02_intermediate/merged_nino_data.parquet\")"
   ]
  },
  {
   "cell_type": "markdown",
   "metadata": {},
   "source": [
    "## IOD"
   ]
  },
  {
   "cell_type": "code",
   "execution_count": 12,
   "metadata": {},
   "outputs": [],
   "source": [
    "wtio = xr.open_dataset('ml-drought-forecasting/ml-modeling-pipeline/data/01_raw/wtio.nc')\n",
    "setio = xr.open_dataset('ml-drought-forecasting/ml-modeling-pipeline/data/01_raw/setio.nc')\n",
    "dmi = xr.open_dataset('ml-drought-forecasting/ml-modeling-pipeline/data/01_raw/dmi.nc')\n",
    "swio = xr.open_dataset('ml-drought-forecasting/ml-modeling-pipeline/data/01_raw/swio.nc')"
   ]
  },
  {
   "cell_type": "code",
   "execution_count": 13,
   "metadata": {},
   "outputs": [],
   "source": [
    "# Process each dataset\n",
    "pl_wtio = process_and_convert(wtio, 'WTIO')\n",
    "pl_setio = process_and_convert(setio, 'SETIO')\n",
    "pl_dmi = process_and_convert(dmi, 'DMI')\n",
    "pl_swio = process_and_convert(swio, 'SWIO')"
   ]
  },
  {
   "cell_type": "code",
   "execution_count": 14,
   "metadata": {},
   "outputs": [],
   "source": [
    "pl_merged_iod = merge_datasets(pl_wtio, pl_setio, pl_dmi, pl_swio)"
   ]
  },
  {
   "cell_type": "code",
   "execution_count": 15,
   "metadata": {},
   "outputs": [
    {
     "data": {
      "text/html": [
       "<div><style>\n",
       ".dataframe > thead > tr,\n",
       ".dataframe > tbody > tr {\n",
       "  text-align: right;\n",
       "  white-space: pre-wrap;\n",
       "}\n",
       "</style>\n",
       "<small>shape: (2_225, 5)</small><table border=\"1\" class=\"dataframe\"><thead><tr><th>TIME</th><th>WTIO</th><th>SETIO</th><th>DMI</th><th>SWIO</th></tr><tr><td>datetime[ns]</td><td>f64</td><td>f64</td><td>f64</td><td>f64</td></tr></thead><tbody><tr><td>1981-09-06 00:00:00</td><td>-0.509883</td><td>-0.169278</td><td>-0.340605</td><td>-0.89585</td></tr><tr><td>1981-09-13 00:00:00</td><td>-0.538838</td><td>-0.068855</td><td>-0.469983</td><td>-0.947042</td></tr><tr><td>1981-09-20 00:00:00</td><td>-0.496806</td><td>-0.360089</td><td>-0.136717</td><td>-0.389781</td></tr><tr><td>1981-09-27 00:00:00</td><td>-0.528383</td><td>0.112332</td><td>-0.640715</td><td>-0.629401</td></tr><tr><td>1981-10-04 00:00:00</td><td>-0.181254</td><td>0.42958</td><td>-0.610834</td><td>-0.957508</td></tr><tr><td>&hellip;</td><td>&hellip;</td><td>&hellip;</td><td>&hellip;</td><td>&hellip;</td></tr><tr><td>2024-03-24 00:00:00</td><td>0.747763</td><td>0.19204</td><td>0.555723</td><td>0.3632</td></tr><tr><td>2024-03-31 00:00:00</td><td>0.845738</td><td>0.504848</td><td>0.34089</td><td>0.147013</td></tr><tr><td>2024-04-07 00:00:00</td><td>0.861905</td><td>0.810916</td><td>0.050989</td><td>0.086735</td></tr><tr><td>2024-04-14 00:00:00</td><td>0.922548</td><td>0.701057</td><td>0.221491</td><td>-0.210068</td></tr><tr><td>2024-04-21 00:00:00</td><td>1.081862</td><td>0.645607</td><td>0.436255</td><td>0.29154</td></tr></tbody></table></div>"
      ],
      "text/plain": [
       "shape: (2_225, 5)\n",
       "┌─────────────────────┬───────────┬───────────┬───────────┬───────────┐\n",
       "│ TIME                ┆ WTIO      ┆ SETIO     ┆ DMI       ┆ SWIO      │\n",
       "│ ---                 ┆ ---       ┆ ---       ┆ ---       ┆ ---       │\n",
       "│ datetime[ns]        ┆ f64       ┆ f64       ┆ f64       ┆ f64       │\n",
       "╞═════════════════════╪═══════════╪═══════════╪═══════════╪═══════════╡\n",
       "│ 1981-09-06 00:00:00 ┆ -0.509883 ┆ -0.169278 ┆ -0.340605 ┆ -0.89585  │\n",
       "│ 1981-09-13 00:00:00 ┆ -0.538838 ┆ -0.068855 ┆ -0.469983 ┆ -0.947042 │\n",
       "│ 1981-09-20 00:00:00 ┆ -0.496806 ┆ -0.360089 ┆ -0.136717 ┆ -0.389781 │\n",
       "│ 1981-09-27 00:00:00 ┆ -0.528383 ┆ 0.112332  ┆ -0.640715 ┆ -0.629401 │\n",
       "│ 1981-10-04 00:00:00 ┆ -0.181254 ┆ 0.42958   ┆ -0.610834 ┆ -0.957508 │\n",
       "│ …                   ┆ …         ┆ …         ┆ …         ┆ …         │\n",
       "│ 2024-03-24 00:00:00 ┆ 0.747763  ┆ 0.19204   ┆ 0.555723  ┆ 0.3632    │\n",
       "│ 2024-03-31 00:00:00 ┆ 0.845738  ┆ 0.504848  ┆ 0.34089   ┆ 0.147013  │\n",
       "│ 2024-04-07 00:00:00 ┆ 0.861905  ┆ 0.810916  ┆ 0.050989  ┆ 0.086735  │\n",
       "│ 2024-04-14 00:00:00 ┆ 0.922548  ┆ 0.701057  ┆ 0.221491  ┆ -0.210068 │\n",
       "│ 2024-04-21 00:00:00 ┆ 1.081862  ┆ 0.645607  ┆ 0.436255  ┆ 0.29154   │\n",
       "└─────────────────────┴───────────┴───────────┴───────────┴───────────┘"
      ]
     },
     "execution_count": 15,
     "metadata": {},
     "output_type": "execute_result"
    }
   ],
   "source": [
    "pl_merged_iod"
   ]
  },
  {
   "cell_type": "code",
   "execution_count": 17,
   "metadata": {},
   "outputs": [],
   "source": [
    "pl_merged_iod.write_parquet(\"ml-drought-forecasting/ml-modeling-pipeline/data/02_intermediate/merged_iod_data.parquet\")"
   ]
  }
 ],
 "metadata": {
  "language_info": {
   "name": "python"
  }
 },
 "nbformat": 4,
 "nbformat_minor": 2
}
