{
 "cells": [
  {
   "cell_type": "markdown",
   "id": "a8360482-77d1-46da-a42b-9dc829faa625",
   "metadata": {
    "tags": []
   },
   "source": [
    "# Exploratory Spatio-Temporal Data Analysis\n",
    "# Part 1 - Data Inspection and Descriptive Statistics - Summary Statistics"
   ]
  },
  {
   "cell_type": "code",
   "execution_count": 3,
   "id": "b38cdcec-b47b-40f5-b62d-70a3eae63c42",
   "metadata": {
    "tags": []
   },
   "outputs": [],
   "source": [
    "import numpy as np\n",
    "import pandas as pd\n",
    "import polars as pl\n",
    "\n",
    "import matplotlib.pyplot as plt\n",
    "\n",
    "import folium\n",
    "from mpl_toolkits.basemap import Basemap\n",
    "\n",
    "%matplotlib inline"
   ]
  },
  {
   "cell_type": "code",
   "execution_count": 4,
   "id": "364e7884",
   "metadata": {},
   "outputs": [],
   "source": [
    "import xarray as xr \n",
    "\n",
    "ds = xr.open_dataset('/Users/adamprzychodni/Documents/Repos/ml-drought-forecasting/ml-modeling-pipeline/data/01_raw/ERA5_monthly_averaged_data_on_single_levels.nc') # to heavy  to visualzie \n",
    "# ds = xr.open_dataset('/Users/adamprzychodni/Documents/Repos/ml-drought-forecasting/ml-modeling-pipeline/data/02_intermediate/preprocessed_data.nc')"
   ]
  },
  {
   "cell_type": "code",
   "execution_count": null,
   "id": "6975d349",
   "metadata": {},
   "outputs": [],
   "source": [
    "ds"
   ]
  },
  {
   "cell_type": "markdown",
   "id": "0c5f0937",
   "metadata": {},
   "source": [
    "## Data Inspection"
   ]
  },
  {
   "cell_type": "markdown",
   "id": "d63d2a06",
   "metadata": {},
   "source": [
    "### Area of intrest"
   ]
  },
  {
   "cell_type": "code",
   "execution_count": 6,
   "id": "b7af8d81",
   "metadata": {},
   "outputs": [],
   "source": [
    "import xarray as xr\n",
    "import pandas as pd\n",
    "import plotly.express as px\n",
    "import plotly.graph_objects as go\n",
    "from typing import Optional, List\n",
    "from datetime import datetime\n",
    "\n",
    "def visualize_variable_on_map(\n",
    "    dataset: xr.Dataset,\n",
    "    variable: str,\n",
    "    time_dim: str = 'date',\n",
    "    lat_dim: str = 'latitude',\n",
    "    lon_dim: str = 'longitude',\n",
    "    plot_type: str = 'scatter_geo',\n",
    "    downsample_factor: Optional[int] = 1,\n",
    "    projection: str = 'natural earth',\n",
    "    color_scale: str = 'Viridis',\n",
    "    title: Optional[str] = None,\n",
    "    animation_frame: Optional[str] = None,\n",
    "    hover_precision: int = 2,\n",
    "    custom_colorbar_title: Optional[str] = None,\n",
    "    start_date: Optional[str] = None,\n",
    "    end_date: Optional[str] = None,\n",
    "    **kwargs\n",
    ") -> go.Figure:\n",
    "    \"\"\"\n",
    "    Universal function to visualize any variable from an xarray Dataset on a map with optional animation using Plotly.\n",
    "    \n",
    "    Parameters:\n",
    "    - dataset (xr.Dataset): The xarray Dataset containing the data.\n",
    "    - variable (str): The name of the variable to visualize.\n",
    "    - time_dim (str): Name of the time dimension.\n",
    "    - lat_dim (str): Name of the latitude dimension.\n",
    "    - lon_dim (str): Name of the longitude dimension.\n",
    "    - plot_type (str): Type of plot. Options include 'scatter_geo' and 'imshow'.\n",
    "    - downsample_factor (int, optional): Factor by which to downsample spatial data.\n",
    "    - projection (str): Map projection style for Plotly.\n",
    "    - color_scale (str or list): Color scale for the plot.\n",
    "    - title (str, optional): Title of the plot. Uses `GRIB_name` if available.\n",
    "    - animation_frame (str, optional): Dimension to animate over.\n",
    "    - hover_precision (int): Decimal precision for hover data.\n",
    "    - custom_colorbar_title (str, optional): Custom title for the color bar. Uses `GRIB_units` if available.\n",
    "    - start_date (str, optional): Start date for the data in ISO format (YYYY-MM-DD).\n",
    "    - end_date (str, optional): End date for the data in ISO format (YYYY-MM-DD).\n",
    "    - **kwargs: Additional keyword arguments passed to the Plotly plotting functions.\n",
    "    \n",
    "    Returns:\n",
    "    - fig (plotly.graph_objs._figure.Figure): The Plotly figure object.\n",
    "    \"\"\"\n",
    "    \n",
    "    # Extract GRIB metadata for title and colorbar\n",
    "    grib_name = dataset[variable].attrs.get(\"GRIB_name\", variable)\n",
    "    grib_units = dataset[variable].attrs.get(\"GRIB_units\", \"\")\n",
    "    \n",
    "    # Use GRIB_name as title if not provided\n",
    "    if not title:\n",
    "        title = f\"{grib_name}\"\n",
    "        if start_date or end_date:\n",
    "            title += f\" ({start_date or ''} to {end_date or ''})\"\n",
    "    \n",
    "    # Set colorbar title\n",
    "    colorbar_title = custom_colorbar_title if custom_colorbar_title else grib_units\n",
    "\n",
    "    # Extract the DataArray\n",
    "    da = dataset[variable]\n",
    "\n",
    "    # Check if variable dimensions are correct\n",
    "    for dim in [time_dim, lat_dim, lon_dim]:\n",
    "        if dim not in da.dims:\n",
    "            raise ValueError(f\"Dimension '{dim}' not found in variable '{variable}'.\")\n",
    "\n",
    "    # Filter by date range if specified\n",
    "    if start_date or end_date:\n",
    "        if start_date:\n",
    "            da = da.sel({time_dim: da[time_dim] >= pd.to_datetime(start_date)})\n",
    "        if end_date:\n",
    "            da = da.sel({time_dim: da[time_dim] <= pd.to_datetime(end_date)})\n",
    "\n",
    "    # Downsample if required\n",
    "    if downsample_factor > 1:\n",
    "        da = da.coarsen({lat_dim: downsample_factor, lon_dim: downsample_factor}, boundary='trim').mean()\n",
    "\n",
    "    # Plotting\n",
    "    if plot_type == 'scatter_geo':\n",
    "        df = da.to_dataframe().reset_index().dropna(subset=[variable])\n",
    "\n",
    "        fig = px.scatter_geo(\n",
    "            df,\n",
    "            lat=lat_dim,\n",
    "            lon=lon_dim,\n",
    "            color=variable,\n",
    "            animation_frame=animation_frame,\n",
    "            projection=projection,\n",
    "            color_continuous_scale=color_scale,\n",
    "            title=title,\n",
    "            labels={variable: grib_name},\n",
    "            hover_data={variable: f\":.{hover_precision}f\"},\n",
    "            **kwargs\n",
    "        )\n",
    "\n",
    "        fig.update_layout(\n",
    "            coloraxis_colorbar=dict(\n",
    "                title=colorbar_title,\n",
    "                ticks=\"outside\"\n",
    "            )\n",
    "        )\n",
    "    \n",
    "    elif plot_type == 'imshow':\n",
    "        z = da.mean(dim=time_dim).values  # Aggregate over time dimension for a static plot\n",
    "        if da[lat_dim][0] > da[lat_dim][-1]:\n",
    "            z = z[::-1, :]\n",
    "        \n",
    "        fig = px.imshow(\n",
    "            z,\n",
    "            labels=dict(x=lon_dim, y=lat_dim, color=grib_name),\n",
    "            x=da[lon_dim].values,\n",
    "            y=da[lat_dim].values,\n",
    "            color_continuous_scale=color_scale,\n",
    "            title=title,\n",
    "            **kwargs\n",
    "        )\n",
    "        \n",
    "        fig.update_layout(\n",
    "            coloraxis_colorbar=dict(\n",
    "                title=colorbar_title,\n",
    "                ticks=\"outside\"\n",
    "            )\n",
    "        )\n",
    "    else:\n",
    "        raise ValueError(f\"Plot type '{plot_type}' is not supported.\")\n",
    "    \n",
    "    return fig\n"
   ]
  },
  {
   "cell_type": "markdown",
   "id": "3924e6c9",
   "metadata": {},
   "source": [
    "Target variable: swvl3"
   ]
  },
  {
   "cell_type": "code",
   "execution_count": 7,
   "id": "f2169c12",
   "metadata": {},
   "outputs": [],
   "source": [
    "# # Visualize 'sm' with animation using scatter_geo and a specified date range\n",
    "# fig = visualize_variable_on_map(\n",
    "#     dataset=ds,\n",
    "#     variable='swvl3',\n",
    "#     plot_type='scatter_geo',\n",
    "#     animation_frame='date',\n",
    "#     downsample_factor=12,\n",
    "#     color_scale = [\n",
    "#         [0.0, \"darkred\"],        # 0% - extremely dry\n",
    "#         [0.1, \"red\"],            # 10% - very dry\n",
    "#         [0.2, \"orangered\"],      # 20% - dry\n",
    "#         [0.3, \"lightgreen\"],     # 30% - beginning of optimal moisture\n",
    "#         [0.4, \"limegreen\"],      # 40% - optimal moisture for most crops\n",
    "#         [0.5, \"green\"],          # 50% - middle of optimal moisture\n",
    "#         [0.55, \"darkseagreen\"],  # 55% - upper limit of optimal moisture\n",
    "#         [0.6, \"darkgreen\"],      # 60% - end of optimal moisture\n",
    "#         [0.7, \"lightblue\"],      # 70% - moist but not excessive\n",
    "#         [0.8, \"skyblue\"],        # 80% - very moist\n",
    "#         [0.9, \"deepskyblue\"],    # 90% - extremely moist\n",
    "#         [1.0, \"blue\"]            # 100% - very wet\n",
    "#     ]\n",
    "# )\n",
    "# fig.show()"
   ]
  },
  {
   "cell_type": "code",
   "execution_count": 8,
   "id": "e430d80c",
   "metadata": {},
   "outputs": [],
   "source": [
    "# # Visualize 'sm' with animation using scatter_geo and a specified date range\n",
    "# fig = visualize_variable_on_map(\n",
    "#     dataset=ds,\n",
    "#     variable='swvl1',\n",
    "#     plot_type='scatter_geo',\n",
    "#     animation_frame='date',\n",
    "#     downsample_factor=12,\n",
    "#     color_scale = [\n",
    "#         [0.0, \"darkred\"],        # 0% - extremely dry\n",
    "#         [0.1, \"red\"],            # 10% - very dry\n",
    "#         [0.2, \"orangered\"],      # 20% - dry\n",
    "#         [0.3, \"lightgreen\"],     # 30% - beginning of optimal moisture\n",
    "#         [0.4, \"limegreen\"],      # 40% - optimal moisture for most crops\n",
    "#         [0.5, \"green\"],          # 50% - middle of optimal moisture\n",
    "#         [0.55, \"darkseagreen\"],  # 55% - upper limit of optimal moisture\n",
    "#         [0.6, \"darkgreen\"],      # 60% - end of optimal moisture\n",
    "#         [0.7, \"lightblue\"],      # 70% - moist but not excessive\n",
    "#         [0.8, \"skyblue\"],        # 80% - very moist\n",
    "#         [0.9, \"deepskyblue\"],    # 90% - extremely moist\n",
    "#         [1.0, \"blue\"]            # 100% - very wet\n",
    "#     ]\n",
    "# )\n",
    "# fig.show()"
   ]
  },
  {
   "cell_type": "code",
   "execution_count": 9,
   "id": "1087befa",
   "metadata": {},
   "outputs": [],
   "source": [
    "# # Visualize 'sm' with animation using scatter_geo and a specified date range\n",
    "# fig = visualize_variable_on_map(\n",
    "#     dataset=ds,\n",
    "#     variable='swvl2',\n",
    "#     plot_type='scatter_geo',\n",
    "#     animation_frame='date',\n",
    "#     downsample_factor=12,\n",
    "#     color_scale = [\n",
    "#         [0.0, \"darkred\"],        # 0% - extremely dry\n",
    "#         [0.1, \"red\"],            # 10% - very dry\n",
    "#         [0.2, \"orangered\"],      # 20% - dry\n",
    "#         [0.3, \"lightgreen\"],     # 30% - beginning of optimal moisture\n",
    "#         [0.4, \"limegreen\"],      # 40% - optimal moisture for most crops\n",
    "#         [0.5, \"green\"],          # 50% - middle of optimal moisture\n",
    "#         [0.55, \"darkseagreen\"],  # 55% - upper limit of optimal moisture\n",
    "#         [0.6, \"darkgreen\"],      # 60% - end of optimal moisture\n",
    "#         [0.7, \"lightblue\"],      # 70% - moist but not excessive\n",
    "#         [0.8, \"skyblue\"],        # 80% - very moist\n",
    "#         [0.9, \"deepskyblue\"],    # 90% - extremely moist\n",
    "#         [1.0, \"blue\"]            # 100% - very wet\n",
    "#     ]\n",
    "# )\n",
    "# fig.show()"
   ]
  },
  {
   "cell_type": "code",
   "execution_count": 10,
   "id": "e767582b",
   "metadata": {},
   "outputs": [],
   "source": [
    "# # Visualize 'sm' with animation using scatter_geo and a specified date range\n",
    "# fig = visualize_variable_on_map(\n",
    "#     dataset=ds,\n",
    "#     variable='swvl4',\n",
    "#     plot_type='scatter_geo',\n",
    "#     animation_frame='date',\n",
    "#     downsample_factor=12,\n",
    "#     color_scale = [\n",
    "#         [0.0, \"darkred\"],        # 0% - extremely dry\n",
    "#         [0.1, \"red\"],            # 10% - very dry\n",
    "#         [0.2, \"orangered\"],      # 20% - dry\n",
    "#         [0.3, \"lightgreen\"],     # 30% - beginning of optimal moisture\n",
    "#         [0.4, \"limegreen\"],      # 40% - optimal moisture for most crops\n",
    "#         [0.5, \"green\"],          # 50% - middle of optimal moisture\n",
    "#         [0.55, \"darkseagreen\"],  # 55% - upper limit of optimal moisture\n",
    "#         [0.6, \"darkgreen\"],      # 60% - end of optimal moisture\n",
    "#         [0.7, \"lightblue\"],      # 70% - moist but not excessive\n",
    "#         [0.8, \"skyblue\"],        # 80% - very moist\n",
    "#         [0.9, \"deepskyblue\"],    # 90% - extremely moist\n",
    "#         [1.0, \"blue\"]            # 100% - very wet\n",
    "#     ]\n",
    "# )\n",
    "# fig.show()"
   ]
  },
  {
   "cell_type": "code",
   "execution_count": 11,
   "id": "a0bc760f",
   "metadata": {},
   "outputs": [],
   "source": [
    "# variable = 'u10'\n",
    "\n",
    "# fig = visualize_variable_on_map(\n",
    "#     dataset=ds,\n",
    "#     variable=variable,\n",
    "#     plot_type='scatter_geo',\n",
    "#     animation_frame='date',\n",
    "#     downsample_factor=12,\n",
    "#     color_scale = 'Bluered'\n",
    "# )\n",
    "# fig.show()"
   ]
  },
  {
   "cell_type": "code",
   "execution_count": 12,
   "id": "fa4482f4",
   "metadata": {},
   "outputs": [],
   "source": [
    "# variable = 'v10'\n",
    "\n",
    "# fig = visualize_variable_on_map(\n",
    "#     dataset=ds,\n",
    "#     variable=variable,\n",
    "#     plot_type='scatter_geo',\n",
    "#     animation_frame='date',\n",
    "#     downsample_factor=12,\n",
    "#     color_scale = 'Bluered'\n",
    "# )\n",
    "# fig.show()"
   ]
  },
  {
   "cell_type": "code",
   "execution_count": 13,
   "id": "ddc64565",
   "metadata": {},
   "outputs": [],
   "source": [
    "# variable = 't2m'\n",
    "\n",
    "# fig = visualize_variable_on_map(\n",
    "#     dataset=ds,\n",
    "#     variable=variable,\n",
    "#     plot_type='scatter_geo',\n",
    "#     animation_frame='date',\n",
    "#     downsample_factor=12,\n",
    "#     color_scale = 'Thermal'\n",
    "# )\n",
    "# fig.show()"
   ]
  },
  {
   "cell_type": "code",
   "execution_count": 14,
   "id": "55af63d3",
   "metadata": {},
   "outputs": [],
   "source": [
    "# variable = 'sst'\n",
    "\n",
    "# fig = visualize_variable_on_map(\n",
    "#     dataset=ds,\n",
    "#     variable=variable,\n",
    "#     plot_type='scatter_geo',\n",
    "#     animation_frame='date',\n",
    "#     downsample_factor=12,\n",
    "#     color_scale = 'Plasma'\n",
    "# )\n",
    "# fig.show()"
   ]
  },
  {
   "cell_type": "code",
   "execution_count": 15,
   "id": "68ebb555",
   "metadata": {},
   "outputs": [],
   "source": [
    "# variable = 'sp'\n",
    "\n",
    "# fig = visualize_variable_on_map(\n",
    "#     dataset=ds,\n",
    "#     variable=variable,\n",
    "#     plot_type='scatter_geo',\n",
    "#     animation_frame='date',\n",
    "#     downsample_factor=12,\n",
    "#     color_scale = 'Plasma'\n",
    "# )\n",
    "# fig.show()"
   ]
  },
  {
   "cell_type": "code",
   "execution_count": 16,
   "id": "2a1b2d91",
   "metadata": {},
   "outputs": [],
   "source": [
    "# variable = 'tp'\n",
    "\n",
    "# fig = visualize_variable_on_map(\n",
    "#     dataset=ds,\n",
    "#     variable=variable,\n",
    "#     plot_type='scatter_geo',\n",
    "#     animation_frame='date',\n",
    "#     downsample_factor=12,\n",
    "#     color_scale = 'Blues'\n",
    "# )\n",
    "# fig.show()"
   ]
  },
  {
   "cell_type": "code",
   "execution_count": 17,
   "id": "924ba6b7",
   "metadata": {},
   "outputs": [],
   "source": [
    "# variable = 'ssr'\n",
    "\n",
    "# fig = visualize_variable_on_map(\n",
    "#     dataset=ds,\n",
    "#     variable=variable,\n",
    "#     plot_type='scatter_geo',\n",
    "#     animation_frame='date',\n",
    "#     downsample_factor=12,\n",
    "#     color_scale = 'YlOrBr'\n",
    "# )\n",
    "# fig.show()"
   ]
  },
  {
   "cell_type": "code",
   "execution_count": null,
   "id": "b8a5bcc3",
   "metadata": {},
   "outputs": [],
   "source": [
    "# variable = 'tcc'\n",
    "\n",
    "# fig = visualize_variable_on_map(\n",
    "#     dataset=ds,\n",
    "#     variable=variable,\n",
    "#     plot_type='scatter_geo',\n",
    "#     animation_frame='date',\n",
    "#     downsample_factor=12,\n",
    "#     color_scale = 'BuPu'\n",
    "# )\n",
    "# fig.show()"
   ]
  },
  {
   "cell_type": "code",
   "execution_count": 18,
   "id": "e8b0f9f6",
   "metadata": {},
   "outputs": [],
   "source": [
    "# variable = 'cl'\n",
    "\n",
    "# fig = visualize_variable_on_map(\n",
    "#     dataset=ds,\n",
    "#     variable=variable,\n",
    "#     plot_type='scatter_geo',\n",
    "#     animation_frame='date',\n",
    "#     downsample_factor=12,\n",
    "#     color_scale = 'Blues'\n",
    "# )\n",
    "# fig.show()"
   ]
  },
  {
   "cell_type": "markdown",
   "id": "c6f47493",
   "metadata": {},
   "source": [
    "cl - drop - malo wnosi do globalnego modelu "
   ]
  },
  {
   "cell_type": "code",
   "execution_count": 19,
   "id": "28736940",
   "metadata": {},
   "outputs": [],
   "source": [
    "# variable = 'e'\n",
    "\n",
    "# fig = visualize_variable_on_map(\n",
    "#     dataset=ds,\n",
    "#     variable=variable,\n",
    "#     plot_type='scatter_geo',\n",
    "#     animation_frame='date',\n",
    "#     downsample_factor=12,\n",
    "#     color_scale = 'YlGnBu'\n",
    "# )\n",
    "# fig.show()"
   ]
  },
  {
   "cell_type": "code",
   "execution_count": null,
   "id": "c41129ab",
   "metadata": {},
   "outputs": [],
   "source": [
    "# variable = 'ro'\n",
    "\n",
    "# fig = visualize_variable_on_map(\n",
    "#     dataset=ds,\n",
    "#     variable=variable,\n",
    "#     plot_type='scatter_geo',\n",
    "#     animation_frame='date',\n",
    "#     downsample_factor=12,\n",
    "#     color_scale = 'dense'\n",
    "# )\n",
    "# fig.show()"
   ]
  },
  {
   "cell_type": "code",
   "execution_count": null,
   "id": "f77c371e",
   "metadata": {},
   "outputs": [],
   "source": [
    "# variable = 'rsn'\n",
    "\n",
    "# fig = visualize_variable_on_map(\n",
    "#     dataset=ds,\n",
    "#     variable=variable,\n",
    "#     plot_type='scatter_geo',\n",
    "#     animation_frame='date',\n",
    "#     downsample_factor=12,\n",
    "#     color_scale = 'ice'\n",
    "# )\n",
    "# fig.show()"
   ]
  },
  {
   "cell_type": "code",
   "execution_count": 24,
   "id": "010d3a54",
   "metadata": {},
   "outputs": [],
   "source": [
    "# variable = 'stl1'\n",
    "\n",
    "# fig = visualize_variable_on_map(\n",
    "#     dataset=ds,\n",
    "#     variable=variable,\n",
    "#     plot_type='scatter_geo',\n",
    "#     animation_frame='date',\n",
    "#     downsample_factor=12,\n",
    "#     color_scale = 'Hot_r'\n",
    "# )\n",
    "# fig.show()"
   ]
  },
  {
   "cell_type": "code",
   "execution_count": 25,
   "id": "8d066678",
   "metadata": {},
   "outputs": [],
   "source": [
    "# variable = 'cvh'\n",
    "\n",
    "# fig = visualize_variable_on_map(\n",
    "#     dataset=ds,\n",
    "#     variable=variable,\n",
    "#     plot_type='scatter_geo',\n",
    "#     animation_frame='date',\n",
    "#     downsample_factor=12,\n",
    "#     color_scale = 'YlGn'\n",
    "# )\n",
    "# fig.show()"
   ]
  },
  {
   "cell_type": "code",
   "execution_count": 26,
   "id": "1d621451",
   "metadata": {},
   "outputs": [],
   "source": [
    "# variable = 'lai_hv'\n",
    "\n",
    "# fig = visualize_variable_on_map(\n",
    "#     dataset=ds,\n",
    "#     variable=variable,\n",
    "#     plot_type='scatter_geo',\n",
    "#     animation_frame='date',\n",
    "#     downsample_factor=12,\n",
    "#     color_scale = 'tempo'\n",
    "# )\n",
    "# fig.show()"
   ]
  },
  {
   "cell_type": "code",
   "execution_count": 27,
   "id": "ebb0bac6",
   "metadata": {},
   "outputs": [],
   "source": [
    "# variable = 'lai_lv'\n",
    "\n",
    "# fig = visualize_variable_on_map(\n",
    "#     dataset=ds,\n",
    "#     variable=variable,\n",
    "#     plot_type='scatter_geo',\n",
    "#     animation_frame='date',\n",
    "#     downsample_factor=12,\n",
    "#     color_scale = 'tempo'\n",
    "# )\n",
    "# fig.show()"
   ]
  },
  {
   "cell_type": "markdown",
   "id": "d10280a4",
   "metadata": {},
   "source": [
    "potencjalna wysoka korelacja tych dwóch zmiennych "
   ]
  },
  {
   "cell_type": "code",
   "execution_count": 28,
   "id": "0c21534d",
   "metadata": {},
   "outputs": [],
   "source": [
    "# variable = 'tvh'\n",
    "\n",
    "# fig = visualize_variable_on_map(\n",
    "#     dataset=ds,\n",
    "#     variable=variable,\n",
    "#     plot_type='scatter_geo',\n",
    "#     animation_frame='date',\n",
    "#     downsample_factor=12,\n",
    "#     color_scale = 'YlGn_r'\n",
    "# )\n",
    "# fig.show()"
   ]
  },
  {
   "cell_type": "markdown",
   "id": "abcc16ff",
   "metadata": {},
   "source": [
    "potzrebne porownanie z cvh, potenjcalnie niosą tą samą informacje "
   ]
  },
  {
   "cell_type": "code",
   "execution_count": 31,
   "id": "9a253bc2",
   "metadata": {},
   "outputs": [],
   "source": [
    "# variable = 'tvh'\n",
    "\n",
    "# fig = visualize_variable_on_map(\n",
    "#     dataset=ds,\n",
    "#     variable=variable,\n",
    "#     plot_type='scatter_geo',\n",
    "#     animation_frame='date',\n",
    "#     downsample_factor=12,\n",
    "#     color_scale = 'Rainbow'\n",
    "# )\n",
    "# fig.show()"
   ]
  },
  {
   "cell_type": "code",
   "execution_count": 33,
   "id": "562e22dc",
   "metadata": {},
   "outputs": [],
   "source": [
    "# variable = 'tvl'\n",
    "\n",
    "# fig = visualize_variable_on_map(\n",
    "#     dataset=ds,\n",
    "#     variable=variable,\n",
    "#     plot_type='scatter_geo',\n",
    "#     animation_frame='date',\n",
    "#     downsample_factor=12,\n",
    "#     color_scale = 'Rainbow'\n",
    "# )\n",
    "# fig.show()"
   ]
  },
  {
   "cell_type": "code",
   "execution_count": 36,
   "id": "0e564534",
   "metadata": {},
   "outputs": [],
   "source": [
    "# variable = 'z'\n",
    "\n",
    "# fig = visualize_variable_on_map(\n",
    "#     dataset=ds,\n",
    "#     variable=variable,\n",
    "#     plot_type='scatter_geo',\n",
    "#     animation_frame='date',\n",
    "#     downsample_factor=12,\n",
    "#     color_scale = 'RdBu_r'\n",
    "# )\n",
    "# fig.show()"
   ]
  },
  {
   "cell_type": "code",
   "execution_count": 38,
   "id": "2ac1fc70",
   "metadata": {},
   "outputs": [],
   "source": [
    "# variable = 'lsm'\n",
    "\n",
    "# fig = visualize_variable_on_map(\n",
    "#     dataset=ds,\n",
    "#     variable=variable,\n",
    "#     plot_type='scatter_geo',\n",
    "#     animation_frame='date',\n",
    "#     downsample_factor=12,\n",
    "#     color_scale = 'Purpor'\n",
    "# )\n",
    "# fig.show()"
   ]
  },
  {
   "cell_type": "markdown",
   "id": "c79b90ad",
   "metadata": {},
   "source": [
    "# Variable Variability Assessment\n",
    "\n",
    "After reviewing the visualizations, the following observations were made about the variability of each variable:\n",
    "\n",
    "| Variable                               | Variability Level |\n",
    "|----------------------------------------|-------------------|\n",
    "| 10m_u_component_of_wind                | High             |\n",
    "| 10m_v_component_of_wind                | High             |\n",
    "| 2m_temperature                         | High             |\n",
    "| Sea surface temperature                | High             |\n",
    "| Surface pressure                       | Low              |\n",
    "| Total precipitation                    | High             |\n",
    "| Surface net solar radiation            | High             |\n",
    "| Total cloud cover                      | High             |\n",
    "| Lake cover                             | Low              |\n",
    "| Evaporation                            | High             |\n",
    "| Runoff                                 | Low              |\n",
    "| Snow density                           | Medium           |\n",
    "| Soil temperature level 1               | High             |\n",
    "| Soil type                              | Low              |\n",
    "| Volumetric soil water layer 1          | Medium           |\n",
    "| Volumetric soil water layer 2          | Medium           |\n",
    "| Volumetric soil water layer 3 (Target) | Medium           |\n",
    "| Volumetric soil water layer 4          | Medium           |\n",
    "| High vegetation cover                  | Low              |\n",
    "| Leaf area index - High vegetation      | Low              |\n",
    "| Leaf area index - Low vegetation       | Low              |\n",
    "| Low vegetation cover                   | Low              |\n",
    "| Type of high vegetation                | Low              |\n",
    "| Type of low vegetation                 | Low              |\n",
    "| Geopotential                           | Low              |\n",
    "| Land-sea mask                          | Low              |\n",
    "\n",
    "Let's see if those assumptions are true "
   ]
  },
  {
   "cell_type": "code",
   "execution_count": 43,
   "id": "751e5774",
   "metadata": {},
   "outputs": [],
   "source": [
    "import xarray as xr\n",
    "import matplotlib.pyplot as plt\n",
    "\n",
    "def plot_variable_distributions(ds: xr.Dataset) -> None:\n",
    "    \"\"\"\n",
    "    Plot the distribution of each variable in the xarray Dataset.\n",
    "    \n",
    "    Args:\n",
    "        ds (xr.Dataset): The xarray dataset containing variables to visualize.\n",
    "    \"\"\"\n",
    "    # Iterate over each variable in the dataset\n",
    "    for var in ds.data_vars:\n",
    "        data = ds[var].values.flatten()  # Flatten the data for distribution plot\n",
    "        \n",
    "        # Remove NaN values to avoid plotting issues\n",
    "        data = data[~np.isnan(data)]\n",
    "        \n",
    "        plt.figure(figsize=(10, 5))\n",
    "        plt.hist(data, bins=50, alpha=0.7, color='violet')\n",
    "        plt.title(f'Distribution of {var}')\n",
    "        plt.xlabel(var)\n",
    "        plt.ylabel('Frequency')\n",
    "        plt.grid(True)\n",
    "        plt.show()\n",
    "\n",
    "# Usage\n",
    "# plot_variable_distributions(ds)\n"
   ]
  },
  {
   "cell_type": "markdown",
   "id": "3f045ae2",
   "metadata": {},
   "source": []
  },
  {
   "cell_type": "markdown",
   "id": "ce99782c-9c32-4ac1-9f4a-32d043db6047",
   "metadata": {},
   "source": [
    "### Missing values"
   ]
  },
  {
   "cell_type": "code",
   "execution_count": 19,
   "id": "a828f991",
   "metadata": {},
   "outputs": [],
   "source": [
    "def calculate_missing_percentages(df: pl.DataFrame, missing_value: float = None) -> pl.DataFrame:\n",
    "    \"\"\"\n",
    "    Calculates the percentage of missing values in each column of a Polars DataFrame, \n",
    "    considering a specified missing value.\n",
    "\n",
    "    Parameters:\n",
    "    - df (pl.DataFrame): The input DataFrame with potentially missing values.\n",
    "    - missing_value (float, optional): A custom value to treat as missing. Default is None, which means only None values are considered missing.\n",
    "\n",
    "    Returns:\n",
    "    - pl.DataFrame: A DataFrame with one row showing the percentage of missing values for each column.\n",
    "    \"\"\"\n",
    "    total_rows = df.height  # Access the number of rows in the DataFrame\n",
    "    if missing_value is not None:\n",
    "        # Create a condition for custom missing value and None\n",
    "        missing_condition = lambda column: (pl.col(column).is_null() | (pl.col(column) == missing_value)).sum().alias(column)\n",
    "    else:\n",
    "        # Default condition if no custom missing value provided\n",
    "        missing_condition = lambda column: pl.col(column).is_null().sum().alias(column)\n",
    "    \n",
    "    missing_counts = df.select([missing_condition(column) for column in df.columns])\n",
    "    missing_percentage = missing_counts / total_rows * 100\n",
    "    \n",
    "    return missing_percentage\n",
    "\n",
    "# Example usage\n",
    "# missing_percentages = calculate_missing_percentages(polars_df)\n",
    "# missing_percentages\n"
   ]
  },
  {
   "cell_type": "code",
   "execution_count": null,
   "id": "46cdc9a1",
   "metadata": {},
   "outputs": [],
   "source": [
    "missing_percentages = calculate_missing_percentages(polars_df)\n",
    "missing_percentages\n"
   ]
  },
  {
   "cell_type": "code",
   "execution_count": null,
   "id": "070d9bab",
   "metadata": {},
   "outputs": [],
   "source": [
    "# Example usage\n",
    "missing_percentages = calculate_missing_percentages(polars_df, -999.0)\n",
    "missing_percentages"
   ]
  },
  {
   "cell_type": "markdown",
   "id": "5e30a95c-f3f2-433d-97e4-c59ccfa3d74b",
   "metadata": {
    "tags": []
   },
   "source": [
    "## Descriptive statistics"
   ]
  },
  {
   "cell_type": "markdown",
   "id": "b505c8fb-c5ae-48d7-8c36-bc13398e98e9",
   "metadata": {
    "tags": []
   },
   "source": [
    "### Summmary statistics"
   ]
  },
  {
   "cell_type": "code",
   "execution_count": null,
   "id": "efb05a07",
   "metadata": {},
   "outputs": [],
   "source": [
    "summary_stats_polars = polars_df.describe()\n",
    "summary_stats_polars"
   ]
  },
  {
   "cell_type": "code",
   "execution_count": 3,
   "id": "27567676",
   "metadata": {},
   "outputs": [],
   "source": [
    "import polars as pl\n",
    "import matplotlib.pyplot as plt\n",
    "import seaborn as sns\n",
    "\n",
    "def plot_boxplots(polars_df, box_width=0.5):\n",
    "    \"\"\"\n",
    "    Plot horizontal box plots for each variable in the Polars DataFrame except 'time', 'lat', and 'lon',\n",
    "    with an adjustable width for the boxes.\n",
    "\n",
    "    Parameters:\n",
    "    - polars_df (pl.DataFrame): The input Polars DataFrame containing the data to be plotted.\n",
    "    - box_width (float): The width of the box in the box plot. Default is 0.5.\n",
    "\n",
    "    Returns:\n",
    "    None, displays the box plots.\n",
    "    \"\"\"\n",
    "    # Set the aesthetic appearance of the plots\n",
    "    sns.set(style=\"whitegrid\")\n",
    "\n",
    "    # Get the list of columns to plot, excluding 'time', 'lat', and 'lon'\n",
    "    columns_to_plot = [col for col in polars_df.columns if col not in ['time', 'lat', 'lon']]\n",
    "\n",
    "    # Define a color palette\n",
    "    palette = sns.color_palette(\"husl\", len(columns_to_plot))\n",
    "\n",
    "    # Loop through each column and create a separate boxplot\n",
    "    for idx, column in enumerate(columns_to_plot):\n",
    "        # Selecting the column for visualization\n",
    "        values = polars_df[column].to_numpy()  # Convert to NumPy array for Matplotlib\n",
    "\n",
    "        # Creating the horizontal box plot for the current column\n",
    "        plt.figure(figsize=(10, 6))  # Adjust the figure size as needed\n",
    "        sns.boxplot(x=values, color=palette[idx], width=box_width)  # Use seaborn for a colored boxplot with adjusted width\n",
    "        plt.xlabel(f'{column}')  # X-axis Label\n",
    "        plt.title(f'Horizontal Box Plot of {column}')  # Title of the plot\n",
    "        plt.grid(True, linestyle='--', alpha=0.7)  # Enable grid for better readability\n",
    "        plt.show()\n",
    "\n",
    "\n"
   ]
  },
  {
   "cell_type": "code",
   "execution_count": 4,
   "id": "aca85b6f",
   "metadata": {},
   "outputs": [],
   "source": [
    "# # Example usage:\n",
    "# plot_boxplots(polars_df, box_width=0.25)"
   ]
  },
  {
   "cell_type": "code",
   "execution_count": 1,
   "id": "6438d280",
   "metadata": {},
   "outputs": [],
   "source": [
    "import polars as pl\n",
    "import matplotlib.pyplot as plt\n",
    "import matplotlib.cm as cm\n",
    "import numpy as np\n",
    "\n",
    "def plot_histograms(dataframe: pl.DataFrame, exclude_columns: list = ['time', 'lat', 'lon'], n_bins: int = 50):\n",
    "    \"\"\"\n",
    "    Plot histograms for each column in the DataFrame except the specified columns.\n",
    "\n",
    "    Parameters:\n",
    "    - dataframe (pl.DataFrame): The Polars DataFrame containing the data.\n",
    "    - exclude_columns (list): A list of column names to exclude from histogram plotting.\n",
    "    - n_bins (int): Number of bins for each histogram.\n",
    "\n",
    "    This function plots each selected column's histogram in a different color.\n",
    "    \"\"\"\n",
    "    # Selecting the columns that are not in the exclude list\n",
    "    hist_columns = [col for col in dataframe.columns if col not in exclude_columns]\n",
    "\n",
    "    # Creating a figure with subplots; adjust the figure size and layout as necessary\n",
    "    fig, axs = plt.subplots(len(hist_columns), 1, figsize=(10, 5 * len(hist_columns)), tight_layout=True)\n",
    "\n",
    "    # If there's only one column to plot, axs may not be an array, handle single histogram case\n",
    "    if len(hist_columns) == 1:\n",
    "        axs = [axs]\n",
    "\n",
    "    # Create a colormap\n",
    "    colors = cm.viridis(np.linspace(0, 1, len(hist_columns)))\n",
    "\n",
    "    # Plotting histogram for each selected column\n",
    "    for ax, col, color in zip(axs, hist_columns, colors):\n",
    "        # Extract the data for the column\n",
    "        data = dataframe[col].to_numpy()  # Convert to numpy array for compatibility with matplotlib\n",
    "        \n",
    "        # Plot the histogram\n",
    "        ax.hist(data, bins=n_bins, color=color, edgecolor='black')\n",
    "        \n",
    "        # Setting the title for each subplot\n",
    "        ax.set_title(f'Histogram of {col}')\n",
    "        ax.set_xlabel(col)\n",
    "        ax.set_ylabel('Frequency')\n",
    "\n",
    "    # Display the plots\n",
    "    plt.show()\n",
    "\n"
   ]
  },
  {
   "cell_type": "code",
   "execution_count": 2,
   "id": "180d2bd8",
   "metadata": {},
   "outputs": [],
   "source": [
    "# # Example of usage:\n",
    "# plot_histograms(polars_df) \n"
   ]
  },
  {
   "cell_type": "markdown",
   "id": "51068b60",
   "metadata": {},
   "source": []
  },
  {
   "cell_type": "code",
   "execution_count": null,
   "metadata": {},
   "outputs": [],
   "source": []
  },
  {
   "cell_type": "code",
   "execution_count": null,
   "id": "f4890219",
   "metadata": {},
   "outputs": [],
   "source": []
  },
  {
   "cell_type": "markdown",
   "id": "23cd16ef",
   "metadata": {},
   "source": [
    "# Correlations"
   ]
  },
  {
   "cell_type": "markdown",
   "id": "b739c350",
   "metadata": {},
   "source": [
    "## Correlation between all variables "
   ]
  }
 ],
 "metadata": {
  "kernelspec": {
   "display_name": "kedro-environment",
   "language": "python",
   "name": "python3"
  },
  "language_info": {
   "codemirror_mode": {
    "name": "ipython",
    "version": 3
   },
   "file_extension": ".py",
   "mimetype": "text/x-python",
   "name": "python",
   "nbconvert_exporter": "python",
   "pygments_lexer": "ipython3",
   "version": "3.11.10"
  }
 },
 "nbformat": 4,
 "nbformat_minor": 5
}
