{
 "cells": [
  {
   "cell_type": "code",
   "execution_count": 1,
   "metadata": {},
   "outputs": [],
   "source": [
    "import xarray as xr \n",
    "\n",
    "# ds = xr.open_dataset('/teamspace/studios/this_studio/b1ed4f6500ab47792814630e7136eb47.nc')\n",
    "ds = xr.open_dataset('/Users/adamprzychodni/Documents/Repos/ml-drought-forecasting/ml-modeling-pipeline/data/01_raw/e16fe5f664d5290665a25e5afad51ce9.nc')"
   ]
  },
  {
   "cell_type": "code",
   "execution_count": 2,
   "metadata": {},
   "outputs": [
    {
     "data": {
      "text/html": [
       "<div><svg style=\"position: absolute; width: 0; height: 0; overflow: hidden\">\n",
       "<defs>\n",
       "<symbol id=\"icon-database\" viewBox=\"0 0 32 32\">\n",
       "<path d=\"M16 0c-8.837 0-16 2.239-16 5v4c0 2.761 7.163 5 16 5s16-2.239 16-5v-4c0-2.761-7.163-5-16-5z\"></path>\n",
       "<path d=\"M16 17c-8.837 0-16-2.239-16-5v6c0 2.761 7.163 5 16 5s16-2.239 16-5v-6c0 2.761-7.163 5-16 5z\"></path>\n",
       "<path d=\"M16 26c-8.837 0-16-2.239-16-5v6c0 2.761 7.163 5 16 5s16-2.239 16-5v-6c0 2.761-7.163 5-16 5z\"></path>\n",
       "</symbol>\n",
       "<symbol id=\"icon-file-text2\" viewBox=\"0 0 32 32\">\n",
       "<path d=\"M28.681 7.159c-0.694-0.947-1.662-2.053-2.724-3.116s-2.169-2.030-3.116-2.724c-1.612-1.182-2.393-1.319-2.841-1.319h-15.5c-1.378 0-2.5 1.121-2.5 2.5v27c0 1.378 1.122 2.5 2.5 2.5h23c1.378 0 2.5-1.122 2.5-2.5v-19.5c0-0.448-0.137-1.23-1.319-2.841zM24.543 5.457c0.959 0.959 1.712 1.825 2.268 2.543h-4.811v-4.811c0.718 0.556 1.584 1.309 2.543 2.268zM28 29.5c0 0.271-0.229 0.5-0.5 0.5h-23c-0.271 0-0.5-0.229-0.5-0.5v-27c0-0.271 0.229-0.5 0.5-0.5 0 0 15.499-0 15.5 0v7c0 0.552 0.448 1 1 1h7v19.5z\"></path>\n",
       "<path d=\"M23 26h-14c-0.552 0-1-0.448-1-1s0.448-1 1-1h14c0.552 0 1 0.448 1 1s-0.448 1-1 1z\"></path>\n",
       "<path d=\"M23 22h-14c-0.552 0-1-0.448-1-1s0.448-1 1-1h14c0.552 0 1 0.448 1 1s-0.448 1-1 1z\"></path>\n",
       "<path d=\"M23 18h-14c-0.552 0-1-0.448-1-1s0.448-1 1-1h14c0.552 0 1 0.448 1 1s-0.448 1-1 1z\"></path>\n",
       "</symbol>\n",
       "</defs>\n",
       "</svg>\n",
       "<style>/* CSS stylesheet for displaying xarray objects in jupyterlab.\n",
       " *\n",
       " */\n",
       "\n",
       ":root {\n",
       "  --xr-font-color0: var(--jp-content-font-color0, rgba(0, 0, 0, 1));\n",
       "  --xr-font-color2: var(--jp-content-font-color2, rgba(0, 0, 0, 0.54));\n",
       "  --xr-font-color3: var(--jp-content-font-color3, rgba(0, 0, 0, 0.38));\n",
       "  --xr-border-color: var(--jp-border-color2, #e0e0e0);\n",
       "  --xr-disabled-color: var(--jp-layout-color3, #bdbdbd);\n",
       "  --xr-background-color: var(--jp-layout-color0, white);\n",
       "  --xr-background-color-row-even: var(--jp-layout-color1, white);\n",
       "  --xr-background-color-row-odd: var(--jp-layout-color2, #eeeeee);\n",
       "}\n",
       "\n",
       "html[theme=dark],\n",
       "body[data-theme=dark],\n",
       "body.vscode-dark {\n",
       "  --xr-font-color0: rgba(255, 255, 255, 1);\n",
       "  --xr-font-color2: rgba(255, 255, 255, 0.54);\n",
       "  --xr-font-color3: rgba(255, 255, 255, 0.38);\n",
       "  --xr-border-color: #1F1F1F;\n",
       "  --xr-disabled-color: #515151;\n",
       "  --xr-background-color: #111111;\n",
       "  --xr-background-color-row-even: #111111;\n",
       "  --xr-background-color-row-odd: #313131;\n",
       "}\n",
       "\n",
       ".xr-wrap {\n",
       "  display: block !important;\n",
       "  min-width: 300px;\n",
       "  max-width: 700px;\n",
       "}\n",
       "\n",
       ".xr-text-repr-fallback {\n",
       "  /* fallback to plain text repr when CSS is not injected (untrusted notebook) */\n",
       "  display: none;\n",
       "}\n",
       "\n",
       ".xr-header {\n",
       "  padding-top: 6px;\n",
       "  padding-bottom: 6px;\n",
       "  margin-bottom: 4px;\n",
       "  border-bottom: solid 1px var(--xr-border-color);\n",
       "}\n",
       "\n",
       ".xr-header > div,\n",
       ".xr-header > ul {\n",
       "  display: inline;\n",
       "  margin-top: 0;\n",
       "  margin-bottom: 0;\n",
       "}\n",
       "\n",
       ".xr-obj-type,\n",
       ".xr-array-name {\n",
       "  margin-left: 2px;\n",
       "  margin-right: 10px;\n",
       "}\n",
       "\n",
       ".xr-obj-type {\n",
       "  color: var(--xr-font-color2);\n",
       "}\n",
       "\n",
       ".xr-sections {\n",
       "  padding-left: 0 !important;\n",
       "  display: grid;\n",
       "  grid-template-columns: 150px auto auto 1fr 20px 20px;\n",
       "}\n",
       "\n",
       ".xr-section-item {\n",
       "  display: contents;\n",
       "}\n",
       "\n",
       ".xr-section-item input {\n",
       "  display: none;\n",
       "}\n",
       "\n",
       ".xr-section-item input + label {\n",
       "  color: var(--xr-disabled-color);\n",
       "}\n",
       "\n",
       ".xr-section-item input:enabled + label {\n",
       "  cursor: pointer;\n",
       "  color: var(--xr-font-color2);\n",
       "}\n",
       "\n",
       ".xr-section-item input:enabled + label:hover {\n",
       "  color: var(--xr-font-color0);\n",
       "}\n",
       "\n",
       ".xr-section-summary {\n",
       "  grid-column: 1;\n",
       "  color: var(--xr-font-color2);\n",
       "  font-weight: 500;\n",
       "}\n",
       "\n",
       ".xr-section-summary > span {\n",
       "  display: inline-block;\n",
       "  padding-left: 0.5em;\n",
       "}\n",
       "\n",
       ".xr-section-summary-in:disabled + label {\n",
       "  color: var(--xr-font-color2);\n",
       "}\n",
       "\n",
       ".xr-section-summary-in + label:before {\n",
       "  display: inline-block;\n",
       "  content: '►';\n",
       "  font-size: 11px;\n",
       "  width: 15px;\n",
       "  text-align: center;\n",
       "}\n",
       "\n",
       ".xr-section-summary-in:disabled + label:before {\n",
       "  color: var(--xr-disabled-color);\n",
       "}\n",
       "\n",
       ".xr-section-summary-in:checked + label:before {\n",
       "  content: '▼';\n",
       "}\n",
       "\n",
       ".xr-section-summary-in:checked + label > span {\n",
       "  display: none;\n",
       "}\n",
       "\n",
       ".xr-section-summary,\n",
       ".xr-section-inline-details {\n",
       "  padding-top: 4px;\n",
       "  padding-bottom: 4px;\n",
       "}\n",
       "\n",
       ".xr-section-inline-details {\n",
       "  grid-column: 2 / -1;\n",
       "}\n",
       "\n",
       ".xr-section-details {\n",
       "  display: none;\n",
       "  grid-column: 1 / -1;\n",
       "  margin-bottom: 5px;\n",
       "}\n",
       "\n",
       ".xr-section-summary-in:checked ~ .xr-section-details {\n",
       "  display: contents;\n",
       "}\n",
       "\n",
       ".xr-array-wrap {\n",
       "  grid-column: 1 / -1;\n",
       "  display: grid;\n",
       "  grid-template-columns: 20px auto;\n",
       "}\n",
       "\n",
       ".xr-array-wrap > label {\n",
       "  grid-column: 1;\n",
       "  vertical-align: top;\n",
       "}\n",
       "\n",
       ".xr-preview {\n",
       "  color: var(--xr-font-color3);\n",
       "}\n",
       "\n",
       ".xr-array-preview,\n",
       ".xr-array-data {\n",
       "  padding: 0 5px !important;\n",
       "  grid-column: 2;\n",
       "}\n",
       "\n",
       ".xr-array-data,\n",
       ".xr-array-in:checked ~ .xr-array-preview {\n",
       "  display: none;\n",
       "}\n",
       "\n",
       ".xr-array-in:checked ~ .xr-array-data,\n",
       ".xr-array-preview {\n",
       "  display: inline-block;\n",
       "}\n",
       "\n",
       ".xr-dim-list {\n",
       "  display: inline-block !important;\n",
       "  list-style: none;\n",
       "  padding: 0 !important;\n",
       "  margin: 0;\n",
       "}\n",
       "\n",
       ".xr-dim-list li {\n",
       "  display: inline-block;\n",
       "  padding: 0;\n",
       "  margin: 0;\n",
       "}\n",
       "\n",
       ".xr-dim-list:before {\n",
       "  content: '(';\n",
       "}\n",
       "\n",
       ".xr-dim-list:after {\n",
       "  content: ')';\n",
       "}\n",
       "\n",
       ".xr-dim-list li:not(:last-child):after {\n",
       "  content: ',';\n",
       "  padding-right: 5px;\n",
       "}\n",
       "\n",
       ".xr-has-index {\n",
       "  font-weight: bold;\n",
       "}\n",
       "\n",
       ".xr-var-list,\n",
       ".xr-var-item {\n",
       "  display: contents;\n",
       "}\n",
       "\n",
       ".xr-var-item > div,\n",
       ".xr-var-item label,\n",
       ".xr-var-item > .xr-var-name span {\n",
       "  background-color: var(--xr-background-color-row-even);\n",
       "  margin-bottom: 0;\n",
       "}\n",
       "\n",
       ".xr-var-item > .xr-var-name:hover span {\n",
       "  padding-right: 5px;\n",
       "}\n",
       "\n",
       ".xr-var-list > li:nth-child(odd) > div,\n",
       ".xr-var-list > li:nth-child(odd) > label,\n",
       ".xr-var-list > li:nth-child(odd) > .xr-var-name span {\n",
       "  background-color: var(--xr-background-color-row-odd);\n",
       "}\n",
       "\n",
       ".xr-var-name {\n",
       "  grid-column: 1;\n",
       "}\n",
       "\n",
       ".xr-var-dims {\n",
       "  grid-column: 2;\n",
       "}\n",
       "\n",
       ".xr-var-dtype {\n",
       "  grid-column: 3;\n",
       "  text-align: right;\n",
       "  color: var(--xr-font-color2);\n",
       "}\n",
       "\n",
       ".xr-var-preview {\n",
       "  grid-column: 4;\n",
       "}\n",
       "\n",
       ".xr-index-preview {\n",
       "  grid-column: 2 / 5;\n",
       "  color: var(--xr-font-color2);\n",
       "}\n",
       "\n",
       ".xr-var-name,\n",
       ".xr-var-dims,\n",
       ".xr-var-dtype,\n",
       ".xr-preview,\n",
       ".xr-attrs dt {\n",
       "  white-space: nowrap;\n",
       "  overflow: hidden;\n",
       "  text-overflow: ellipsis;\n",
       "  padding-right: 10px;\n",
       "}\n",
       "\n",
       ".xr-var-name:hover,\n",
       ".xr-var-dims:hover,\n",
       ".xr-var-dtype:hover,\n",
       ".xr-attrs dt:hover {\n",
       "  overflow: visible;\n",
       "  width: auto;\n",
       "  z-index: 1;\n",
       "}\n",
       "\n",
       ".xr-var-attrs,\n",
       ".xr-var-data,\n",
       ".xr-index-data {\n",
       "  display: none;\n",
       "  background-color: var(--xr-background-color) !important;\n",
       "  padding-bottom: 5px !important;\n",
       "}\n",
       "\n",
       ".xr-var-attrs-in:checked ~ .xr-var-attrs,\n",
       ".xr-var-data-in:checked ~ .xr-var-data,\n",
       ".xr-index-data-in:checked ~ .xr-index-data {\n",
       "  display: block;\n",
       "}\n",
       "\n",
       ".xr-var-data > table {\n",
       "  float: right;\n",
       "}\n",
       "\n",
       ".xr-var-name span,\n",
       ".xr-var-data,\n",
       ".xr-index-name div,\n",
       ".xr-index-data,\n",
       ".xr-attrs {\n",
       "  padding-left: 25px !important;\n",
       "}\n",
       "\n",
       ".xr-attrs,\n",
       ".xr-var-attrs,\n",
       ".xr-var-data,\n",
       ".xr-index-data {\n",
       "  grid-column: 1 / -1;\n",
       "}\n",
       "\n",
       "dl.xr-attrs {\n",
       "  padding: 0;\n",
       "  margin: 0;\n",
       "  display: grid;\n",
       "  grid-template-columns: 125px auto;\n",
       "}\n",
       "\n",
       ".xr-attrs dt,\n",
       ".xr-attrs dd {\n",
       "  padding: 0;\n",
       "  margin: 0;\n",
       "  float: left;\n",
       "  padding-right: 10px;\n",
       "  width: auto;\n",
       "}\n",
       "\n",
       ".xr-attrs dt {\n",
       "  font-weight: normal;\n",
       "  grid-column: 1;\n",
       "}\n",
       "\n",
       ".xr-attrs dt:hover span {\n",
       "  display: inline-block;\n",
       "  background: var(--xr-background-color);\n",
       "  padding-right: 10px;\n",
       "}\n",
       "\n",
       ".xr-attrs dd {\n",
       "  grid-column: 2;\n",
       "  white-space: pre-wrap;\n",
       "  word-break: break-all;\n",
       "}\n",
       "\n",
       ".xr-icon-database,\n",
       ".xr-icon-file-text2,\n",
       ".xr-no-icon {\n",
       "  display: inline-block;\n",
       "  vertical-align: middle;\n",
       "  width: 1em;\n",
       "  height: 1.5em !important;\n",
       "  stroke-width: 0;\n",
       "  stroke: currentColor;\n",
       "  fill: currentColor;\n",
       "}\n",
       "</style><pre class='xr-text-repr-fallback'>&lt;xarray.Dataset&gt; Size: 2GB\n",
       "Dimensions:    (date: 96, latitude: 721, longitude: 1440)\n",
       "Coordinates:\n",
       "    number     int64 8B ...\n",
       "  * date       (date) int64 768B 20150101 20150201 ... 20221101 20221201\n",
       "  * latitude   (latitude) float64 6kB 90.0 89.75 89.5 ... -89.5 -89.75 -90.0\n",
       "  * longitude  (longitude) float64 12kB 0.0 0.25 0.5 0.75 ... 359.2 359.5 359.8\n",
       "    expver     (date) &lt;U4 2kB ...\n",
       "Data variables:\n",
       "    t2m        (date, latitude, longitude) float32 399MB ...\n",
       "    sst        (date, latitude, longitude) float32 399MB ...\n",
       "    tp         (date, latitude, longitude) float32 399MB ...\n",
       "    pev        (date, latitude, longitude) float32 399MB ...\n",
       "Attributes:\n",
       "    GRIB_centre:             ecmf\n",
       "    GRIB_centreDescription:  European Centre for Medium-Range Weather Forecasts\n",
       "    GRIB_subCentre:          0\n",
       "    Conventions:             CF-1.7\n",
       "    institution:             European Centre for Medium-Range Weather Forecasts\n",
       "    history:                 2024-10-10T08:42 GRIB to CDM+CF via cfgrib-0.9.1...</pre><div class='xr-wrap' style='display:none'><div class='xr-header'><div class='xr-obj-type'>xarray.Dataset</div></div><ul class='xr-sections'><li class='xr-section-item'><input id='section-38f60f05-31e9-413a-8562-4dd217797ce1' class='xr-section-summary-in' type='checkbox' disabled ><label for='section-38f60f05-31e9-413a-8562-4dd217797ce1' class='xr-section-summary'  title='Expand/collapse section'>Dimensions:</label><div class='xr-section-inline-details'><ul class='xr-dim-list'><li><span class='xr-has-index'>date</span>: 96</li><li><span class='xr-has-index'>latitude</span>: 721</li><li><span class='xr-has-index'>longitude</span>: 1440</li></ul></div><div class='xr-section-details'></div></li><li class='xr-section-item'><input id='section-31f2987b-1cfc-4fbf-b4f0-7269990ace9d' class='xr-section-summary-in' type='checkbox'  checked><label for='section-31f2987b-1cfc-4fbf-b4f0-7269990ace9d' class='xr-section-summary' >Coordinates: <span>(5)</span></label><div class='xr-section-inline-details'></div><div class='xr-section-details'><ul class='xr-var-list'><li class='xr-var-item'><div class='xr-var-name'><span>number</span></div><div class='xr-var-dims'>()</div><div class='xr-var-dtype'>int64</div><div class='xr-var-preview xr-preview'>...</div><input id='attrs-de525ab5-8cb4-4f67-91e7-1ce8600847bb' class='xr-var-attrs-in' type='checkbox' ><label for='attrs-de525ab5-8cb4-4f67-91e7-1ce8600847bb' title='Show/Hide attributes'><svg class='icon xr-icon-file-text2'><use xlink:href='#icon-file-text2'></use></svg></label><input id='data-3db5bff8-34a6-4c31-a689-93bf2629c39b' class='xr-var-data-in' type='checkbox'><label for='data-3db5bff8-34a6-4c31-a689-93bf2629c39b' title='Show/Hide data repr'><svg class='icon xr-icon-database'><use xlink:href='#icon-database'></use></svg></label><div class='xr-var-attrs'><dl class='xr-attrs'><dt><span>long_name :</span></dt><dd>ensemble member numerical id</dd><dt><span>units :</span></dt><dd>1</dd><dt><span>standard_name :</span></dt><dd>realization</dd></dl></div><div class='xr-var-data'><pre>[1 values with dtype=int64]</pre></div></li><li class='xr-var-item'><div class='xr-var-name'><span class='xr-has-index'>date</span></div><div class='xr-var-dims'>(date)</div><div class='xr-var-dtype'>int64</div><div class='xr-var-preview xr-preview'>20150101 20150201 ... 20221201</div><input id='attrs-feb6e83c-f9c4-4967-b20d-eb5f34b4f62d' class='xr-var-attrs-in' type='checkbox' ><label for='attrs-feb6e83c-f9c4-4967-b20d-eb5f34b4f62d' title='Show/Hide attributes'><svg class='icon xr-icon-file-text2'><use xlink:href='#icon-file-text2'></use></svg></label><input id='data-e3d001e0-f1d2-45d1-b6c2-1983c257ef00' class='xr-var-data-in' type='checkbox'><label for='data-e3d001e0-f1d2-45d1-b6c2-1983c257ef00' title='Show/Hide data repr'><svg class='icon xr-icon-database'><use xlink:href='#icon-database'></use></svg></label><div class='xr-var-attrs'><dl class='xr-attrs'><dt><span>long_name :</span></dt><dd>original GRIB coordinate for key: date(date)</dd><dt><span>units :</span></dt><dd>1</dd></dl></div><div class='xr-var-data'><pre>array([20150101, 20150201, 20150301, 20150401, 20150501, 20150601, 20150701,\n",
       "       20150801, 20150901, 20151001, 20151101, 20151201, 20160101, 20160201,\n",
       "       20160301, 20160401, 20160501, 20160601, 20160701, 20160801, 20160901,\n",
       "       20161001, 20161101, 20161201, 20170101, 20170201, 20170301, 20170401,\n",
       "       20170501, 20170601, 20170701, 20170801, 20170901, 20171001, 20171101,\n",
       "       20171201, 20180101, 20180201, 20180301, 20180401, 20180501, 20180601,\n",
       "       20180701, 20180801, 20180901, 20181001, 20181101, 20181201, 20190101,\n",
       "       20190201, 20190301, 20190401, 20190501, 20190601, 20190701, 20190801,\n",
       "       20190901, 20191001, 20191101, 20191201, 20200101, 20200201, 20200301,\n",
       "       20200401, 20200501, 20200601, 20200701, 20200801, 20200901, 20201001,\n",
       "       20201101, 20201201, 20210101, 20210201, 20210301, 20210401, 20210501,\n",
       "       20210601, 20210701, 20210801, 20210901, 20211001, 20211101, 20211201,\n",
       "       20220101, 20220201, 20220301, 20220401, 20220501, 20220601, 20220701,\n",
       "       20220801, 20220901, 20221001, 20221101, 20221201])</pre></div></li><li class='xr-var-item'><div class='xr-var-name'><span class='xr-has-index'>latitude</span></div><div class='xr-var-dims'>(latitude)</div><div class='xr-var-dtype'>float64</div><div class='xr-var-preview xr-preview'>90.0 89.75 89.5 ... -89.75 -90.0</div><input id='attrs-a2bf4282-4d84-4858-80f0-f96889ccb5ec' class='xr-var-attrs-in' type='checkbox' ><label for='attrs-a2bf4282-4d84-4858-80f0-f96889ccb5ec' title='Show/Hide attributes'><svg class='icon xr-icon-file-text2'><use xlink:href='#icon-file-text2'></use></svg></label><input id='data-7bce639a-a567-4457-84fd-c33b712c9d1d' class='xr-var-data-in' type='checkbox'><label for='data-7bce639a-a567-4457-84fd-c33b712c9d1d' title='Show/Hide data repr'><svg class='icon xr-icon-database'><use xlink:href='#icon-database'></use></svg></label><div class='xr-var-attrs'><dl class='xr-attrs'><dt><span>units :</span></dt><dd>degrees_north</dd><dt><span>standard_name :</span></dt><dd>latitude</dd><dt><span>long_name :</span></dt><dd>latitude</dd><dt><span>stored_direction :</span></dt><dd>decreasing</dd></dl></div><div class='xr-var-data'><pre>array([ 90.  ,  89.75,  89.5 , ..., -89.5 , -89.75, -90.  ])</pre></div></li><li class='xr-var-item'><div class='xr-var-name'><span class='xr-has-index'>longitude</span></div><div class='xr-var-dims'>(longitude)</div><div class='xr-var-dtype'>float64</div><div class='xr-var-preview xr-preview'>0.0 0.25 0.5 ... 359.2 359.5 359.8</div><input id='attrs-0465eb02-0f40-430e-8cd4-16f9ffe8c511' class='xr-var-attrs-in' type='checkbox' ><label for='attrs-0465eb02-0f40-430e-8cd4-16f9ffe8c511' title='Show/Hide attributes'><svg class='icon xr-icon-file-text2'><use xlink:href='#icon-file-text2'></use></svg></label><input id='data-b63ccd0f-ab46-446b-acb5-98cf7712dea4' class='xr-var-data-in' type='checkbox'><label for='data-b63ccd0f-ab46-446b-acb5-98cf7712dea4' title='Show/Hide data repr'><svg class='icon xr-icon-database'><use xlink:href='#icon-database'></use></svg></label><div class='xr-var-attrs'><dl class='xr-attrs'><dt><span>units :</span></dt><dd>degrees_east</dd><dt><span>standard_name :</span></dt><dd>longitude</dd><dt><span>long_name :</span></dt><dd>longitude</dd></dl></div><div class='xr-var-data'><pre>array([0.0000e+00, 2.5000e-01, 5.0000e-01, ..., 3.5925e+02, 3.5950e+02,\n",
       "       3.5975e+02])</pre></div></li><li class='xr-var-item'><div class='xr-var-name'><span>expver</span></div><div class='xr-var-dims'>(date)</div><div class='xr-var-dtype'>&lt;U4</div><div class='xr-var-preview xr-preview'>...</div><input id='attrs-5de6dfbf-54c4-4e35-b939-50d215968cc4' class='xr-var-attrs-in' type='checkbox' disabled><label for='attrs-5de6dfbf-54c4-4e35-b939-50d215968cc4' title='Show/Hide attributes'><svg class='icon xr-icon-file-text2'><use xlink:href='#icon-file-text2'></use></svg></label><input id='data-b17dc050-3142-461a-8150-0febafa80660' class='xr-var-data-in' type='checkbox'><label for='data-b17dc050-3142-461a-8150-0febafa80660' title='Show/Hide data repr'><svg class='icon xr-icon-database'><use xlink:href='#icon-database'></use></svg></label><div class='xr-var-attrs'><dl class='xr-attrs'></dl></div><div class='xr-var-data'><pre>[96 values with dtype=&lt;U4]</pre></div></li></ul></div></li><li class='xr-section-item'><input id='section-96c570b2-ab4b-4b1b-922b-35fc392148bd' class='xr-section-summary-in' type='checkbox'  checked><label for='section-96c570b2-ab4b-4b1b-922b-35fc392148bd' class='xr-section-summary' >Data variables: <span>(4)</span></label><div class='xr-section-inline-details'></div><div class='xr-section-details'><ul class='xr-var-list'><li class='xr-var-item'><div class='xr-var-name'><span>t2m</span></div><div class='xr-var-dims'>(date, latitude, longitude)</div><div class='xr-var-dtype'>float32</div><div class='xr-var-preview xr-preview'>...</div><input id='attrs-eb7fd3eb-82a9-4fc9-80ce-a38946a5c583' class='xr-var-attrs-in' type='checkbox' ><label for='attrs-eb7fd3eb-82a9-4fc9-80ce-a38946a5c583' title='Show/Hide attributes'><svg class='icon xr-icon-file-text2'><use xlink:href='#icon-file-text2'></use></svg></label><input id='data-aad83ce4-cad8-4cb0-981d-60078212b18a' class='xr-var-data-in' type='checkbox'><label for='data-aad83ce4-cad8-4cb0-981d-60078212b18a' title='Show/Hide data repr'><svg class='icon xr-icon-database'><use xlink:href='#icon-database'></use></svg></label><div class='xr-var-attrs'><dl class='xr-attrs'><dt><span>GRIB_paramId :</span></dt><dd>167</dd><dt><span>GRIB_dataType :</span></dt><dd>an</dd><dt><span>GRIB_numberOfPoints :</span></dt><dd>1038240</dd><dt><span>GRIB_typeOfLevel :</span></dt><dd>surface</dd><dt><span>GRIB_stepUnits :</span></dt><dd>1</dd><dt><span>GRIB_stepType :</span></dt><dd>avgua</dd><dt><span>GRIB_gridType :</span></dt><dd>regular_ll</dd><dt><span>GRIB_uvRelativeToGrid :</span></dt><dd>0</dd><dt><span>GRIB_NV :</span></dt><dd>0</dd><dt><span>GRIB_Nx :</span></dt><dd>1440</dd><dt><span>GRIB_Ny :</span></dt><dd>721</dd><dt><span>GRIB_cfName :</span></dt><dd>unknown</dd><dt><span>GRIB_cfVarName :</span></dt><dd>t2m</dd><dt><span>GRIB_gridDefinitionDescription :</span></dt><dd>Latitude/Longitude Grid</dd><dt><span>GRIB_iDirectionIncrementInDegrees :</span></dt><dd>0.25</dd><dt><span>GRIB_iScansNegatively :</span></dt><dd>0</dd><dt><span>GRIB_jDirectionIncrementInDegrees :</span></dt><dd>0.25</dd><dt><span>GRIB_jPointsAreConsecutive :</span></dt><dd>0</dd><dt><span>GRIB_jScansPositively :</span></dt><dd>0</dd><dt><span>GRIB_latitudeOfFirstGridPointInDegrees :</span></dt><dd>90.0</dd><dt><span>GRIB_latitudeOfLastGridPointInDegrees :</span></dt><dd>-90.0</dd><dt><span>GRIB_longitudeOfFirstGridPointInDegrees :</span></dt><dd>0.0</dd><dt><span>GRIB_longitudeOfLastGridPointInDegrees :</span></dt><dd>359.75</dd><dt><span>GRIB_missingValue :</span></dt><dd>3.4028234663852886e+38</dd><dt><span>GRIB_name :</span></dt><dd>2 metre temperature</dd><dt><span>GRIB_shortName :</span></dt><dd>2t</dd><dt><span>GRIB_totalNumber :</span></dt><dd>0</dd><dt><span>GRIB_units :</span></dt><dd>K</dd><dt><span>long_name :</span></dt><dd>2 metre temperature</dd><dt><span>units :</span></dt><dd>K</dd><dt><span>standard_name :</span></dt><dd>unknown</dd><dt><span>GRIB_surface :</span></dt><dd>0.0</dd></dl></div><div class='xr-var-data'><pre>[99671040 values with dtype=float32]</pre></div></li><li class='xr-var-item'><div class='xr-var-name'><span>sst</span></div><div class='xr-var-dims'>(date, latitude, longitude)</div><div class='xr-var-dtype'>float32</div><div class='xr-var-preview xr-preview'>...</div><input id='attrs-233f413f-0826-44bc-a3e5-2d851bd8c3de' class='xr-var-attrs-in' type='checkbox' ><label for='attrs-233f413f-0826-44bc-a3e5-2d851bd8c3de' title='Show/Hide attributes'><svg class='icon xr-icon-file-text2'><use xlink:href='#icon-file-text2'></use></svg></label><input id='data-1f5473c3-5b55-47f5-a5eb-323ee9ccd18f' class='xr-var-data-in' type='checkbox'><label for='data-1f5473c3-5b55-47f5-a5eb-323ee9ccd18f' title='Show/Hide data repr'><svg class='icon xr-icon-database'><use xlink:href='#icon-database'></use></svg></label><div class='xr-var-attrs'><dl class='xr-attrs'><dt><span>GRIB_paramId :</span></dt><dd>34</dd><dt><span>GRIB_dataType :</span></dt><dd>an</dd><dt><span>GRIB_numberOfPoints :</span></dt><dd>1038240</dd><dt><span>GRIB_typeOfLevel :</span></dt><dd>surface</dd><dt><span>GRIB_stepUnits :</span></dt><dd>1</dd><dt><span>GRIB_stepType :</span></dt><dd>avgua</dd><dt><span>GRIB_gridType :</span></dt><dd>regular_ll</dd><dt><span>GRIB_uvRelativeToGrid :</span></dt><dd>0</dd><dt><span>GRIB_NV :</span></dt><dd>0</dd><dt><span>GRIB_Nx :</span></dt><dd>1440</dd><dt><span>GRIB_Ny :</span></dt><dd>721</dd><dt><span>GRIB_cfName :</span></dt><dd>unknown</dd><dt><span>GRIB_cfVarName :</span></dt><dd>sst</dd><dt><span>GRIB_gridDefinitionDescription :</span></dt><dd>Latitude/Longitude Grid</dd><dt><span>GRIB_iDirectionIncrementInDegrees :</span></dt><dd>0.25</dd><dt><span>GRIB_iScansNegatively :</span></dt><dd>0</dd><dt><span>GRIB_jDirectionIncrementInDegrees :</span></dt><dd>0.25</dd><dt><span>GRIB_jPointsAreConsecutive :</span></dt><dd>0</dd><dt><span>GRIB_jScansPositively :</span></dt><dd>0</dd><dt><span>GRIB_latitudeOfFirstGridPointInDegrees :</span></dt><dd>90.0</dd><dt><span>GRIB_latitudeOfLastGridPointInDegrees :</span></dt><dd>-90.0</dd><dt><span>GRIB_longitudeOfFirstGridPointInDegrees :</span></dt><dd>0.0</dd><dt><span>GRIB_longitudeOfLastGridPointInDegrees :</span></dt><dd>359.75</dd><dt><span>GRIB_missingValue :</span></dt><dd>3.4028234663852886e+38</dd><dt><span>GRIB_name :</span></dt><dd>Sea surface temperature</dd><dt><span>GRIB_shortName :</span></dt><dd>sst</dd><dt><span>GRIB_units :</span></dt><dd>K</dd><dt><span>long_name :</span></dt><dd>Sea surface temperature</dd><dt><span>units :</span></dt><dd>K</dd><dt><span>standard_name :</span></dt><dd>unknown</dd><dt><span>GRIB_surface :</span></dt><dd>0.0</dd></dl></div><div class='xr-var-data'><pre>[99671040 values with dtype=float32]</pre></div></li><li class='xr-var-item'><div class='xr-var-name'><span>tp</span></div><div class='xr-var-dims'>(date, latitude, longitude)</div><div class='xr-var-dtype'>float32</div><div class='xr-var-preview xr-preview'>...</div><input id='attrs-f71cc69a-6161-481c-afad-4838b9d176b8' class='xr-var-attrs-in' type='checkbox' ><label for='attrs-f71cc69a-6161-481c-afad-4838b9d176b8' title='Show/Hide attributes'><svg class='icon xr-icon-file-text2'><use xlink:href='#icon-file-text2'></use></svg></label><input id='data-f8a0f980-11ec-4c14-8a02-7cba4b4e5466' class='xr-var-data-in' type='checkbox'><label for='data-f8a0f980-11ec-4c14-8a02-7cba4b4e5466' title='Show/Hide data repr'><svg class='icon xr-icon-database'><use xlink:href='#icon-database'></use></svg></label><div class='xr-var-attrs'><dl class='xr-attrs'><dt><span>GRIB_paramId :</span></dt><dd>228</dd><dt><span>GRIB_dataType :</span></dt><dd>fc</dd><dt><span>GRIB_numberOfPoints :</span></dt><dd>1038240</dd><dt><span>GRIB_typeOfLevel :</span></dt><dd>surface</dd><dt><span>GRIB_stepUnits :</span></dt><dd>1</dd><dt><span>GRIB_stepType :</span></dt><dd>avgad</dd><dt><span>GRIB_gridType :</span></dt><dd>regular_ll</dd><dt><span>GRIB_uvRelativeToGrid :</span></dt><dd>0</dd><dt><span>GRIB_NV :</span></dt><dd>0</dd><dt><span>GRIB_Nx :</span></dt><dd>1440</dd><dt><span>GRIB_Ny :</span></dt><dd>721</dd><dt><span>GRIB_cfName :</span></dt><dd>unknown</dd><dt><span>GRIB_cfVarName :</span></dt><dd>tp</dd><dt><span>GRIB_gridDefinitionDescription :</span></dt><dd>Latitude/Longitude Grid</dd><dt><span>GRIB_iDirectionIncrementInDegrees :</span></dt><dd>0.25</dd><dt><span>GRIB_iScansNegatively :</span></dt><dd>0</dd><dt><span>GRIB_jDirectionIncrementInDegrees :</span></dt><dd>0.25</dd><dt><span>GRIB_jPointsAreConsecutive :</span></dt><dd>0</dd><dt><span>GRIB_jScansPositively :</span></dt><dd>0</dd><dt><span>GRIB_latitudeOfFirstGridPointInDegrees :</span></dt><dd>90.0</dd><dt><span>GRIB_latitudeOfLastGridPointInDegrees :</span></dt><dd>-90.0</dd><dt><span>GRIB_longitudeOfFirstGridPointInDegrees :</span></dt><dd>0.0</dd><dt><span>GRIB_longitudeOfLastGridPointInDegrees :</span></dt><dd>359.75</dd><dt><span>GRIB_missingValue :</span></dt><dd>3.4028234663852886e+38</dd><dt><span>GRIB_name :</span></dt><dd>Total precipitation</dd><dt><span>GRIB_shortName :</span></dt><dd>tp</dd><dt><span>GRIB_totalNumber :</span></dt><dd>0</dd><dt><span>GRIB_units :</span></dt><dd>m</dd><dt><span>long_name :</span></dt><dd>Total precipitation</dd><dt><span>units :</span></dt><dd>m</dd><dt><span>standard_name :</span></dt><dd>unknown</dd><dt><span>GRIB_surface :</span></dt><dd>0.0</dd></dl></div><div class='xr-var-data'><pre>[99671040 values with dtype=float32]</pre></div></li><li class='xr-var-item'><div class='xr-var-name'><span>pev</span></div><div class='xr-var-dims'>(date, latitude, longitude)</div><div class='xr-var-dtype'>float32</div><div class='xr-var-preview xr-preview'>...</div><input id='attrs-67e035cd-2b93-44d4-8258-32bc2f91bf1d' class='xr-var-attrs-in' type='checkbox' ><label for='attrs-67e035cd-2b93-44d4-8258-32bc2f91bf1d' title='Show/Hide attributes'><svg class='icon xr-icon-file-text2'><use xlink:href='#icon-file-text2'></use></svg></label><input id='data-cd53572d-34e7-4b44-bbc2-86ade14df7a8' class='xr-var-data-in' type='checkbox'><label for='data-cd53572d-34e7-4b44-bbc2-86ade14df7a8' title='Show/Hide data repr'><svg class='icon xr-icon-database'><use xlink:href='#icon-database'></use></svg></label><div class='xr-var-attrs'><dl class='xr-attrs'><dt><span>GRIB_paramId :</span></dt><dd>228251</dd><dt><span>GRIB_dataType :</span></dt><dd>fc</dd><dt><span>GRIB_numberOfPoints :</span></dt><dd>1038240</dd><dt><span>GRIB_typeOfLevel :</span></dt><dd>surface</dd><dt><span>GRIB_stepUnits :</span></dt><dd>1</dd><dt><span>GRIB_stepType :</span></dt><dd>avgad</dd><dt><span>GRIB_gridType :</span></dt><dd>regular_ll</dd><dt><span>GRIB_uvRelativeToGrid :</span></dt><dd>0</dd><dt><span>GRIB_NV :</span></dt><dd>0</dd><dt><span>GRIB_Nx :</span></dt><dd>1440</dd><dt><span>GRIB_Ny :</span></dt><dd>721</dd><dt><span>GRIB_cfName :</span></dt><dd>unknown</dd><dt><span>GRIB_cfVarName :</span></dt><dd>pev</dd><dt><span>GRIB_gridDefinitionDescription :</span></dt><dd>Latitude/Longitude Grid</dd><dt><span>GRIB_iDirectionIncrementInDegrees :</span></dt><dd>0.25</dd><dt><span>GRIB_iScansNegatively :</span></dt><dd>0</dd><dt><span>GRIB_jDirectionIncrementInDegrees :</span></dt><dd>0.25</dd><dt><span>GRIB_jPointsAreConsecutive :</span></dt><dd>0</dd><dt><span>GRIB_jScansPositively :</span></dt><dd>0</dd><dt><span>GRIB_latitudeOfFirstGridPointInDegrees :</span></dt><dd>90.0</dd><dt><span>GRIB_latitudeOfLastGridPointInDegrees :</span></dt><dd>-90.0</dd><dt><span>GRIB_longitudeOfFirstGridPointInDegrees :</span></dt><dd>0.0</dd><dt><span>GRIB_longitudeOfLastGridPointInDegrees :</span></dt><dd>359.75</dd><dt><span>GRIB_missingValue :</span></dt><dd>3.4028234663852886e+38</dd><dt><span>GRIB_name :</span></dt><dd>Potential evaporation</dd><dt><span>GRIB_shortName :</span></dt><dd>pev</dd><dt><span>GRIB_totalNumber :</span></dt><dd>0</dd><dt><span>GRIB_units :</span></dt><dd>m</dd><dt><span>long_name :</span></dt><dd>Potential evaporation</dd><dt><span>units :</span></dt><dd>m</dd><dt><span>standard_name :</span></dt><dd>unknown</dd><dt><span>GRIB_surface :</span></dt><dd>0.0</dd></dl></div><div class='xr-var-data'><pre>[99671040 values with dtype=float32]</pre></div></li></ul></div></li><li class='xr-section-item'><input id='section-867e1a83-5ec9-44fa-8fb0-b34be670145f' class='xr-section-summary-in' type='checkbox'  ><label for='section-867e1a83-5ec9-44fa-8fb0-b34be670145f' class='xr-section-summary' >Indexes: <span>(3)</span></label><div class='xr-section-inline-details'></div><div class='xr-section-details'><ul class='xr-var-list'><li class='xr-var-item'><div class='xr-index-name'><div>date</div></div><div class='xr-index-preview'>PandasIndex</div><div></div><input id='index-d5503998-cbad-4e5a-bf9d-4cf1d21c8fb4' class='xr-index-data-in' type='checkbox'/><label for='index-d5503998-cbad-4e5a-bf9d-4cf1d21c8fb4' title='Show/Hide index repr'><svg class='icon xr-icon-database'><use xlink:href='#icon-database'></use></svg></label><div class='xr-index-data'><pre>PandasIndex(Index([20150101, 20150201, 20150301, 20150401, 20150501, 20150601, 20150701,\n",
       "       20150801, 20150901, 20151001, 20151101, 20151201, 20160101, 20160201,\n",
       "       20160301, 20160401, 20160501, 20160601, 20160701, 20160801, 20160901,\n",
       "       20161001, 20161101, 20161201, 20170101, 20170201, 20170301, 20170401,\n",
       "       20170501, 20170601, 20170701, 20170801, 20170901, 20171001, 20171101,\n",
       "       20171201, 20180101, 20180201, 20180301, 20180401, 20180501, 20180601,\n",
       "       20180701, 20180801, 20180901, 20181001, 20181101, 20181201, 20190101,\n",
       "       20190201, 20190301, 20190401, 20190501, 20190601, 20190701, 20190801,\n",
       "       20190901, 20191001, 20191101, 20191201, 20200101, 20200201, 20200301,\n",
       "       20200401, 20200501, 20200601, 20200701, 20200801, 20200901, 20201001,\n",
       "       20201101, 20201201, 20210101, 20210201, 20210301, 20210401, 20210501,\n",
       "       20210601, 20210701, 20210801, 20210901, 20211001, 20211101, 20211201,\n",
       "       20220101, 20220201, 20220301, 20220401, 20220501, 20220601, 20220701,\n",
       "       20220801, 20220901, 20221001, 20221101, 20221201],\n",
       "      dtype=&#x27;int64&#x27;, name=&#x27;date&#x27;))</pre></div></li><li class='xr-var-item'><div class='xr-index-name'><div>latitude</div></div><div class='xr-index-preview'>PandasIndex</div><div></div><input id='index-5bb32784-9d86-445a-86cb-80f11d7cee88' class='xr-index-data-in' type='checkbox'/><label for='index-5bb32784-9d86-445a-86cb-80f11d7cee88' title='Show/Hide index repr'><svg class='icon xr-icon-database'><use xlink:href='#icon-database'></use></svg></label><div class='xr-index-data'><pre>PandasIndex(Index([  90.0,  89.75,   89.5,  89.25,   89.0,  88.75,   88.5,  88.25,   88.0,\n",
       "        87.75,\n",
       "       ...\n",
       "       -87.75,  -88.0, -88.25,  -88.5, -88.75,  -89.0, -89.25,  -89.5, -89.75,\n",
       "        -90.0],\n",
       "      dtype=&#x27;float64&#x27;, name=&#x27;latitude&#x27;, length=721))</pre></div></li><li class='xr-var-item'><div class='xr-index-name'><div>longitude</div></div><div class='xr-index-preview'>PandasIndex</div><div></div><input id='index-fd2efefa-9908-4ec7-892c-caf3d639254c' class='xr-index-data-in' type='checkbox'/><label for='index-fd2efefa-9908-4ec7-892c-caf3d639254c' title='Show/Hide index repr'><svg class='icon xr-icon-database'><use xlink:href='#icon-database'></use></svg></label><div class='xr-index-data'><pre>PandasIndex(Index([   0.0,   0.25,    0.5,   0.75,    1.0,   1.25,    1.5,   1.75,    2.0,\n",
       "         2.25,\n",
       "       ...\n",
       "        357.5, 357.75,  358.0, 358.25,  358.5, 358.75,  359.0, 359.25,  359.5,\n",
       "       359.75],\n",
       "      dtype=&#x27;float64&#x27;, name=&#x27;longitude&#x27;, length=1440))</pre></div></li></ul></div></li><li class='xr-section-item'><input id='section-17bda118-035c-4bd1-ae79-45eb8593fa20' class='xr-section-summary-in' type='checkbox'  checked><label for='section-17bda118-035c-4bd1-ae79-45eb8593fa20' class='xr-section-summary' >Attributes: <span>(6)</span></label><div class='xr-section-inline-details'></div><div class='xr-section-details'><dl class='xr-attrs'><dt><span>GRIB_centre :</span></dt><dd>ecmf</dd><dt><span>GRIB_centreDescription :</span></dt><dd>European Centre for Medium-Range Weather Forecasts</dd><dt><span>GRIB_subCentre :</span></dt><dd>0</dd><dt><span>Conventions :</span></dt><dd>CF-1.7</dd><dt><span>institution :</span></dt><dd>European Centre for Medium-Range Weather Forecasts</dd><dt><span>history :</span></dt><dd>2024-10-10T08:42 GRIB to CDM+CF via cfgrib-0.9.14.1/ecCodes-2.36.0 with {&quot;source&quot;: &quot;data.grib&quot;, &quot;filter_by_keys&quot;: {}, &quot;encode_cf&quot;: [&quot;parameter&quot;, &quot;time&quot;, &quot;geography&quot;, &quot;vertical&quot;]}</dd></dl></div></li></ul></div></div>"
      ],
      "text/plain": [
       "<xarray.Dataset> Size: 2GB\n",
       "Dimensions:    (date: 96, latitude: 721, longitude: 1440)\n",
       "Coordinates:\n",
       "    number     int64 8B ...\n",
       "  * date       (date) int64 768B 20150101 20150201 ... 20221101 20221201\n",
       "  * latitude   (latitude) float64 6kB 90.0 89.75 89.5 ... -89.5 -89.75 -90.0\n",
       "  * longitude  (longitude) float64 12kB 0.0 0.25 0.5 0.75 ... 359.2 359.5 359.8\n",
       "    expver     (date) <U4 2kB ...\n",
       "Data variables:\n",
       "    t2m        (date, latitude, longitude) float32 399MB ...\n",
       "    sst        (date, latitude, longitude) float32 399MB ...\n",
       "    tp         (date, latitude, longitude) float32 399MB ...\n",
       "    pev        (date, latitude, longitude) float32 399MB ...\n",
       "Attributes:\n",
       "    GRIB_centre:             ecmf\n",
       "    GRIB_centreDescription:  European Centre for Medium-Range Weather Forecasts\n",
       "    GRIB_subCentre:          0\n",
       "    Conventions:             CF-1.7\n",
       "    institution:             European Centre for Medium-Range Weather Forecasts\n",
       "    history:                 2024-10-10T08:42 GRIB to CDM+CF via cfgrib-0.9.1..."
      ]
     },
     "execution_count": 2,
     "metadata": {},
     "output_type": "execute_result"
    }
   ],
   "source": [
    "ds "
   ]
  },
  {
   "cell_type": "code",
   "execution_count": 3,
   "metadata": {},
   "outputs": [],
   "source": [
    "import numpy as np\n",
    "import xarray as xr\n",
    "\n",
    "# Step 1: Define target grid with 0.5° resolution\n",
    "target_lat = np.arange(-90, 90.1, 1)   # From -90 to 90 degrees inclusive\n",
    "target_lon = np.arange(0, 360, 1)      # From 0 to 359.5 degrees inclusive\n",
    "\n",
    "# Step 2: Create target grid Dataset (optional, for reference)\n",
    "target_grid = xr.Dataset(\n",
    "    {\n",
    "        \"latitude\": ([\"latitude\"], target_lat),\n",
    "        \"longitude\": ([\"longitude\"], target_lon),\n",
    "    }\n",
    ")\n",
    "\n",
    "# Step 3: Ensure latitude is ascending\n",
    "if ds.latitude[0] > ds.latitude[-1]:\n",
    "    ds = ds.sortby(\"latitude\")\n",
    "\n",
    "# Step 4: Perform interpolation\n",
    "ds_regridded = ds.interp(latitude=target_lat, longitude=target_lon, method=\"linear\")\n"
   ]
  },
  {
   "cell_type": "code",
   "execution_count": 4,
   "metadata": {},
   "outputs": [],
   "source": [
    "ds = ds_regridded"
   ]
  },
  {
   "cell_type": "code",
   "execution_count": 5,
   "metadata": {},
   "outputs": [],
   "source": [
    "# ds = ds.sel(longitude=slice(0, 10))\n",
    "ds = ds.sel(latitude=slice(-30, 30))"
   ]
  },
  {
   "cell_type": "code",
   "execution_count": 6,
   "metadata": {},
   "outputs": [],
   "source": [
    "import pandas as pd\n",
    "\n",
    "# Convert 'date' coordinate to datetime if not already\n",
    "ds['date'] = pd.to_datetime(ds['date'].astype(str), format='%Y%m%d')"
   ]
  },
  {
   "cell_type": "code",
   "execution_count": 7,
   "metadata": {},
   "outputs": [
    {
     "name": "stderr",
     "output_type": "stream",
     "text": [
      "/usr/local/Caskroom/miniconda/base/envs/kedro-environment/lib/python3.11/site-packages/scipy/stats/_continuous_distns.py:2594: RuntimeWarning: overflow encountered in exp\n",
      "  Cx = (1+np.exp(-x))**(-c)\n"
     ]
    },
    {
     "data": {
      "image/png": "[encoded data removed]",
      "text/plain": [
       "<Figure size 1200x600 with 2 Axes>"
      ]
     },
     "metadata": {},
     "output_type": "display_data"
    }
   ],
   "source": [
    "import xarray as xr\n",
    "import numpy as np\n",
    "import pandas as pd\n",
    "from scipy.stats import genlogistic, norm\n",
    "import matplotlib.pyplot as plt\n",
    "import cartopy.crs as ccrs\n",
    "\n",
    "# Assuming your dataset is loaded into ds\n",
    "\n",
    "# Convert units from meters to millimeters\n",
    "ds['tp_mm'] = ds['tp'] * 1000  # Convert to mm\n",
    "ds['pev_mm'] = ds['pev'] * 1000  # Convert to mm\n",
    "\n",
    "# Calculate water balance D = P - PET\n",
    "ds['D'] = ds['tp_mm'] - ds['pev_mm']\n",
    "\n",
    "# Set the time scale for SPEI calculation\n",
    "scale = 12  # 12 months\n",
    "\n",
    "# Aggregate over the time scale\n",
    "D_rolling = ds['D'].rolling(date=scale, center=False).sum().dropna('date')\n",
    "\n",
    "# Define the function to calculate SPEI\n",
    "def calculate_spei(series):\n",
    "    # Remove NaN values\n",
    "    series = series[~np.isnan(series)]\n",
    "    \n",
    "    if len(series) < 3:\n",
    "        # Not enough data to fit the distribution\n",
    "        return np.full(series.shape, np.nan)\n",
    "    \n",
    "    # Fit the log-logistic distribution\n",
    "    try:\n",
    "        c, loc, scale_param = genlogistic.fit(series)\n",
    "    except Exception as e:\n",
    "        # If fitting fails, return NaNs\n",
    "        return np.full(series.shape, np.nan)\n",
    "    \n",
    "    # Calculate cumulative probabilities\n",
    "    probs = genlogistic.cdf(series, c, loc=loc, scale=scale_param)\n",
    "    \n",
    "    # Ensure probabilities are within valid range\n",
    "    probs = np.clip(probs, 1e-6, 1 - 1e-6)\n",
    "    \n",
    "    # Convert cumulative probabilities to SPEI values (standard normal variates)\n",
    "    spei_values = norm.ppf(probs)\n",
    "    \n",
    "    return spei_values\n",
    "\n",
    "# Ensure the data is chunked appropriately for dask parallelization\n",
    "D_rolling_chunked = D_rolling.chunk({'latitude': 10, 'longitude': 10})\n",
    "\n",
    "# Apply the function across all grid points\n",
    "spei = xr.apply_ufunc(\n",
    "    calculate_spei,\n",
    "    D_rolling_chunked,\n",
    "    input_core_dims=[['date']],\n",
    "    output_core_dims=[['date']],\n",
    "    vectorize=True,\n",
    "    dask='parallelized',\n",
    "    output_dtypes=[float],\n",
    "    keep_attrs=True\n",
    ")\n",
    "\n",
    "# Compute the results\n",
    "spei = spei.compute()\n",
    "\n",
    "# Assign coordinates and attributes\n",
    "spei = spei.assign_coords({\n",
    "    'latitude': ds.latitude,\n",
    "    'longitude': ds.longitude,\n",
    "    'date': D_rolling.date\n",
    "})\n",
    "\n",
    "spei.name = f'SPEI_{scale}'\n",
    "spei.attrs['long_name'] = f'Standardized Precipitation Evapotranspiration Index ({scale}-month scale)'\n",
    "spei.attrs['units'] = 'Standard Deviations'\n",
    "\n",
    "# Visualize the SPEI for a specific date\n",
    "plot_date = spei.date.values[-1]\n",
    "\n",
    "plt.figure(figsize=(12, 6))\n",
    "ax = plt.axes(projection=ccrs.PlateCarree())\n",
    "spei.sel(date=plot_date).plot(\n",
    "    ax=ax,\n",
    "    transform=ccrs.PlateCarree(),\n",
    "    cmap='RdBu',\n",
    "    vmin=-3,\n",
    "    vmax=3,\n",
    "    cbar_kwargs={'label': 'SPEI'}\n",
    ")\n",
    "ax.coastlines()\n",
    "ax.set_title(f'SPEI ({scale}-month) on {pd.to_datetime(str(plot_date)).strftime(\"%Y-%m\")}')\n",
    "plt.show()\n"
   ]
  },
  {
   "cell_type": "code",
   "execution_count": 8,
   "metadata": {},
   "outputs": [
    {
     "data": {
      "text/html": [
       "<div><svg style=\"position: absolute; width: 0; height: 0; overflow: hidden\">\n",
       "<defs>\n",
       "<symbol id=\"icon-database\" viewBox=\"0 0 32 32\">\n",
       "<path d=\"M16 0c-8.837 0-16 2.239-16 5v4c0 2.761 7.163 5 16 5s16-2.239 16-5v-4c0-2.761-7.163-5-16-5z\"></path>\n",
       "<path d=\"M16 17c-8.837 0-16-2.239-16-5v6c0 2.761 7.163 5 16 5s16-2.239 16-5v-6c0 2.761-7.163 5-16 5z\"></path>\n",
       "<path d=\"M16 26c-8.837 0-16-2.239-16-5v6c0 2.761 7.163 5 16 5s16-2.239 16-5v-6c0 2.761-7.163 5-16 5z\"></path>\n",
       "</symbol>\n",
       "<symbol id=\"icon-file-text2\" viewBox=\"0 0 32 32\">\n",
       "<path d=\"M28.681 7.159c-0.694-0.947-1.662-2.053-2.724-3.116s-2.169-2.030-3.116-2.724c-1.612-1.182-2.393-1.319-2.841-1.319h-15.5c-1.378 0-2.5 1.121-2.5 2.5v27c0 1.378 1.122 2.5 2.5 2.5h23c1.378 0 2.5-1.122 2.5-2.5v-19.5c0-0.448-0.137-1.23-1.319-2.841zM24.543 5.457c0.959 0.959 1.712 1.825 2.268 2.543h-4.811v-4.811c0.718 0.556 1.584 1.309 2.543 2.268zM28 29.5c0 0.271-0.229 0.5-0.5 0.5h-23c-0.271 0-0.5-0.229-0.5-0.5v-27c0-0.271 0.229-0.5 0.5-0.5 0 0 15.499-0 15.5 0v7c0 0.552 0.448 1 1 1h7v19.5z\"></path>\n",
       "<path d=\"M23 26h-14c-0.552 0-1-0.448-1-1s0.448-1 1-1h14c0.552 0 1 0.448 1 1s-0.448 1-1 1z\"></path>\n",
       "<path d=\"M23 22h-14c-0.552 0-1-0.448-1-1s0.448-1 1-1h14c0.552 0 1 0.448 1 1s-0.448 1-1 1z\"></path>\n",
       "<path d=\"M23 18h-14c-0.552 0-1-0.448-1-1s0.448-1 1-1h14c0.552 0 1 0.448 1 1s-0.448 1-1 1z\"></path>\n",
       "</symbol>\n",
       "</defs>\n",
       "</svg>\n",
       "<style>/* CSS stylesheet for displaying xarray objects in jupyterlab.\n",
       " *\n",
       " */\n",
       "\n",
       ":root {\n",
       "  --xr-font-color0: var(--jp-content-font-color0, rgba(0, 0, 0, 1));\n",
       "  --xr-font-color2: var(--jp-content-font-color2, rgba(0, 0, 0, 0.54));\n",
       "  --xr-font-color3: var(--jp-content-font-color3, rgba(0, 0, 0, 0.38));\n",
       "  --xr-border-color: var(--jp-border-color2, #e0e0e0);\n",
       "  --xr-disabled-color: var(--jp-layout-color3, #bdbdbd);\n",
       "  --xr-background-color: var(--jp-layout-color0, white);\n",
       "  --xr-background-color-row-even: var(--jp-layout-color1, white);\n",
       "  --xr-background-color-row-odd: var(--jp-layout-color2, #eeeeee);\n",
       "}\n",
       "\n",
       "html[theme=dark],\n",
       "body[data-theme=dark],\n",
       "body.vscode-dark {\n",
       "  --xr-font-color0: rgba(255, 255, 255, 1);\n",
       "  --xr-font-color2: rgba(255, 255, 255, 0.54);\n",
       "  --xr-font-color3: rgba(255, 255, 255, 0.38);\n",
       "  --xr-border-color: #1F1F1F;\n",
       "  --xr-disabled-color: #515151;\n",
       "  --xr-background-color: #111111;\n",
       "  --xr-background-color-row-even: #111111;\n",
       "  --xr-background-color-row-odd: #313131;\n",
       "}\n",
       "\n",
       ".xr-wrap {\n",
       "  display: block !important;\n",
       "  min-width: 300px;\n",
       "  max-width: 700px;\n",
       "}\n",
       "\n",
       ".xr-text-repr-fallback {\n",
       "  /* fallback to plain text repr when CSS is not injected (untrusted notebook) */\n",
       "  display: none;\n",
       "}\n",
       "\n",
       ".xr-header {\n",
       "  padding-top: 6px;\n",
       "  padding-bottom: 6px;\n",
       "  margin-bottom: 4px;\n",
       "  border-bottom: solid 1px var(--xr-border-color);\n",
       "}\n",
       "\n",
       ".xr-header > div,\n",
       ".xr-header > ul {\n",
       "  display: inline;\n",
       "  margin-top: 0;\n",
       "  margin-bottom: 0;\n",
       "}\n",
       "\n",
       ".xr-obj-type,\n",
       ".xr-array-name {\n",
       "  margin-left: 2px;\n",
       "  margin-right: 10px;\n",
       "}\n",
       "\n",
       ".xr-obj-type {\n",
       "  color: var(--xr-font-color2);\n",
       "}\n",
       "\n",
       ".xr-sections {\n",
       "  padding-left: 0 !important;\n",
       "  display: grid;\n",
       "  grid-template-columns: 150px auto auto 1fr 20px 20px;\n",
       "}\n",
       "\n",
       ".xr-section-item {\n",
       "  display: contents;\n",
       "}\n",
       "\n",
       ".xr-section-item input {\n",
       "  display: none;\n",
       "}\n",
       "\n",
       ".xr-section-item input + label {\n",
       "  color: var(--xr-disabled-color);\n",
       "}\n",
       "\n",
       ".xr-section-item input:enabled + label {\n",
       "  cursor: pointer;\n",
       "  color: var(--xr-font-color2);\n",
       "}\n",
       "\n",
       ".xr-section-item input:enabled + label:hover {\n",
       "  color: var(--xr-font-color0);\n",
       "}\n",
       "\n",
       ".xr-section-summary {\n",
       "  grid-column: 1;\n",
       "  color: var(--xr-font-color2);\n",
       "  font-weight: 500;\n",
       "}\n",
       "\n",
       ".xr-section-summary > span {\n",
       "  display: inline-block;\n",
       "  padding-left: 0.5em;\n",
       "}\n",
       "\n",
       ".xr-section-summary-in:disabled + label {\n",
       "  color: var(--xr-font-color2);\n",
       "}\n",
       "\n",
       ".xr-section-summary-in + label:before {\n",
       "  display: inline-block;\n",
       "  content: '►';\n",
       "  font-size: 11px;\n",
       "  width: 15px;\n",
       "  text-align: center;\n",
       "}\n",
       "\n",
       ".xr-section-summary-in:disabled + label:before {\n",
       "  color: var(--xr-disabled-color);\n",
       "}\n",
       "\n",
       ".xr-section-summary-in:checked + label:before {\n",
       "  content: '▼';\n",
       "}\n",
       "\n",
       ".xr-section-summary-in:checked + label > span {\n",
       "  display: none;\n",
       "}\n",
       "\n",
       ".xr-section-summary,\n",
       ".xr-section-inline-details {\n",
       "  padding-top: 4px;\n",
       "  padding-bottom: 4px;\n",
       "}\n",
       "\n",
       ".xr-section-inline-details {\n",
       "  grid-column: 2 / -1;\n",
       "}\n",
       "\n",
       ".xr-section-details {\n",
       "  display: none;\n",
       "  grid-column: 1 / -1;\n",
       "  margin-bottom: 5px;\n",
       "}\n",
       "\n",
       ".xr-section-summary-in:checked ~ .xr-section-details {\n",
       "  display: contents;\n",
       "}\n",
       "\n",
       ".xr-array-wrap {\n",
       "  grid-column: 1 / -1;\n",
       "  display: grid;\n",
       "  grid-template-columns: 20px auto;\n",
       "}\n",
       "\n",
       ".xr-array-wrap > label {\n",
       "  grid-column: 1;\n",
       "  vertical-align: top;\n",
       "}\n",
       "\n",
       ".xr-preview {\n",
       "  color: var(--xr-font-color3);\n",
       "}\n",
       "\n",
       ".xr-array-preview,\n",
       ".xr-array-data {\n",
       "  padding: 0 5px !important;\n",
       "  grid-column: 2;\n",
       "}\n",
       "\n",
       ".xr-array-data,\n",
       ".xr-array-in:checked ~ .xr-array-preview {\n",
       "  display: none;\n",
       "}\n",
       "\n",
       ".xr-array-in:checked ~ .xr-array-data,\n",
       ".xr-array-preview {\n",
       "  display: inline-block;\n",
       "}\n",
       "\n",
       ".xr-dim-list {\n",
       "  display: inline-block !important;\n",
       "  list-style: none;\n",
       "  padding: 0 !important;\n",
       "  margin: 0;\n",
       "}\n",
       "\n",
       ".xr-dim-list li {\n",
       "  display: inline-block;\n",
       "  padding: 0;\n",
       "  margin: 0;\n",
       "}\n",
       "\n",
       ".xr-dim-list:before {\n",
       "  content: '(';\n",
       "}\n",
       "\n",
       ".xr-dim-list:after {\n",
       "  content: ')';\n",
       "}\n",
       "\n",
       ".xr-dim-list li:not(:last-child):after {\n",
       "  content: ',';\n",
       "  padding-right: 5px;\n",
       "}\n",
       "\n",
       ".xr-has-index {\n",
       "  font-weight: bold;\n",
       "}\n",
       "\n",
       ".xr-var-list,\n",
       ".xr-var-item {\n",
       "  display: contents;\n",
       "}\n",
       "\n",
       ".xr-var-item > div,\n",
       ".xr-var-item label,\n",
       ".xr-var-item > .xr-var-name span {\n",
       "  background-color: var(--xr-background-color-row-even);\n",
       "  margin-bottom: 0;\n",
       "}\n",
       "\n",
       ".xr-var-item > .xr-var-name:hover span {\n",
       "  padding-right: 5px;\n",
       "}\n",
       "\n",
       ".xr-var-list > li:nth-child(odd) > div,\n",
       ".xr-var-list > li:nth-child(odd) > label,\n",
       ".xr-var-list > li:nth-child(odd) > .xr-var-name span {\n",
       "  background-color: var(--xr-background-color-row-odd);\n",
       "}\n",
       "\n",
       ".xr-var-name {\n",
       "  grid-column: 1;\n",
       "}\n",
       "\n",
       ".xr-var-dims {\n",
       "  grid-column: 2;\n",
       "}\n",
       "\n",
       ".xr-var-dtype {\n",
       "  grid-column: 3;\n",
       "  text-align: right;\n",
       "  color: var(--xr-font-color2);\n",
       "}\n",
       "\n",
       ".xr-var-preview {\n",
       "  grid-column: 4;\n",
       "}\n",
       "\n",
       ".xr-index-preview {\n",
       "  grid-column: 2 / 5;\n",
       "  color: var(--xr-font-color2);\n",
       "}\n",
       "\n",
       ".xr-var-name,\n",
       ".xr-var-dims,\n",
       ".xr-var-dtype,\n",
       ".xr-preview,\n",
       ".xr-attrs dt {\n",
       "  white-space: nowrap;\n",
       "  overflow: hidden;\n",
       "  text-overflow: ellipsis;\n",
       "  padding-right: 10px;\n",
       "}\n",
       "\n",
       ".xr-var-name:hover,\n",
       ".xr-var-dims:hover,\n",
       ".xr-var-dtype:hover,\n",
       ".xr-attrs dt:hover {\n",
       "  overflow: visible;\n",
       "  width: auto;\n",
       "  z-index: 1;\n",
       "}\n",
       "\n",
       ".xr-var-attrs,\n",
       ".xr-var-data,\n",
       ".xr-index-data {\n",
       "  display: none;\n",
       "  background-color: var(--xr-background-color) !important;\n",
       "  padding-bottom: 5px !important;\n",
       "}\n",
       "\n",
       ".xr-var-attrs-in:checked ~ .xr-var-attrs,\n",
       ".xr-var-data-in:checked ~ .xr-var-data,\n",
       ".xr-index-data-in:checked ~ .xr-index-data {\n",
       "  display: block;\n",
       "}\n",
       "\n",
       ".xr-var-data > table {\n",
       "  float: right;\n",
       "}\n",
       "\n",
       ".xr-var-name span,\n",
       ".xr-var-data,\n",
       ".xr-index-name div,\n",
       ".xr-index-data,\n",
       ".xr-attrs {\n",
       "  padding-left: 25px !important;\n",
       "}\n",
       "\n",
       ".xr-attrs,\n",
       ".xr-var-attrs,\n",
       ".xr-var-data,\n",
       ".xr-index-data {\n",
       "  grid-column: 1 / -1;\n",
       "}\n",
       "\n",
       "dl.xr-attrs {\n",
       "  padding: 0;\n",
       "  margin: 0;\n",
       "  display: grid;\n",
       "  grid-template-columns: 125px auto;\n",
       "}\n",
       "\n",
       ".xr-attrs dt,\n",
       ".xr-attrs dd {\n",
       "  padding: 0;\n",
       "  margin: 0;\n",
       "  float: left;\n",
       "  padding-right: 10px;\n",
       "  width: auto;\n",
       "}\n",
       "\n",
       ".xr-attrs dt {\n",
       "  font-weight: normal;\n",
       "  grid-column: 1;\n",
       "}\n",
       "\n",
       ".xr-attrs dt:hover span {\n",
       "  display: inline-block;\n",
       "  background: var(--xr-background-color);\n",
       "  padding-right: 10px;\n",
       "}\n",
       "\n",
       ".xr-attrs dd {\n",
       "  grid-column: 2;\n",
       "  white-space: pre-wrap;\n",
       "  word-break: break-all;\n",
       "}\n",
       "\n",
       ".xr-icon-database,\n",
       ".xr-icon-file-text2,\n",
       ".xr-no-icon {\n",
       "  display: inline-block;\n",
       "  vertical-align: middle;\n",
       "  width: 1em;\n",
       "  height: 1.5em !important;\n",
       "  stroke-width: 0;\n",
       "  stroke: currentColor;\n",
       "  fill: currentColor;\n",
       "}\n",
       "</style><pre class='xr-text-repr-fallback'>&lt;xarray.DataArray &#x27;SPEI_12&#x27; (latitude: 61, longitude: 360, date: 85)&gt; Size: 15MB\n",
       "array([[[-5.14704535e-01, -7.56827585e-01, -8.56795817e-01, ...,\n",
       "         -7.23956618e-01, -7.17093387e-01, -3.45191184e-01],\n",
       "        [-2.46493140e-01, -4.78549668e-01, -6.70555663e-01, ...,\n",
       "         -1.05627489e+00, -9.80921238e-01, -6.13591175e-01],\n",
       "        [ 5.68507570e-01,  4.84078254e-01,  2.71290054e-01, ...,\n",
       "         -1.33718954e+00, -1.21570542e+00, -1.01706538e+00],\n",
       "        ...,\n",
       "        [-6.63384810e-01, -1.08223511e+00, -1.16652558e+00, ...,\n",
       "         -1.41720198e-01,  4.53492213e-02,  2.03040556e-01],\n",
       "        [-1.92789240e-01, -6.06091030e-01, -6.09957971e-01, ...,\n",
       "         -2.98288872e-01, -1.26221268e-01,  1.30740873e-01],\n",
       "        [-5.13480613e-01, -7.72826369e-01, -7.30144026e-01, ...,\n",
       "         -6.39459664e-01, -4.32360376e-01, -4.45664790e-02]],\n",
       "\n",
       "       [[ 1.27395188e-01, -1.22658612e-02, -2.91789213e-01, ...,\n",
       "         -1.49706450e+00, -1.35716801e+00, -9.56702343e-01],\n",
       "        [ 3.27125021e-01,  2.16955652e-01, -3.90046140e-02, ...,\n",
       "         -1.34566022e+00, -1.28463914e+00, -7.65542863e-01],\n",
       "        [ 1.21986848e+00,  1.13708472e+00,  9.14977596e-01, ...,\n",
       "         -9.32605566e-01, -7.69707032e-01, -6.52021865e-01],\n",
       "...\n",
       "        [-2.85606748e-01, -2.88886403e-01, -2.91336317e-01, ...,\n",
       "          9.15613536e-01,  7.96259764e-01,  1.05246237e+00],\n",
       "        [ 9.51453936e-01,  9.46425507e-01,  9.27988529e-01, ...,\n",
       "          8.31304620e-01,  8.03209886e-01,  8.71190584e-01],\n",
       "        [ 8.05453156e-01,  6.12783500e-01,  5.22688071e-01, ...,\n",
       "         -4.56881812e-01, -8.67309739e-01, -9.96244614e-01]],\n",
       "\n",
       "       [[ 7.91474431e-01,  6.94695649e-01,  5.09565469e-01, ...,\n",
       "         -5.22775532e-01, -1.06257491e+00, -1.27189087e+00],\n",
       "        [ 6.74374493e-01,  4.94792782e-01,  5.65580135e-02, ...,\n",
       "         -9.46616412e-01, -2.13668500e+00, -2.27504081e+00],\n",
       "        [-2.10083516e-01, -4.94838534e-01, -9.15712549e-01, ...,\n",
       "         -4.26966171e-01, -2.31397800e+00, -2.39308494e+00],\n",
       "        ...,\n",
       "        [ 2.77392245e-01,  2.42355406e-01, -6.50214671e-01, ...,\n",
       "          1.48914383e+00,  3.07246239e-03,  1.21861252e-01],\n",
       "        [-5.09702681e-02, -3.78172952e-02, -7.10427199e-01, ...,\n",
       "          2.15302289e-02, -1.26445338e+00, -1.27400875e+00],\n",
       "        [ 7.66566172e-01,  7.59103869e-01,  2.27965250e-01, ...,\n",
       "         -3.08664849e-04, -2.39488653e-01, -3.59773102e-01]]])\n",
       "Coordinates:\n",
       "    number     int64 8B 0\n",
       "    expver     (date) &lt;U4 1kB &#x27;0001&#x27; &#x27;0001&#x27; &#x27;0001&#x27; ... &#x27;0001&#x27; &#x27;0001&#x27; &#x27;0001&#x27;\n",
       "  * date       (date) datetime64[ns] 680B 2015-12-01 2016-01-01 ... 2022-12-01\n",
       "  * latitude   (latitude) float64 488B -30.0 -29.0 -28.0 ... 28.0 29.0 30.0\n",
       "  * longitude  (longitude) int64 3kB 0 1 2 3 4 5 6 ... 354 355 356 357 358 359\n",
       "Attributes:\n",
       "    long_name:  Standardized Precipitation Evapotranspiration Index (12-month...\n",
       "    units:      Standard Deviations</pre><div class='xr-wrap' style='display:none'><div class='xr-header'><div class='xr-obj-type'>xarray.DataArray</div><div class='xr-array-name'>'SPEI_12'</div><ul class='xr-dim-list'><li><span class='xr-has-index'>latitude</span>: 61</li><li><span class='xr-has-index'>longitude</span>: 360</li><li><span class='xr-has-index'>date</span>: 85</li></ul></div><ul class='xr-sections'><li class='xr-section-item'><div class='xr-array-wrap'><input id='section-a066c95c-7732-4f11-96bc-f204ea9e7e34' class='xr-array-in' type='checkbox' checked><label for='section-a066c95c-7732-4f11-96bc-f204ea9e7e34' title='Show/hide data repr'><svg class='icon xr-icon-database'><use xlink:href='#icon-database'></use></svg></label><div class='xr-array-preview xr-preview'><span>-0.5147 -0.7568 -0.8568 -0.8107 ... -0.567 -0.0003087 -0.2395 -0.3598</span></div><div class='xr-array-data'><pre>array([[[-5.14704535e-01, -7.56827585e-01, -8.56795817e-01, ...,\n",
       "         -7.23956618e-01, -7.17093387e-01, -3.45191184e-01],\n",
       "        [-2.46493140e-01, -4.78549668e-01, -6.70555663e-01, ...,\n",
       "         -1.05627489e+00, -9.80921238e-01, -6.13591175e-01],\n",
       "        [ 5.68507570e-01,  4.84078254e-01,  2.71290054e-01, ...,\n",
       "         -1.33718954e+00, -1.21570542e+00, -1.01706538e+00],\n",
       "        ...,\n",
       "        [-6.63384810e-01, -1.08223511e+00, -1.16652558e+00, ...,\n",
       "         -1.41720198e-01,  4.53492213e-02,  2.03040556e-01],\n",
       "        [-1.92789240e-01, -6.06091030e-01, -6.09957971e-01, ...,\n",
       "         -2.98288872e-01, -1.26221268e-01,  1.30740873e-01],\n",
       "        [-5.13480613e-01, -7.72826369e-01, -7.30144026e-01, ...,\n",
       "         -6.39459664e-01, -4.32360376e-01, -4.45664790e-02]],\n",
       "\n",
       "       [[ 1.27395188e-01, -1.22658612e-02, -2.91789213e-01, ...,\n",
       "         -1.49706450e+00, -1.35716801e+00, -9.56702343e-01],\n",
       "        [ 3.27125021e-01,  2.16955652e-01, -3.90046140e-02, ...,\n",
       "         -1.34566022e+00, -1.28463914e+00, -7.65542863e-01],\n",
       "        [ 1.21986848e+00,  1.13708472e+00,  9.14977596e-01, ...,\n",
       "         -9.32605566e-01, -7.69707032e-01, -6.52021865e-01],\n",
       "...\n",
       "        [-2.85606748e-01, -2.88886403e-01, -2.91336317e-01, ...,\n",
       "          9.15613536e-01,  7.96259764e-01,  1.05246237e+00],\n",
       "        [ 9.51453936e-01,  9.46425507e-01,  9.27988529e-01, ...,\n",
       "          8.31304620e-01,  8.03209886e-01,  8.71190584e-01],\n",
       "        [ 8.05453156e-01,  6.12783500e-01,  5.22688071e-01, ...,\n",
       "         -4.56881812e-01, -8.67309739e-01, -9.96244614e-01]],\n",
       "\n",
       "       [[ 7.91474431e-01,  6.94695649e-01,  5.09565469e-01, ...,\n",
       "         -5.22775532e-01, -1.06257491e+00, -1.27189087e+00],\n",
       "        [ 6.74374493e-01,  4.94792782e-01,  5.65580135e-02, ...,\n",
       "         -9.46616412e-01, -2.13668500e+00, -2.27504081e+00],\n",
       "        [-2.10083516e-01, -4.94838534e-01, -9.15712549e-01, ...,\n",
       "         -4.26966171e-01, -2.31397800e+00, -2.39308494e+00],\n",
       "        ...,\n",
       "        [ 2.77392245e-01,  2.42355406e-01, -6.50214671e-01, ...,\n",
       "          1.48914383e+00,  3.07246239e-03,  1.21861252e-01],\n",
       "        [-5.09702681e-02, -3.78172952e-02, -7.10427199e-01, ...,\n",
       "          2.15302289e-02, -1.26445338e+00, -1.27400875e+00],\n",
       "        [ 7.66566172e-01,  7.59103869e-01,  2.27965250e-01, ...,\n",
       "         -3.08664849e-04, -2.39488653e-01, -3.59773102e-01]]])</pre></div></div></li><li class='xr-section-item'><input id='section-b2e3a638-9f26-4fcd-b67e-c84b5aed4878' class='xr-section-summary-in' type='checkbox'  checked><label for='section-b2e3a638-9f26-4fcd-b67e-c84b5aed4878' class='xr-section-summary' >Coordinates: <span>(5)</span></label><div class='xr-section-inline-details'></div><div class='xr-section-details'><ul class='xr-var-list'><li class='xr-var-item'><div class='xr-var-name'><span>number</span></div><div class='xr-var-dims'>()</div><div class='xr-var-dtype'>int64</div><div class='xr-var-preview xr-preview'>0</div><input id='attrs-c2ff855f-a7cb-4be3-a2c6-b32311055954' class='xr-var-attrs-in' type='checkbox' ><label for='attrs-c2ff855f-a7cb-4be3-a2c6-b32311055954' title='Show/Hide attributes'><svg class='icon xr-icon-file-text2'><use xlink:href='#icon-file-text2'></use></svg></label><input id='data-a49ce01d-9a9c-43a8-a0e0-40fedd6b58b5' class='xr-var-data-in' type='checkbox'><label for='data-a49ce01d-9a9c-43a8-a0e0-40fedd6b58b5' title='Show/Hide data repr'><svg class='icon xr-icon-database'><use xlink:href='#icon-database'></use></svg></label><div class='xr-var-attrs'><dl class='xr-attrs'><dt><span>long_name :</span></dt><dd>ensemble member numerical id</dd><dt><span>units :</span></dt><dd>1</dd><dt><span>standard_name :</span></dt><dd>realization</dd></dl></div><div class='xr-var-data'><pre>array(0)</pre></div></li><li class='xr-var-item'><div class='xr-var-name'><span>expver</span></div><div class='xr-var-dims'>(date)</div><div class='xr-var-dtype'>&lt;U4</div><div class='xr-var-preview xr-preview'>&#x27;0001&#x27; &#x27;0001&#x27; ... &#x27;0001&#x27; &#x27;0001&#x27;</div><input id='attrs-e8750291-abcb-4b69-9449-2ab90210ef49' class='xr-var-attrs-in' type='checkbox' disabled><label for='attrs-e8750291-abcb-4b69-9449-2ab90210ef49' title='Show/Hide attributes'><svg class='icon xr-icon-file-text2'><use xlink:href='#icon-file-text2'></use></svg></label><input id='data-80a836e8-7b1b-44e9-9a5d-82f5a449e901' class='xr-var-data-in' type='checkbox'><label for='data-80a836e8-7b1b-44e9-9a5d-82f5a449e901' title='Show/Hide data repr'><svg class='icon xr-icon-database'><use xlink:href='#icon-database'></use></svg></label><div class='xr-var-attrs'><dl class='xr-attrs'></dl></div><div class='xr-var-data'><pre>array([&#x27;0001&#x27;, &#x27;0001&#x27;, &#x27;0001&#x27;, &#x27;0001&#x27;, &#x27;0001&#x27;, &#x27;0001&#x27;, &#x27;0001&#x27;, &#x27;0001&#x27;, &#x27;0001&#x27;,\n",
       "       &#x27;0001&#x27;, &#x27;0001&#x27;, &#x27;0001&#x27;, &#x27;0001&#x27;, &#x27;0001&#x27;, &#x27;0001&#x27;, &#x27;0001&#x27;, &#x27;0001&#x27;, &#x27;0001&#x27;,\n",
       "       &#x27;0001&#x27;, &#x27;0001&#x27;, &#x27;0001&#x27;, &#x27;0001&#x27;, &#x27;0001&#x27;, &#x27;0001&#x27;, &#x27;0001&#x27;, &#x27;0001&#x27;, &#x27;0001&#x27;,\n",
       "       &#x27;0001&#x27;, &#x27;0001&#x27;, &#x27;0001&#x27;, &#x27;0001&#x27;, &#x27;0001&#x27;, &#x27;0001&#x27;, &#x27;0001&#x27;, &#x27;0001&#x27;, &#x27;0001&#x27;,\n",
       "       &#x27;0001&#x27;, &#x27;0001&#x27;, &#x27;0001&#x27;, &#x27;0001&#x27;, &#x27;0001&#x27;, &#x27;0001&#x27;, &#x27;0001&#x27;, &#x27;0001&#x27;, &#x27;0001&#x27;,\n",
       "       &#x27;0001&#x27;, &#x27;0001&#x27;, &#x27;0001&#x27;, &#x27;0001&#x27;, &#x27;0001&#x27;, &#x27;0001&#x27;, &#x27;0001&#x27;, &#x27;0001&#x27;, &#x27;0001&#x27;,\n",
       "       &#x27;0001&#x27;, &#x27;0001&#x27;, &#x27;0001&#x27;, &#x27;0001&#x27;, &#x27;0001&#x27;, &#x27;0001&#x27;, &#x27;0001&#x27;, &#x27;0001&#x27;, &#x27;0001&#x27;,\n",
       "       &#x27;0001&#x27;, &#x27;0001&#x27;, &#x27;0001&#x27;, &#x27;0001&#x27;, &#x27;0001&#x27;, &#x27;0001&#x27;, &#x27;0001&#x27;, &#x27;0001&#x27;, &#x27;0001&#x27;,\n",
       "       &#x27;0001&#x27;, &#x27;0001&#x27;, &#x27;0001&#x27;, &#x27;0001&#x27;, &#x27;0001&#x27;, &#x27;0001&#x27;, &#x27;0001&#x27;, &#x27;0001&#x27;, &#x27;0001&#x27;,\n",
       "       &#x27;0001&#x27;, &#x27;0001&#x27;, &#x27;0001&#x27;, &#x27;0001&#x27;], dtype=&#x27;&lt;U4&#x27;)</pre></div></li><li class='xr-var-item'><div class='xr-var-name'><span class='xr-has-index'>date</span></div><div class='xr-var-dims'>(date)</div><div class='xr-var-dtype'>datetime64[ns]</div><div class='xr-var-preview xr-preview'>2015-12-01 ... 2022-12-01</div><input id='attrs-a1dcf666-25fd-4935-83a3-094b98e0ef3a' class='xr-var-attrs-in' type='checkbox' disabled><label for='attrs-a1dcf666-25fd-4935-83a3-094b98e0ef3a' title='Show/Hide attributes'><svg class='icon xr-icon-file-text2'><use xlink:href='#icon-file-text2'></use></svg></label><input id='data-44e408a7-4515-4992-95ae-204bc0e7130e' class='xr-var-data-in' type='checkbox'><label for='data-44e408a7-4515-4992-95ae-204bc0e7130e' title='Show/Hide data repr'><svg class='icon xr-icon-database'><use xlink:href='#icon-database'></use></svg></label><div class='xr-var-attrs'><dl class='xr-attrs'></dl></div><div class='xr-var-data'><pre>array([&#x27;2015-12-01T00:00:00.000000000&#x27;, &#x27;2016-01-01T00:00:00.000000000&#x27;,\n",
       "       &#x27;2016-02-01T00:00:00.000000000&#x27;, &#x27;2016-03-01T00:00:00.000000000&#x27;,\n",
       "       &#x27;2016-04-01T00:00:00.000000000&#x27;, &#x27;2016-05-01T00:00:00.000000000&#x27;,\n",
       "       &#x27;2016-06-01T00:00:00.000000000&#x27;, &#x27;2016-07-01T00:00:00.000000000&#x27;,\n",
       "       &#x27;2016-08-01T00:00:00.000000000&#x27;, &#x27;2016-09-01T00:00:00.000000000&#x27;,\n",
       "       &#x27;2016-10-01T00:00:00.000000000&#x27;, &#x27;2016-11-01T00:00:00.000000000&#x27;,\n",
       "       &#x27;2016-12-01T00:00:00.000000000&#x27;, &#x27;2017-01-01T00:00:00.000000000&#x27;,\n",
       "       &#x27;2017-02-01T00:00:00.000000000&#x27;, &#x27;2017-03-01T00:00:00.000000000&#x27;,\n",
       "       &#x27;2017-04-01T00:00:00.000000000&#x27;, &#x27;2017-05-01T00:00:00.000000000&#x27;,\n",
       "       &#x27;2017-06-01T00:00:00.000000000&#x27;, &#x27;2017-07-01T00:00:00.000000000&#x27;,\n",
       "       &#x27;2017-08-01T00:00:00.000000000&#x27;, &#x27;2017-09-01T00:00:00.000000000&#x27;,\n",
       "       &#x27;2017-10-01T00:00:00.000000000&#x27;, &#x27;2017-11-01T00:00:00.000000000&#x27;,\n",
       "       &#x27;2017-12-01T00:00:00.000000000&#x27;, &#x27;2018-01-01T00:00:00.000000000&#x27;,\n",
       "       &#x27;2018-02-01T00:00:00.000000000&#x27;, &#x27;2018-03-01T00:00:00.000000000&#x27;,\n",
       "       &#x27;2018-04-01T00:00:00.000000000&#x27;, &#x27;2018-05-01T00:00:00.000000000&#x27;,\n",
       "       &#x27;2018-06-01T00:00:00.000000000&#x27;, &#x27;2018-07-01T00:00:00.000000000&#x27;,\n",
       "       &#x27;2018-08-01T00:00:00.000000000&#x27;, &#x27;2018-09-01T00:00:00.000000000&#x27;,\n",
       "       &#x27;2018-10-01T00:00:00.000000000&#x27;, &#x27;2018-11-01T00:00:00.000000000&#x27;,\n",
       "       &#x27;2018-12-01T00:00:00.000000000&#x27;, &#x27;2019-01-01T00:00:00.000000000&#x27;,\n",
       "       &#x27;2019-02-01T00:00:00.000000000&#x27;, &#x27;2019-03-01T00:00:00.000000000&#x27;,\n",
       "       &#x27;2019-04-01T00:00:00.000000000&#x27;, &#x27;2019-05-01T00:00:00.000000000&#x27;,\n",
       "       &#x27;2019-06-01T00:00:00.000000000&#x27;, &#x27;2019-07-01T00:00:00.000000000&#x27;,\n",
       "       &#x27;2019-08-01T00:00:00.000000000&#x27;, &#x27;2019-09-01T00:00:00.000000000&#x27;,\n",
       "       &#x27;2019-10-01T00:00:00.000000000&#x27;, &#x27;2019-11-01T00:00:00.000000000&#x27;,\n",
       "       &#x27;2019-12-01T00:00:00.000000000&#x27;, &#x27;2020-01-01T00:00:00.000000000&#x27;,\n",
       "       &#x27;2020-02-01T00:00:00.000000000&#x27;, &#x27;2020-03-01T00:00:00.000000000&#x27;,\n",
       "       &#x27;2020-04-01T00:00:00.000000000&#x27;, &#x27;2020-05-01T00:00:00.000000000&#x27;,\n",
       "       &#x27;2020-06-01T00:00:00.000000000&#x27;, &#x27;2020-07-01T00:00:00.000000000&#x27;,\n",
       "       &#x27;2020-08-01T00:00:00.000000000&#x27;, &#x27;2020-09-01T00:00:00.000000000&#x27;,\n",
       "       &#x27;2020-10-01T00:00:00.000000000&#x27;, &#x27;2020-11-01T00:00:00.000000000&#x27;,\n",
       "       &#x27;2020-12-01T00:00:00.000000000&#x27;, &#x27;2021-01-01T00:00:00.000000000&#x27;,\n",
       "       &#x27;2021-02-01T00:00:00.000000000&#x27;, &#x27;2021-03-01T00:00:00.000000000&#x27;,\n",
       "       &#x27;2021-04-01T00:00:00.000000000&#x27;, &#x27;2021-05-01T00:00:00.000000000&#x27;,\n",
       "       &#x27;2021-06-01T00:00:00.000000000&#x27;, &#x27;2021-07-01T00:00:00.000000000&#x27;,\n",
       "       &#x27;2021-08-01T00:00:00.000000000&#x27;, &#x27;2021-09-01T00:00:00.000000000&#x27;,\n",
       "       &#x27;2021-10-01T00:00:00.000000000&#x27;, &#x27;2021-11-01T00:00:00.000000000&#x27;,\n",
       "       &#x27;2021-12-01T00:00:00.000000000&#x27;, &#x27;2022-01-01T00:00:00.000000000&#x27;,\n",
       "       &#x27;2022-02-01T00:00:00.000000000&#x27;, &#x27;2022-03-01T00:00:00.000000000&#x27;,\n",
       "       &#x27;2022-04-01T00:00:00.000000000&#x27;, &#x27;2022-05-01T00:00:00.000000000&#x27;,\n",
       "       &#x27;2022-06-01T00:00:00.000000000&#x27;, &#x27;2022-07-01T00:00:00.000000000&#x27;,\n",
       "       &#x27;2022-08-01T00:00:00.000000000&#x27;, &#x27;2022-09-01T00:00:00.000000000&#x27;,\n",
       "       &#x27;2022-10-01T00:00:00.000000000&#x27;, &#x27;2022-11-01T00:00:00.000000000&#x27;,\n",
       "       &#x27;2022-12-01T00:00:00.000000000&#x27;], dtype=&#x27;datetime64[ns]&#x27;)</pre></div></li><li class='xr-var-item'><div class='xr-var-name'><span class='xr-has-index'>latitude</span></div><div class='xr-var-dims'>(latitude)</div><div class='xr-var-dtype'>float64</div><div class='xr-var-preview xr-preview'>-30.0 -29.0 -28.0 ... 29.0 30.0</div><input id='attrs-da3d00de-e81d-4403-b422-3587458fd874' class='xr-var-attrs-in' type='checkbox' ><label for='attrs-da3d00de-e81d-4403-b422-3587458fd874' title='Show/Hide attributes'><svg class='icon xr-icon-file-text2'><use xlink:href='#icon-file-text2'></use></svg></label><input id='data-bbbc2516-3cdb-4fc9-bb3c-42f288fce7ed' class='xr-var-data-in' type='checkbox'><label for='data-bbbc2516-3cdb-4fc9-bb3c-42f288fce7ed' title='Show/Hide data repr'><svg class='icon xr-icon-database'><use xlink:href='#icon-database'></use></svg></label><div class='xr-var-attrs'><dl class='xr-attrs'><dt><span>units :</span></dt><dd>degrees_north</dd><dt><span>standard_name :</span></dt><dd>latitude</dd><dt><span>long_name :</span></dt><dd>latitude</dd><dt><span>stored_direction :</span></dt><dd>decreasing</dd></dl></div><div class='xr-var-data'><pre>array([-30., -29., -28., -27., -26., -25., -24., -23., -22., -21., -20., -19.,\n",
       "       -18., -17., -16., -15., -14., -13., -12., -11., -10.,  -9.,  -8.,  -7.,\n",
       "        -6.,  -5.,  -4.,  -3.,  -2.,  -1.,   0.,   1.,   2.,   3.,   4.,   5.,\n",
       "         6.,   7.,   8.,   9.,  10.,  11.,  12.,  13.,  14.,  15.,  16.,  17.,\n",
       "        18.,  19.,  20.,  21.,  22.,  23.,  24.,  25.,  26.,  27.,  28.,  29.,\n",
       "        30.])</pre></div></li><li class='xr-var-item'><div class='xr-var-name'><span class='xr-has-index'>longitude</span></div><div class='xr-var-dims'>(longitude)</div><div class='xr-var-dtype'>int64</div><div class='xr-var-preview xr-preview'>0 1 2 3 4 5 ... 355 356 357 358 359</div><input id='attrs-9203c4d9-ddf8-43c4-9926-660d09cee409' class='xr-var-attrs-in' type='checkbox' ><label for='attrs-9203c4d9-ddf8-43c4-9926-660d09cee409' title='Show/Hide attributes'><svg class='icon xr-icon-file-text2'><use xlink:href='#icon-file-text2'></use></svg></label><input id='data-bfea680b-f4a5-47da-8676-9fbe0f732313' class='xr-var-data-in' type='checkbox'><label for='data-bfea680b-f4a5-47da-8676-9fbe0f732313' title='Show/Hide data repr'><svg class='icon xr-icon-database'><use xlink:href='#icon-database'></use></svg></label><div class='xr-var-attrs'><dl class='xr-attrs'><dt><span>units :</span></dt><dd>degrees_east</dd><dt><span>standard_name :</span></dt><dd>longitude</dd><dt><span>long_name :</span></dt><dd>longitude</dd></dl></div><div class='xr-var-data'><pre>array([  0,   1,   2, ..., 357, 358, 359])</pre></div></li></ul></div></li><li class='xr-section-item'><input id='section-074b1e1b-6604-498b-abc2-c1e8c8864add' class='xr-section-summary-in' type='checkbox'  ><label for='section-074b1e1b-6604-498b-abc2-c1e8c8864add' class='xr-section-summary' >Indexes: <span>(3)</span></label><div class='xr-section-inline-details'></div><div class='xr-section-details'><ul class='xr-var-list'><li class='xr-var-item'><div class='xr-index-name'><div>date</div></div><div class='xr-index-preview'>PandasIndex</div><div></div><input id='index-2da224a3-46e2-4475-988c-b2211c32fbdb' class='xr-index-data-in' type='checkbox'/><label for='index-2da224a3-46e2-4475-988c-b2211c32fbdb' title='Show/Hide index repr'><svg class='icon xr-icon-database'><use xlink:href='#icon-database'></use></svg></label><div class='xr-index-data'><pre>PandasIndex(DatetimeIndex([&#x27;2015-12-01&#x27;, &#x27;2016-01-01&#x27;, &#x27;2016-02-01&#x27;, &#x27;2016-03-01&#x27;,\n",
       "               &#x27;2016-04-01&#x27;, &#x27;2016-05-01&#x27;, &#x27;2016-06-01&#x27;, &#x27;2016-07-01&#x27;,\n",
       "               &#x27;2016-08-01&#x27;, &#x27;2016-09-01&#x27;, &#x27;2016-10-01&#x27;, &#x27;2016-11-01&#x27;,\n",
       "               &#x27;2016-12-01&#x27;, &#x27;2017-01-01&#x27;, &#x27;2017-02-01&#x27;, &#x27;2017-03-01&#x27;,\n",
       "               &#x27;2017-04-01&#x27;, &#x27;2017-05-01&#x27;, &#x27;2017-06-01&#x27;, &#x27;2017-07-01&#x27;,\n",
       "               &#x27;2017-08-01&#x27;, &#x27;2017-09-01&#x27;, &#x27;2017-10-01&#x27;, &#x27;2017-11-01&#x27;,\n",
       "               &#x27;2017-12-01&#x27;, &#x27;2018-01-01&#x27;, &#x27;2018-02-01&#x27;, &#x27;2018-03-01&#x27;,\n",
       "               &#x27;2018-04-01&#x27;, &#x27;2018-05-01&#x27;, &#x27;2018-06-01&#x27;, &#x27;2018-07-01&#x27;,\n",
       "               &#x27;2018-08-01&#x27;, &#x27;2018-09-01&#x27;, &#x27;2018-10-01&#x27;, &#x27;2018-11-01&#x27;,\n",
       "               &#x27;2018-12-01&#x27;, &#x27;2019-01-01&#x27;, &#x27;2019-02-01&#x27;, &#x27;2019-03-01&#x27;,\n",
       "               &#x27;2019-04-01&#x27;, &#x27;2019-05-01&#x27;, &#x27;2019-06-01&#x27;, &#x27;2019-07-01&#x27;,\n",
       "               &#x27;2019-08-01&#x27;, &#x27;2019-09-01&#x27;, &#x27;2019-10-01&#x27;, &#x27;2019-11-01&#x27;,\n",
       "               &#x27;2019-12-01&#x27;, &#x27;2020-01-01&#x27;, &#x27;2020-02-01&#x27;, &#x27;2020-03-01&#x27;,\n",
       "               &#x27;2020-04-01&#x27;, &#x27;2020-05-01&#x27;, &#x27;2020-06-01&#x27;, &#x27;2020-07-01&#x27;,\n",
       "               &#x27;2020-08-01&#x27;, &#x27;2020-09-01&#x27;, &#x27;2020-10-01&#x27;, &#x27;2020-11-01&#x27;,\n",
       "               &#x27;2020-12-01&#x27;, &#x27;2021-01-01&#x27;, &#x27;2021-02-01&#x27;, &#x27;2021-03-01&#x27;,\n",
       "               &#x27;2021-04-01&#x27;, &#x27;2021-05-01&#x27;, &#x27;2021-06-01&#x27;, &#x27;2021-07-01&#x27;,\n",
       "               &#x27;2021-08-01&#x27;, &#x27;2021-09-01&#x27;, &#x27;2021-10-01&#x27;, &#x27;2021-11-01&#x27;,\n",
       "               &#x27;2021-12-01&#x27;, &#x27;2022-01-01&#x27;, &#x27;2022-02-01&#x27;, &#x27;2022-03-01&#x27;,\n",
       "               &#x27;2022-04-01&#x27;, &#x27;2022-05-01&#x27;, &#x27;2022-06-01&#x27;, &#x27;2022-07-01&#x27;,\n",
       "               &#x27;2022-08-01&#x27;, &#x27;2022-09-01&#x27;, &#x27;2022-10-01&#x27;, &#x27;2022-11-01&#x27;,\n",
       "               &#x27;2022-12-01&#x27;],\n",
       "              dtype=&#x27;datetime64[ns]&#x27;, name=&#x27;date&#x27;, freq=None))</pre></div></li><li class='xr-var-item'><div class='xr-index-name'><div>latitude</div></div><div class='xr-index-preview'>PandasIndex</div><div></div><input id='index-e37663d2-7c38-4176-9330-28dda5fd9a55' class='xr-index-data-in' type='checkbox'/><label for='index-e37663d2-7c38-4176-9330-28dda5fd9a55' title='Show/Hide index repr'><svg class='icon xr-icon-database'><use xlink:href='#icon-database'></use></svg></label><div class='xr-index-data'><pre>PandasIndex(Index([-30.0, -29.0, -28.0, -27.0, -26.0, -25.0, -24.0, -23.0, -22.0, -21.0,\n",
       "       -20.0, -19.0, -18.0, -17.0, -16.0, -15.0, -14.0, -13.0, -12.0, -11.0,\n",
       "       -10.0,  -9.0,  -8.0,  -7.0,  -6.0,  -5.0,  -4.0,  -3.0,  -2.0,  -1.0,\n",
       "         0.0,   1.0,   2.0,   3.0,   4.0,   5.0,   6.0,   7.0,   8.0,   9.0,\n",
       "        10.0,  11.0,  12.0,  13.0,  14.0,  15.0,  16.0,  17.0,  18.0,  19.0,\n",
       "        20.0,  21.0,  22.0,  23.0,  24.0,  25.0,  26.0,  27.0,  28.0,  29.0,\n",
       "        30.0],\n",
       "      dtype=&#x27;float64&#x27;, name=&#x27;latitude&#x27;))</pre></div></li><li class='xr-var-item'><div class='xr-index-name'><div>longitude</div></div><div class='xr-index-preview'>PandasIndex</div><div></div><input id='index-18290d8e-bce4-4154-8394-fa260f78cc94' class='xr-index-data-in' type='checkbox'/><label for='index-18290d8e-bce4-4154-8394-fa260f78cc94' title='Show/Hide index repr'><svg class='icon xr-icon-database'><use xlink:href='#icon-database'></use></svg></label><div class='xr-index-data'><pre>PandasIndex(Index([  0,   1,   2,   3,   4,   5,   6,   7,   8,   9,\n",
       "       ...\n",
       "       350, 351, 352, 353, 354, 355, 356, 357, 358, 359],\n",
       "      dtype=&#x27;int64&#x27;, name=&#x27;longitude&#x27;, length=360))</pre></div></li></ul></div></li><li class='xr-section-item'><input id='section-7578caae-a227-4bfb-81bf-e0e18a4d3b74' class='xr-section-summary-in' type='checkbox'  checked><label for='section-7578caae-a227-4bfb-81bf-e0e18a4d3b74' class='xr-section-summary' >Attributes: <span>(2)</span></label><div class='xr-section-inline-details'></div><div class='xr-section-details'><dl class='xr-attrs'><dt><span>long_name :</span></dt><dd>Standardized Precipitation Evapotranspiration Index (12-month scale)</dd><dt><span>units :</span></dt><dd>Standard Deviations</dd></dl></div></li></ul></div></div>"
      ],
      "text/plain": [
       "<xarray.DataArray 'SPEI_12' (latitude: 61, longitude: 360, date: 85)> Size: 15MB\n",
       "array([[[-5.14704535e-01, -7.56827585e-01, -8.56795817e-01, ...,\n",
       "         -7.23956618e-01, -7.17093387e-01, -3.45191184e-01],\n",
       "        [-2.46493140e-01, -4.78549668e-01, -6.70555663e-01, ...,\n",
       "         -1.05627489e+00, -9.80921238e-01, -6.13591175e-01],\n",
       "        [ 5.68507570e-01,  4.84078254e-01,  2.71290054e-01, ...,\n",
       "         -1.33718954e+00, -1.21570542e+00, -1.01706538e+00],\n",
       "        ...,\n",
       "        [-6.63384810e-01, -1.08223511e+00, -1.16652558e+00, ...,\n",
       "         -1.41720198e-01,  4.53492213e-02,  2.03040556e-01],\n",
       "        [-1.92789240e-01, -6.06091030e-01, -6.09957971e-01, ...,\n",
       "         -2.98288872e-01, -1.26221268e-01,  1.30740873e-01],\n",
       "        [-5.13480613e-01, -7.72826369e-01, -7.30144026e-01, ...,\n",
       "         -6.39459664e-01, -4.32360376e-01, -4.45664790e-02]],\n",
       "\n",
       "       [[ 1.27395188e-01, -1.22658612e-02, -2.91789213e-01, ...,\n",
       "         -1.49706450e+00, -1.35716801e+00, -9.56702343e-01],\n",
       "        [ 3.27125021e-01,  2.16955652e-01, -3.90046140e-02, ...,\n",
       "         -1.34566022e+00, -1.28463914e+00, -7.65542863e-01],\n",
       "        [ 1.21986848e+00,  1.13708472e+00,  9.14977596e-01, ...,\n",
       "         -9.32605566e-01, -7.69707032e-01, -6.52021865e-01],\n",
       "...\n",
       "        [-2.85606748e-01, -2.88886403e-01, -2.91336317e-01, ...,\n",
       "          9.15613536e-01,  7.96259764e-01,  1.05246237e+00],\n",
       "        [ 9.51453936e-01,  9.46425507e-01,  9.27988529e-01, ...,\n",
       "          8.31304620e-01,  8.03209886e-01,  8.71190584e-01],\n",
       "        [ 8.05453156e-01,  6.12783500e-01,  5.22688071e-01, ...,\n",
       "         -4.56881812e-01, -8.67309739e-01, -9.96244614e-01]],\n",
       "\n",
       "       [[ 7.91474431e-01,  6.94695649e-01,  5.09565469e-01, ...,\n",
       "         -5.22775532e-01, -1.06257491e+00, -1.27189087e+00],\n",
       "        [ 6.74374493e-01,  4.94792782e-01,  5.65580135e-02, ...,\n",
       "         -9.46616412e-01, -2.13668500e+00, -2.27504081e+00],\n",
       "        [-2.10083516e-01, -4.94838534e-01, -9.15712549e-01, ...,\n",
       "         -4.26966171e-01, -2.31397800e+00, -2.39308494e+00],\n",
       "        ...,\n",
       "        [ 2.77392245e-01,  2.42355406e-01, -6.50214671e-01, ...,\n",
       "          1.48914383e+00,  3.07246239e-03,  1.21861252e-01],\n",
       "        [-5.09702681e-02, -3.78172952e-02, -7.10427199e-01, ...,\n",
       "          2.15302289e-02, -1.26445338e+00, -1.27400875e+00],\n",
       "        [ 7.66566172e-01,  7.59103869e-01,  2.27965250e-01, ...,\n",
       "         -3.08664849e-04, -2.39488653e-01, -3.59773102e-01]]])\n",
       "Coordinates:\n",
       "    number     int64 8B 0\n",
       "    expver     (date) <U4 1kB '0001' '0001' '0001' ... '0001' '0001' '0001'\n",
       "  * date       (date) datetime64[ns] 680B 2015-12-01 2016-01-01 ... 2022-12-01\n",
       "  * latitude   (latitude) float64 488B -30.0 -29.0 -28.0 ... 28.0 29.0 30.0\n",
       "  * longitude  (longitude) int64 3kB 0 1 2 3 4 5 6 ... 354 355 356 357 358 359\n",
       "Attributes:\n",
       "    long_name:  Standardized Precipitation Evapotranspiration Index (12-month...\n",
       "    units:      Standard Deviations"
      ]
     },
     "execution_count": 8,
     "metadata": {},
     "output_type": "execute_result"
    }
   ],
   "source": [
    "spei "
   ]
  },
  {
   "cell_type": "code",
   "execution_count": 79,
   "metadata": {},
   "outputs": [],
   "source": [
    "import numpy as np\n",
    "import xarray as xr\n",
    "\n",
    "# Assuming your dataset is called ds\n",
    "# Example dataset variables: t2m, sst, tp, pev\n",
    "\n",
    "# 1. Extract relevant variables\n",
    "targets = ['pev']\n",
    "data_arrays = [ds[var] for var in targets]\n",
    "\n",
    "# 2. Flatten latitude and longitude into a single node dimension\n",
    "# Combine the latitude and longitude as one \"node\" dimension\n",
    "data_arrays_flattened = [da.stack(node=('latitude', 'longitude')) for da in data_arrays]\n",
    "\n",
    "# 3. Convert each variable's DataArray to a numpy array and add a new channel dimension\n",
    "# (so we have the shape (time, nodes, channels))\n",
    "target = np.stack([da.to_numpy() for da in data_arrays_flattened], axis=-1)\n"
   ]
  },
  {
   "cell_type": "code",
   "execution_count": 10,
   "metadata": {},
   "outputs": [
    {
     "data": {
      "text/plain": [
       "array([[[ 7.82310963e-08],\n",
       "        [ 7.82310963e-08],\n",
       "        [ 7.82310963e-08],\n",
       "        ...,\n",
       "        [-5.74748963e-04],\n",
       "        [ 1.27032399e-06],\n",
       "        [ 3.16649675e-07]],\n",
       "\n",
       "       [[-2.60770321e-08],\n",
       "        [-2.60770321e-08],\n",
       "        [-2.60770321e-08],\n",
       "        ...,\n",
       "        [-8.59286636e-04],\n",
       "        [-7.41332769e-07],\n",
       "        [-7.41332769e-07]],\n",
       "\n",
       "       [[ 3.72529030e-09],\n",
       "        [ 3.72529030e-09],\n",
       "        [ 3.72529030e-09],\n",
       "        ...,\n",
       "        [-1.29174814e-03],\n",
       "        [-1.42678618e-06],\n",
       "        [-1.18836761e-06]],\n",
       "\n",
       "       ...,\n",
       "\n",
       "       [[ 1.49011612e-08],\n",
       "        [ 1.49011612e-08],\n",
       "        [ 1.49011612e-08],\n",
       "        ...,\n",
       "        [-1.41094625e-03],\n",
       "        [-1.89244747e-06],\n",
       "        [-1.65402889e-06]],\n",
       "\n",
       "       [[-9.31322575e-08],\n",
       "        [-9.31322575e-08],\n",
       "        [-9.31322575e-08],\n",
       "        ...,\n",
       "        [-9.12521034e-04],\n",
       "        [-1.04680657e-06],\n",
       "        [-1.04680657e-06]],\n",
       "\n",
       "       [[-1.49011612e-08],\n",
       "        [-1.49011612e-08],\n",
       "        [-1.49011612e-08],\n",
       "        ...,\n",
       "        [-6.80461526e-04],\n",
       "        [ 1.41561031e-06],\n",
       "        [ 4.27663326e-06]]])"
      ]
     },
     "execution_count": 10,
     "metadata": {},
     "output_type": "execute_result"
    }
   ],
   "source": [
    "target"
   ]
  },
  {
   "cell_type": "code",
   "execution_count": 11,
   "metadata": {},
   "outputs": [],
   "source": [
    "# Save as .npy file\n",
    "np.save('ml-drought-forecasting/ml-modeling-pipeline/data/05_model_input/target.npy', target)"
   ]
  },
  {
   "cell_type": "code",
   "execution_count": 12,
   "metadata": {},
   "outputs": [],
   "source": [
    "# 1. Create a boolean mask where valid values are True and invalid (NaN) values are False\n",
    "mask = ~np.isnan(target)"
   ]
  },
  {
   "cell_type": "code",
   "execution_count": 13,
   "metadata": {},
   "outputs": [
    {
     "data": {
      "text/plain": [
       "array([[[ True],\n",
       "        [ True],\n",
       "        [ True],\n",
       "        ...,\n",
       "        [ True],\n",
       "        [ True],\n",
       "        [ True]],\n",
       "\n",
       "       [[ True],\n",
       "        [ True],\n",
       "        [ True],\n",
       "        ...,\n",
       "        [ True],\n",
       "        [ True],\n",
       "        [ True]],\n",
       "\n",
       "       [[ True],\n",
       "        [ True],\n",
       "        [ True],\n",
       "        ...,\n",
       "        [ True],\n",
       "        [ True],\n",
       "        [ True]],\n",
       "\n",
       "       ...,\n",
       "\n",
       "       [[ True],\n",
       "        [ True],\n",
       "        [ True],\n",
       "        ...,\n",
       "        [ True],\n",
       "        [ True],\n",
       "        [ True]],\n",
       "\n",
       "       [[ True],\n",
       "        [ True],\n",
       "        [ True],\n",
       "        ...,\n",
       "        [ True],\n",
       "        [ True],\n",
       "        [ True]],\n",
       "\n",
       "       [[ True],\n",
       "        [ True],\n",
       "        [ True],\n",
       "        ...,\n",
       "        [ True],\n",
       "        [ True],\n",
       "        [ True]]])"
      ]
     },
     "execution_count": 13,
     "metadata": {},
     "output_type": "execute_result"
    }
   ],
   "source": [
    "mask"
   ]
  },
  {
   "cell_type": "code",
   "execution_count": 14,
   "metadata": {},
   "outputs": [],
   "source": [
    "# Save as .npy file\n",
    "np.save('ml-drought-forecasting/ml-modeling-pipeline/data/05_model_input/mask.npy', mask)"
   ]
  },
  {
   "cell_type": "code",
   "execution_count": 15,
   "metadata": {},
   "outputs": [],
   "source": [
    "import numpy as np\n",
    "import xarray as xr\n",
    "\n",
    "# Assuming your dataset is called ds\n",
    "# Example dataset variables: t2m, sst, tp, pev\n",
    "\n",
    "# 1. Extract relevant variables\n",
    "variables = ['t2m', 'sst', 'tp']\n",
    "data_arrays = [ds[var] for var in variables]\n",
    "\n",
    "# 2. Flatten latitude and longitude into a single node dimension\n",
    "# Combine the latitude and longitude as one \"node\" dimension\n",
    "data_arrays_flattened = [da.stack(node=('latitude', 'longitude')) for da in data_arrays]\n",
    "\n",
    "# 3. Convert each variable's DataArray to a numpy array and add a new channel dimension\n",
    "# (so we have the shape (time, nodes, channels))\n",
    "covariates = np.stack([da.to_numpy() for da in data_arrays_flattened], axis=-1)\n"
   ]
  },
  {
   "cell_type": "code",
   "execution_count": 16,
   "metadata": {},
   "outputs": [
    {
     "data": {
      "text/plain": [
       "array([[[2.93111450e+02, 2.94215332e+02, 5.56945801e-04],\n",
       "        [2.92982544e+02, 2.94182129e+02, 6.48498535e-04],\n",
       "        [2.92791138e+02, 2.93830566e+02, 5.30242920e-04],\n",
       "        ...,\n",
       "        [2.82250122e+02,            nan, 6.67572021e-06],\n",
       "        [2.81875122e+02,            nan, 1.71661377e-05],\n",
       "        [2.81355591e+02,            nan, 1.52587891e-05]],\n",
       "\n",
       "       [[2.94114044e+02, 2.95475098e+02, 3.67164612e-04],\n",
       "        [2.93910919e+02, 2.95384277e+02, 3.45230103e-04],\n",
       "        [2.93698029e+02, 2.95097168e+02, 3.65257263e-04],\n",
       "        ...,\n",
       "        [2.87533966e+02,            nan, 1.14440918e-05],\n",
       "        [2.86303497e+02,            nan, 2.47955322e-05],\n",
       "        [2.85502716e+02,            nan, 4.29153442e-05]],\n",
       "\n",
       "       [[2.93340271e+02, 2.94870117e+02, 8.90731812e-04],\n",
       "        [2.93225037e+02, 2.94642578e+02, 7.41004944e-04],\n",
       "        [2.93129333e+02, 2.94491211e+02, 7.39097595e-04],\n",
       "        ...,\n",
       "        [2.92641052e+02,            nan, 6.48498535e-05],\n",
       "        [2.91719177e+02,            nan, 6.96182251e-05],\n",
       "        [2.90746521e+02,            nan, 5.43594360e-05]],\n",
       "\n",
       "       ...,\n",
       "\n",
       "       [[2.89720032e+02, 2.90598145e+02, 4.10079956e-04],\n",
       "        [2.89680969e+02, 2.90615723e+02, 3.79562378e-04],\n",
       "        [2.89753235e+02, 2.90980957e+02, 4.21524048e-04],\n",
       "        ...,\n",
       "        [2.98876282e+02,            nan, 8.01086426e-05],\n",
       "        [2.98782532e+02,            nan, 2.67028809e-05],\n",
       "        [2.98061829e+02,            nan, 2.17437744e-04]],\n",
       "\n",
       "       [[2.90703369e+02, 2.92044922e+02, 3.54766846e-04],\n",
       "        [2.90748291e+02, 2.92360352e+02, 3.26156616e-04],\n",
       "        [2.90746338e+02, 2.92458008e+02, 3.68118286e-04],\n",
       "        ...,\n",
       "        [2.92234619e+02,            nan, 0.00000000e+00],\n",
       "        [2.90982666e+02,            nan, 0.00000000e+00],\n",
       "        [2.90078369e+02,            nan, 1.90734863e-06]],\n",
       "\n",
       "       [[2.92379974e+02, 2.93492188e+02, 8.31604004e-04],\n",
       "        [2.92352631e+02, 2.93602539e+02, 7.53402710e-04],\n",
       "        [2.92342865e+02, 2.93655273e+02, 5.09262085e-04],\n",
       "        ...,\n",
       "        [2.88817474e+02,            nan, 4.00543213e-05],\n",
       "        [2.88413177e+02,            nan, 3.43322754e-05],\n",
       "        [2.87954193e+02,            nan, 1.33514404e-05]]])"
      ]
     },
     "execution_count": 16,
     "metadata": {},
     "output_type": "execute_result"
    }
   ],
   "source": [
    "covariates"
   ]
  },
  {
   "cell_type": "code",
   "execution_count": 17,
   "metadata": {},
   "outputs": [],
   "source": [
    "import numpy as np\n",
    "\n",
    "# Zakładając, że 'covariates' jest Twoim array'em numpy\n",
    "covariates = np.nan_to_num(covariates, nan=0.0)"
   ]
  },
  {
   "cell_type": "code",
   "execution_count": 18,
   "metadata": {},
   "outputs": [
    {
     "data": {
      "text/plain": [
       "array([[[2.93111450e+02, 2.94215332e+02, 5.56945801e-04],\n",
       "        [2.92982544e+02, 2.94182129e+02, 6.48498535e-04],\n",
       "        [2.92791138e+02, 2.93830566e+02, 5.30242920e-04],\n",
       "        ...,\n",
       "        [2.82250122e+02, 0.00000000e+00, 6.67572021e-06],\n",
       "        [2.81875122e+02, 0.00000000e+00, 1.71661377e-05],\n",
       "        [2.81355591e+02, 0.00000000e+00, 1.52587891e-05]],\n",
       "\n",
       "       [[2.94114044e+02, 2.95475098e+02, 3.67164612e-04],\n",
       "        [2.93910919e+02, 2.95384277e+02, 3.45230103e-04],\n",
       "        [2.93698029e+02, 2.95097168e+02, 3.65257263e-04],\n",
       "        ...,\n",
       "        [2.87533966e+02, 0.00000000e+00, 1.14440918e-05],\n",
       "        [2.86303497e+02, 0.00000000e+00, 2.47955322e-05],\n",
       "        [2.85502716e+02, 0.00000000e+00, 4.29153442e-05]],\n",
       "\n",
       "       [[2.93340271e+02, 2.94870117e+02, 8.90731812e-04],\n",
       "        [2.93225037e+02, 2.94642578e+02, 7.41004944e-04],\n",
       "        [2.93129333e+02, 2.94491211e+02, 7.39097595e-04],\n",
       "        ...,\n",
       "        [2.92641052e+02, 0.00000000e+00, 6.48498535e-05],\n",
       "        [2.91719177e+02, 0.00000000e+00, 6.96182251e-05],\n",
       "        [2.90746521e+02, 0.00000000e+00, 5.43594360e-05]],\n",
       "\n",
       "       ...,\n",
       "\n",
       "       [[2.89720032e+02, 2.90598145e+02, 4.10079956e-04],\n",
       "        [2.89680969e+02, 2.90615723e+02, 3.79562378e-04],\n",
       "        [2.89753235e+02, 2.90980957e+02, 4.21524048e-04],\n",
       "        ...,\n",
       "        [2.98876282e+02, 0.00000000e+00, 8.01086426e-05],\n",
       "        [2.98782532e+02, 0.00000000e+00, 2.67028809e-05],\n",
       "        [2.98061829e+02, 0.00000000e+00, 2.17437744e-04]],\n",
       "\n",
       "       [[2.90703369e+02, 2.92044922e+02, 3.54766846e-04],\n",
       "        [2.90748291e+02, 2.92360352e+02, 3.26156616e-04],\n",
       "        [2.90746338e+02, 2.92458008e+02, 3.68118286e-04],\n",
       "        ...,\n",
       "        [2.92234619e+02, 0.00000000e+00, 0.00000000e+00],\n",
       "        [2.90982666e+02, 0.00000000e+00, 0.00000000e+00],\n",
       "        [2.90078369e+02, 0.00000000e+00, 1.90734863e-06]],\n",
       "\n",
       "       [[2.92379974e+02, 2.93492188e+02, 8.31604004e-04],\n",
       "        [2.92352631e+02, 2.93602539e+02, 7.53402710e-04],\n",
       "        [2.92342865e+02, 2.93655273e+02, 5.09262085e-04],\n",
       "        ...,\n",
       "        [2.88817474e+02, 0.00000000e+00, 4.00543213e-05],\n",
       "        [2.88413177e+02, 0.00000000e+00, 3.43322754e-05],\n",
       "        [2.87954193e+02, 0.00000000e+00, 1.33514404e-05]]])"
      ]
     },
     "execution_count": 18,
     "metadata": {},
     "output_type": "execute_result"
    }
   ],
   "source": [
    "covariates\n"
   ]
  },
  {
   "cell_type": "code",
   "execution_count": 19,
   "metadata": {},
   "outputs": [],
   "source": [
    "# Save as .npy file\n",
    "np.save('ml-drought-forecasting/ml-modeling-pipeline/data/05_model_input/covariates.npy', covariates)"
   ]
  },
  {
   "cell_type": "code",
   "execution_count": 20,
   "metadata": {},
   "outputs": [],
   "source": [
    "import pandas as pd\n",
    "import os\n",
    "\n",
    "def generate_and_save_metadata(df: pd.DataFrame, lat_col: str = 'lat', lon_col: str = 'lon', save_directory: str = None) -> pd.DataFrame:\n",
    "    \"\"\"\n",
    "    Generates metadata from a given DataFrame by identifying unique latitude and longitude\n",
    "    combinations and assigning a unique node ID to each combination. The metadata is then\n",
    "    saved to a specified Parquet file.\n",
    "\n",
    "    Parameters:\n",
    "    - df (pd.DataFrame): The input DataFrame.\n",
    "    - lat_col (str): The name of the column containing latitude data.\n",
    "    - lon_col (str): The name of the column containing longitude data.\n",
    "    - save_directory (str, optional): The directory where the metadata file will be saved. If None, \n",
    "                                      the file will be saved in the current working directory.\n",
    "\n",
    "    Returns:\n",
    "    - pd.DataFrame: A DataFrame containing the metadata with latitude, longitude, and 'node_id' as columns.\n",
    "    \"\"\"\n",
    "    # Ensure the DataFrame contains necessary columns\n",
    "    if lat_col not in df.columns or lon_col not in df.columns:\n",
    "        raise ValueError(f\"DataFrame must contain '{lat_col}' and '{lon_col}' columns.\")\n",
    "\n",
    "    # Create a unique node ID for each unique latitude-longitude combination\n",
    "    unique_lat_lon = df[[lat_col, lon_col]].drop_duplicates().reset_index(drop=True)\n",
    "    unique_lat_lon['node_id'] = unique_lat_lon.index\n",
    "\n",
    "    # Create the metadata DataFrame\n",
    "    metadata = unique_lat_lon.set_index('node_id')\n",
    "\n",
    "    # Handle save directory and save metadata to Parquet file\n",
    "    if save_directory:\n",
    "        os.makedirs(save_directory, exist_ok=True)  # Create directory if it doesn't exist\n",
    "        file_path = os.path.join(save_directory, \"metadata.parquet\")\n",
    "    else:\n",
    "        file_path = \"metadata.parquet\"  # Save in the current working directory\n",
    "\n",
    "    metadata.to_parquet(file_path)\n",
    "    print(f\"Metadata file saved at: {file_path}\")\n",
    "\n",
    "    return metadata\n"
   ]
  },
  {
   "cell_type": "code",
   "execution_count": 21,
   "metadata": {},
   "outputs": [
    {
     "name": "stdout",
     "output_type": "stream",
     "text": [
      "Metadata file saved at: ml-drought-forecasting/ml-modeling-pipeline/data/05_model_input/metadata.parquet\n"
     ]
    },
    {
     "name": "stderr",
     "output_type": "stream",
     "text": [
      "<frozen importlib._bootstrap>:241: RuntimeWarning: pyarrow.lib.Tensor size changed, may indicate binary incompatibility. Expected 64 from C header, got 80 from PyObject\n"
     ]
    }
   ],
   "source": [
    "import pandas as pd\n",
    "import os\n",
    "\n",
    "# Assume you've already stacked your data arrays as 'data_arrays_flattened'\n",
    "# We'll use one of the flattened DataArrays to extract the node information\n",
    "da_flattened = data_arrays_flattened[0]  # Using the first variable for example\n",
    "\n",
    "# Get the MultiIndex from the 'node' dimension\n",
    "node_index = da_flattened.indexes['node']\n",
    "\n",
    "# Extract latitude and longitude from the MultiIndex\n",
    "latitudes = node_index.get_level_values('latitude').values\n",
    "longitudes = node_index.get_level_values('longitude').values\n",
    "\n",
    "# Create a DataFrame with 'lat' and 'lon' columns\n",
    "df = pd.DataFrame({\n",
    "    'lat': latitudes,\n",
    "    'lon': longitudes\n",
    "})\n",
    "\n",
    "# Now use your 'generate_and_save_metadata' function\n",
    "metadata = generate_and_save_metadata(\n",
    "    df, \n",
    "    lat_col='lat', \n",
    "    lon_col='lon', \n",
    "    save_directory='ml-drought-forecasting/ml-modeling-pipeline/data/05_model_input/'\n",
    ")\n"
   ]
  },
  {
   "cell_type": "code",
   "execution_count": 22,
   "metadata": {},
   "outputs": [],
   "source": [
    "# metadata"
   ]
  },
  {
   "cell_type": "code",
   "execution_count": 23,
   "metadata": {},
   "outputs": [],
   "source": [
    "import pandas as pd\n",
    "metadata = pd.read_parquet(\"ml-drought-forecasting/ml-modeling-pipeline/data/05_model_input/metadata.parquet\")"
   ]
  },
  {
   "cell_type": "code",
   "execution_count": 24,
   "metadata": {},
   "outputs": [
    {
     "data": {
      "text/html": [
       "<div>\n",
       "<style scoped>\n",
       "    .dataframe tbody tr th:only-of-type {\n",
       "        vertical-align: middle;\n",
       "    }\n",
       "\n",
       "    .dataframe tbody tr th {\n",
       "        vertical-align: top;\n",
       "    }\n",
       "\n",
       "    .dataframe thead th {\n",
       "        text-align: right;\n",
       "    }\n",
       "</style>\n",
       "<table border=\"1\" class=\"dataframe\">\n",
       "  <thead>\n",
       "    <tr style=\"text-align: right;\">\n",
       "      <th></th>\n",
       "      <th>lat</th>\n",
       "      <th>lon</th>\n",
       "    </tr>\n",
       "    <tr>\n",
       "      <th>node_id</th>\n",
       "      <th></th>\n",
       "      <th></th>\n",
       "    </tr>\n",
       "  </thead>\n",
       "  <tbody>\n",
       "    <tr>\n",
       "      <th>0</th>\n",
       "      <td>-30.0</td>\n",
       "      <td>0</td>\n",
       "    </tr>\n",
       "    <tr>\n",
       "      <th>1</th>\n",
       "      <td>-30.0</td>\n",
       "      <td>1</td>\n",
       "    </tr>\n",
       "    <tr>\n",
       "      <th>2</th>\n",
       "      <td>-30.0</td>\n",
       "      <td>2</td>\n",
       "    </tr>\n",
       "    <tr>\n",
       "      <th>3</th>\n",
       "      <td>-30.0</td>\n",
       "      <td>3</td>\n",
       "    </tr>\n",
       "    <tr>\n",
       "      <th>4</th>\n",
       "      <td>-30.0</td>\n",
       "      <td>4</td>\n",
       "    </tr>\n",
       "    <tr>\n",
       "      <th>...</th>\n",
       "      <td>...</td>\n",
       "      <td>...</td>\n",
       "    </tr>\n",
       "    <tr>\n",
       "      <th>21955</th>\n",
       "      <td>30.0</td>\n",
       "      <td>355</td>\n",
       "    </tr>\n",
       "    <tr>\n",
       "      <th>21956</th>\n",
       "      <td>30.0</td>\n",
       "      <td>356</td>\n",
       "    </tr>\n",
       "    <tr>\n",
       "      <th>21957</th>\n",
       "      <td>30.0</td>\n",
       "      <td>357</td>\n",
       "    </tr>\n",
       "    <tr>\n",
       "      <th>21958</th>\n",
       "      <td>30.0</td>\n",
       "      <td>358</td>\n",
       "    </tr>\n",
       "    <tr>\n",
       "      <th>21959</th>\n",
       "      <td>30.0</td>\n",
       "      <td>359</td>\n",
       "    </tr>\n",
       "  </tbody>\n",
       "</table>\n",
       "<p>21960 rows × 2 columns</p>\n",
       "</div>"
      ],
      "text/plain": [
       "          lat  lon\n",
       "node_id           \n",
       "0       -30.0    0\n",
       "1       -30.0    1\n",
       "2       -30.0    2\n",
       "3       -30.0    3\n",
       "4       -30.0    4\n",
       "...       ...  ...\n",
       "21955    30.0  355\n",
       "21956    30.0  356\n",
       "21957    30.0  357\n",
       "21958    30.0  358\n",
       "21959    30.0  359\n",
       "\n",
       "[21960 rows x 2 columns]"
      ]
     },
     "execution_count": 24,
     "metadata": {},
     "output_type": "execute_result"
    }
   ],
   "source": [
    "metadata"
   ]
  },
  {
   "cell_type": "code",
   "execution_count": 25,
   "metadata": {},
   "outputs": [],
   "source": [
    "# Converting the DataFrame to a numpy ndarray\n",
    "metadata_array = metadata.to_numpy()"
   ]
  },
  {
   "cell_type": "code",
   "execution_count": 26,
   "metadata": {},
   "outputs": [
    {
     "data": {
      "text/plain": [
       "array([[-30.,   0.],\n",
       "       [-30.,   1.],\n",
       "       [-30.,   2.],\n",
       "       ...,\n",
       "       [ 30., 357.],\n",
       "       [ 30., 358.],\n",
       "       [ 30., 359.]])"
      ]
     },
     "execution_count": 26,
     "metadata": {},
     "output_type": "execute_result"
    }
   ],
   "source": [
    "metadata_array"
   ]
  },
  {
   "cell_type": "code",
   "execution_count": 27,
   "metadata": {},
   "outputs": [],
   "source": [
    "# Save as .npy file\n",
    "np.save('ml-drought-forecasting/ml-modeling-pipeline/data/05_model_input/metadata.npy', metadata_array)"
   ]
  },
  {
   "cell_type": "code",
   "execution_count": 28,
   "metadata": {},
   "outputs": [],
   "source": [
    "from tsl.ops.similarities import geographical_distance\n",
    "# Calculate geographical distances with coordinates converted to radians.\n",
    "dist = geographical_distance(metadata_array, to_rad=True)"
   ]
  },
  {
   "cell_type": "code",
   "execution_count": 29,
   "metadata": {},
   "outputs": [
    {
     "data": {
      "text/plain": [
       "array([[   0.        ,   96.29745869,  192.5930838 , ..., 6679.26370783,\n",
       "        6675.06538725, 6672.54511721],\n",
       "       [  96.29745869,    0.        ,   96.29745869, ..., 6685.13689318,\n",
       "        6679.26370783, 6675.06538725],\n",
       "       [ 192.5930838 ,   96.29745869,    0.        , ..., 6692.68049995,\n",
       "        6685.13689318, 6679.26370783],\n",
       "       ...,\n",
       "       [6679.26370783, 6685.13689318, 6692.68049995, ...,    0.        ,\n",
       "          96.29745869,  192.5930838 ],\n",
       "       [6675.06538725, 6679.26370783, 6685.13689318, ...,   96.29745869,\n",
       "           0.        ,   96.29745869],\n",
       "       [6672.54511721, 6675.06538725, 6679.26370783, ...,  192.5930838 ,\n",
       "          96.29745869,    0.        ]])"
      ]
     },
     "execution_count": 29,
     "metadata": {},
     "output_type": "execute_result"
    }
   ],
   "source": [
    "dist"
   ]
  },
  {
   "cell_type": "code",
   "execution_count": 30,
   "metadata": {},
   "outputs": [],
   "source": [
    "# Save as .npy file\n",
    "np.save('ml-drought-forecasting/ml-modeling-pipeline/data/05_model_input/distances.npy', dist)"
   ]
  },
  {
   "cell_type": "code",
   "execution_count": 31,
   "metadata": {},
   "outputs": [],
   "source": [
    "from typing import Optional, Union, List\n",
    "\n",
    "from tsl.datasets.prototypes import TabularDataset\n",
    "\n",
    "class DroughtDataset(TabularDataset):\n",
    "\n",
    "    similarity_options = {'distance', 'correlation'}\n",
    "\n",
    "    def __init__(self,\n",
    "                 root: str = None\n",
    "                 ):\n",
    "\n",
    "        self.root = root\n",
    "\n",
    "        # Load data\n",
    "        target, mask, u, dist, metadata = self.load()\n",
    "\n",
    "        covariates = {\n",
    "            'u': (u),\n",
    "            'metadata' : (metadata),\n",
    "            'distances': (dist)\n",
    "        }\n",
    "\n",
    "        super().__init__(target=target,\n",
    "                         mask=mask,\n",
    "                         covariates=covariates,\n",
    "                         similarity_score='distance',\n",
    "                         temporal_aggregation='mean',\n",
    "                         spatial_aggregation='mean',\n",
    "                         name='DroughtDataset')\n",
    "\n",
    "    def load(self):\n",
    "        \"\"\"\n",
    "        Load data from files.\n",
    "\n",
    "        Returns:\n",
    "            tuple: Containing target, mask, covariates, distances, and metadata.\n",
    "        \"\"\"\n",
    "        target_path = f\"{self.root}target.npy\"\n",
    "        mask_path = f\"{self.root}mask.npy\"\n",
    "        dist_path = f\"{self.root}distances.npy\"\n",
    "        covariates_path = f\"{self.root}covariates.npy\"\n",
    "        metadata_path = f\"{self.root}metadata.npy\"\n",
    "\n",
    "        # Load main data\n",
    "        target = np.load(target_path)\n",
    "        mask = np.load(mask_path)\n",
    "        u = np.load(covariates_path)\n",
    "        dist = np.load(dist_path)\n",
    "        metadata = np.load(metadata_path)\n",
    "\n",
    "        return target, mask, u, dist, metadata\n",
    "\n",
    "\n",
    "    def compute_similarity(self, method: str, **kwargs):\n",
    "        \"\"\"\n",
    "        Compute similarity matrix based on the specified method.\n",
    "\n",
    "        Args:\n",
    "            method (str): The similarity computation method ('distance' or 'correlation').\n",
    "            **kwargs: Additional keyword arguments for similarity computation.\n",
    "\n",
    "        Returns:\n",
    "            numpy.ndarray: Computed similarity matrix.\n",
    "\n",
    "        Raises:\n",
    "            ValueError: If an unknown similarity method is provided.\n",
    "        \"\"\"\n",
    "        if method == \"distance\":\n",
    "            # Calculate a Gaussian kernel similarity from the distance matrix, using a default or provided 'theta'\n",
    "            theta = kwargs.get('theta', np.std(self.distances))\n",
    "            return self.gaussian_kernel(self.distances, theta=theta)\n",
    "        elif method == \"correlation\":\n",
    "            # Compute the average correlation between nodes over the target features\n",
    "            # Reshape target data to have nodes as columns\n",
    "            target_values = self.target.values.reshape(len(self.target), -1, len(self.target_node_feature))\n",
    "            # Average over the target features\n",
    "            target_mean = target_values.mean(axis=2)\n",
    "            # Compute correlation between nodes\n",
    "            corr = np.corrcoef(target_mean, rowvar=False)\n",
    "            return (corr + 1) / 2  # Normalize to [0, 1]\n",
    "        else:\n",
    "            raise ValueError(f\"Unknown similarity method: {method}\")\n",
    "\n",
    "    @staticmethod\n",
    "    def gaussian_kernel(distances, theta):\n",
    "        \"\"\"\n",
    "        Compute Gaussian kernel similarity from distances.\n",
    "\n",
    "        Args:\n",
    "            distances (numpy.ndarray): Distance matrix.\n",
    "            theta (float): Kernel bandwidth parameter.\n",
    "\n",
    "        Returns:\n",
    "            numpy.ndarray: Gaussian kernel similarity matrix.\n",
    "        \"\"\"\n",
    "        return np.exp(-(distances ** 2) / (2 * (theta ** 2)))"
   ]
  },
  {
   "cell_type": "code",
   "execution_count": 32,
   "metadata": {},
   "outputs": [],
   "source": [
    "dataset = DroughtDataset(root='ml-drought-forecasting/ml-modeling-pipeline/data/05_model_input/')"
   ]
  },
  {
   "cell_type": "code",
   "execution_count": 33,
   "metadata": {},
   "outputs": [
    {
     "data": {
      "text/plain": [
       "array([[[ 7.8231096e-08],\n",
       "        [ 7.8231096e-08],\n",
       "        [ 7.8231096e-08],\n",
       "        ...,\n",
       "        [-5.7474896e-04],\n",
       "        [ 1.2703240e-06],\n",
       "        [ 3.1664968e-07]],\n",
       "\n",
       "       [[-2.6077032e-08],\n",
       "        [-2.6077032e-08],\n",
       "        [-2.6077032e-08],\n",
       "        ...,\n",
       "        [-8.5928664e-04],\n",
       "        [-7.4133277e-07],\n",
       "        [-7.4133277e-07]],\n",
       "\n",
       "       [[ 3.7252903e-09],\n",
       "        [ 3.7252903e-09],\n",
       "        [ 3.7252903e-09],\n",
       "        ...,\n",
       "        [-1.2917481e-03],\n",
       "        [-1.4267862e-06],\n",
       "        [-1.1883676e-06]],\n",
       "\n",
       "       ...,\n",
       "\n",
       "       [[ 1.4901161e-08],\n",
       "        [ 1.4901161e-08],\n",
       "        [ 1.4901161e-08],\n",
       "        ...,\n",
       "        [-1.4109462e-03],\n",
       "        [-1.8924475e-06],\n",
       "        [-1.6540289e-06]],\n",
       "\n",
       "       [[-9.3132257e-08],\n",
       "        [-9.3132257e-08],\n",
       "        [-9.3132257e-08],\n",
       "        ...,\n",
       "        [-9.1252103e-04],\n",
       "        [-1.0468066e-06],\n",
       "        [-1.0468066e-06]],\n",
       "\n",
       "       [[-1.4901161e-08],\n",
       "        [-1.4901161e-08],\n",
       "        [-1.4901161e-08],\n",
       "        ...,\n",
       "        [-6.8046153e-04],\n",
       "        [ 1.4156103e-06],\n",
       "        [ 4.2766333e-06]]], dtype=float32)"
      ]
     },
     "execution_count": 33,
     "metadata": {},
     "output_type": "execute_result"
    }
   ],
   "source": [
    "dataset.target"
   ]
  },
  {
   "cell_type": "code",
   "execution_count": 34,
   "metadata": {},
   "outputs": [
    {
     "name": "stdout",
     "output_type": "stream",
     "text": [
      "Has missing values: True\n"
     ]
    }
   ],
   "source": [
    "print(f\"Has missing values: {dataset.has_mask}\")"
   ]
  },
  {
   "cell_type": "code",
   "execution_count": 35,
   "metadata": {},
   "outputs": [
    {
     "data": {
      "text/plain": [
       "array([[[ True],\n",
       "        [ True],\n",
       "        [ True],\n",
       "        ...,\n",
       "        [ True],\n",
       "        [ True],\n",
       "        [ True]],\n",
       "\n",
       "       [[ True],\n",
       "        [ True],\n",
       "        [ True],\n",
       "        ...,\n",
       "        [ True],\n",
       "        [ True],\n",
       "        [ True]],\n",
       "\n",
       "       [[ True],\n",
       "        [ True],\n",
       "        [ True],\n",
       "        ...,\n",
       "        [ True],\n",
       "        [ True],\n",
       "        [ True]],\n",
       "\n",
       "       ...,\n",
       "\n",
       "       [[ True],\n",
       "        [ True],\n",
       "        [ True],\n",
       "        ...,\n",
       "        [ True],\n",
       "        [ True],\n",
       "        [ True]],\n",
       "\n",
       "       [[ True],\n",
       "        [ True],\n",
       "        [ True],\n",
       "        ...,\n",
       "        [ True],\n",
       "        [ True],\n",
       "        [ True]],\n",
       "\n",
       "       [[ True],\n",
       "        [ True],\n",
       "        [ True],\n",
       "        ...,\n",
       "        [ True],\n",
       "        [ True],\n",
       "        [ True]]])"
      ]
     },
     "execution_count": 35,
     "metadata": {},
     "output_type": "execute_result"
    }
   ],
   "source": [
    "dataset.mask"
   ]
  },
  {
   "cell_type": "code",
   "execution_count": 36,
   "metadata": {},
   "outputs": [
    {
     "data": {
      "text/plain": [
       "{'u': array([[[2.9311145e+02, 2.9421533e+02, 5.5694580e-04],\n",
       "         [2.9298254e+02, 2.9418213e+02, 6.4849854e-04],\n",
       "         [2.9279114e+02, 2.9383057e+02, 5.3024292e-04],\n",
       "         ...,\n",
       "         [2.8225012e+02, 0.0000000e+00, 6.6757202e-06],\n",
       "         [2.8187512e+02, 0.0000000e+00, 1.7166138e-05],\n",
       "         [2.8135559e+02, 0.0000000e+00, 1.5258789e-05]],\n",
       " \n",
       "        [[2.9411404e+02, 2.9547510e+02, 3.6716461e-04],\n",
       "         [2.9391092e+02, 2.9538428e+02, 3.4523010e-04],\n",
       "         [2.9369803e+02, 2.9509717e+02, 3.6525726e-04],\n",
       "         ...,\n",
       "         [2.8753397e+02, 0.0000000e+00, 1.1444092e-05],\n",
       "         [2.8630350e+02, 0.0000000e+00, 2.4795532e-05],\n",
       "         [2.8550272e+02, 0.0000000e+00, 4.2915344e-05]],\n",
       " \n",
       "        [[2.9334027e+02, 2.9487012e+02, 8.9073181e-04],\n",
       "         [2.9322504e+02, 2.9464258e+02, 7.4100494e-04],\n",
       "         [2.9312933e+02, 2.9449121e+02, 7.3909760e-04],\n",
       "         ...,\n",
       "         [2.9264105e+02, 0.0000000e+00, 6.4849854e-05],\n",
       "         [2.9171918e+02, 0.0000000e+00, 6.9618225e-05],\n",
       "         [2.9074652e+02, 0.0000000e+00, 5.4359436e-05]],\n",
       " \n",
       "        ...,\n",
       " \n",
       "        [[2.8972003e+02, 2.9059814e+02, 4.1007996e-04],\n",
       "         [2.8968097e+02, 2.9061572e+02, 3.7956238e-04],\n",
       "         [2.8975323e+02, 2.9098096e+02, 4.2152405e-04],\n",
       "         ...,\n",
       "         [2.9887628e+02, 0.0000000e+00, 8.0108643e-05],\n",
       "         [2.9878253e+02, 0.0000000e+00, 2.6702881e-05],\n",
       "         [2.9806183e+02, 0.0000000e+00, 2.1743774e-04]],\n",
       " \n",
       "        [[2.9070337e+02, 2.9204492e+02, 3.5476685e-04],\n",
       "         [2.9074829e+02, 2.9236035e+02, 3.2615662e-04],\n",
       "         [2.9074634e+02, 2.9245801e+02, 3.6811829e-04],\n",
       "         ...,\n",
       "         [2.9223462e+02, 0.0000000e+00, 0.0000000e+00],\n",
       "         [2.9098267e+02, 0.0000000e+00, 0.0000000e+00],\n",
       "         [2.9007837e+02, 0.0000000e+00, 1.9073486e-06]],\n",
       " \n",
       "        [[2.9237997e+02, 2.9349219e+02, 8.3160400e-04],\n",
       "         [2.9235263e+02, 2.9360254e+02, 7.5340271e-04],\n",
       "         [2.9234286e+02, 2.9365527e+02, 5.0926208e-04],\n",
       "         ...,\n",
       "         [2.8881747e+02, 0.0000000e+00, 4.0054321e-05],\n",
       "         [2.8841318e+02, 0.0000000e+00, 3.4332275e-05],\n",
       "         [2.8795419e+02, 0.0000000e+00, 1.3351440e-05]]], dtype=float32),\n",
       " 'metadata': array([[-30.,   0.],\n",
       "        [-30.,   1.],\n",
       "        [-30.,   2.],\n",
       "        ...,\n",
       "        [ 30., 357.],\n",
       "        [ 30., 358.],\n",
       "        [ 30., 359.]], dtype=float32),\n",
       " 'distances': array([[   0.     ,   96.29746,  192.59308, ..., 6679.2637 , 6675.0654 ,\n",
       "         6672.545  ],\n",
       "        [  96.29746,    0.     ,   96.29746, ..., 6685.1367 , 6679.2637 ,\n",
       "         6675.0654 ],\n",
       "        [ 192.59308,   96.29746,    0.     , ..., 6692.6807 , 6685.1367 ,\n",
       "         6679.2637 ],\n",
       "        ...,\n",
       "        [6679.2637 , 6685.1367 , 6692.6807 , ...,    0.     ,   96.29746,\n",
       "          192.59308],\n",
       "        [6675.0654 , 6679.2637 , 6685.1367 , ...,   96.29746,    0.     ,\n",
       "           96.29746],\n",
       "        [6672.545  , 6675.0654 , 6679.2637 , ...,  192.59308,   96.29746,\n",
       "            0.     ]], dtype=float32)}"
      ]
     },
     "execution_count": 36,
     "metadata": {},
     "output_type": "execute_result"
    }
   ],
   "source": [
    "dataset.covariates"
   ]
  },
  {
   "cell_type": "code",
   "execution_count": 37,
   "metadata": {},
   "outputs": [
    {
     "data": {
      "text/plain": [
       "array([[   0.     ,   96.29746,  192.59308, ..., 6679.2637 , 6675.0654 ,\n",
       "        6672.545  ],\n",
       "       [  96.29746,    0.     ,   96.29746, ..., 6685.1367 , 6679.2637 ,\n",
       "        6675.0654 ],\n",
       "       [ 192.59308,   96.29746,    0.     , ..., 6692.6807 , 6685.1367 ,\n",
       "        6679.2637 ],\n",
       "       ...,\n",
       "       [6679.2637 , 6685.1367 , 6692.6807 , ...,    0.     ,   96.29746,\n",
       "         192.59308],\n",
       "       [6675.0654 , 6679.2637 , 6685.1367 , ...,   96.29746,    0.     ,\n",
       "          96.29746],\n",
       "       [6672.545  , 6675.0654 , 6679.2637 , ...,  192.59308,   96.29746,\n",
       "           0.     ]], dtype=float32)"
      ]
     },
     "execution_count": 37,
     "metadata": {},
     "output_type": "execute_result"
    }
   ],
   "source": [
    "dataset.distances"
   ]
  },
  {
   "cell_type": "code",
   "execution_count": 38,
   "metadata": {},
   "outputs": [],
   "source": [
    "sim = dataset.compute_similarity(\"distance\")  # or dataset.compute_similarity()"
   ]
  },
  {
   "cell_type": "code",
   "execution_count": 39,
   "metadata": {},
   "outputs": [
    {
     "data": {
      "text/plain": [
       "array([[1.        , 0.9998158 , 0.9992636 , ..., 0.4123332 , 0.41279253,\n",
       "        0.41306838],\n",
       "       [0.9998158 , 1.        , 0.9998158 , ..., 0.411691  , 0.4123332 ,\n",
       "        0.41279253],\n",
       "       [0.9992636 , 0.9998158 , 1.        , ..., 0.41086674, 0.411691  ,\n",
       "        0.4123332 ],\n",
       "       ...,\n",
       "       [0.4123332 , 0.411691  , 0.41086674, ..., 1.        , 0.9998158 ,\n",
       "        0.9992636 ],\n",
       "       [0.41279253, 0.4123332 , 0.411691  , ..., 0.9998158 , 1.        ,\n",
       "        0.9998158 ],\n",
       "       [0.41306838, 0.41279253, 0.4123332 , ..., 0.9992636 , 0.9998158 ,\n",
       "        1.        ]], dtype=float32)"
      ]
     },
     "execution_count": 39,
     "metadata": {},
     "output_type": "execute_result"
    }
   ],
   "source": [
    "sim"
   ]
  },
  {
   "cell_type": "code",
   "execution_count": 40,
   "metadata": {},
   "outputs": [],
   "source": [
    "# Adjust connectivity to reduce the number of edges\n",
    "connectivity = dataset.get_connectivity(          \n",
    "    knn=5,     \n",
    "    include_self=False,\n",
    "    normalize_axis=1,\n",
    "    layout=\"edge_index\"\n",
    ")"
   ]
  },
  {
   "cell_type": "code",
   "execution_count": 41,
   "metadata": {},
   "outputs": [],
   "source": [
    "edge_index, edge_weight = connectivity"
   ]
  },
  {
   "cell_type": "code",
   "execution_count": 42,
   "metadata": {},
   "outputs": [
    {
     "data": {
      "text/plain": [
       "array([[    0,     0,     0, ..., 21959, 21959, 21959],\n",
       "       [    1,   359,   360, ..., 21599, 21600, 21958]])"
      ]
     },
     "execution_count": 42,
     "metadata": {},
     "output_type": "execute_result"
    }
   ],
   "source": [
    "edge_index"
   ]
  },
  {
   "cell_type": "code",
   "execution_count": 43,
   "metadata": {},
   "outputs": [
    {
     "data": {
      "text/plain": [
       "array([0.20002224, 0.20002224, 0.20000282, ..., 0.20000282, 0.20002224,\n",
       "       0.20002224], dtype=float32)"
      ]
     },
     "execution_count": 43,
     "metadata": {},
     "output_type": "execute_result"
    }
   ],
   "source": [
    "edge_weight"
   ]
  },
  {
   "cell_type": "code",
   "execution_count": 44,
   "metadata": {},
   "outputs": [],
   "source": [
    "def print_matrix(matrix):\n",
    "    return pd.DataFrame(matrix)"
   ]
  },
  {
   "cell_type": "code",
   "execution_count": 45,
   "metadata": {},
   "outputs": [
    {
     "name": "stdout",
     "output_type": "stream",
     "text": [
      "A (21960, 21960):\n"
     ]
    },
    {
     "data": {
      "text/html": [
       "<div>\n",
       "<style scoped>\n",
       "    .dataframe tbody tr th:only-of-type {\n",
       "        vertical-align: middle;\n",
       "    }\n",
       "\n",
       "    .dataframe tbody tr th {\n",
       "        vertical-align: top;\n",
       "    }\n",
       "\n",
       "    .dataframe thead th {\n",
       "        text-align: right;\n",
       "    }\n",
       "</style>\n",
       "<table border=\"1\" class=\"dataframe\">\n",
       "  <thead>\n",
       "    <tr style=\"text-align: right;\">\n",
       "      <th></th>\n",
       "      <th>0</th>\n",
       "      <th>1</th>\n",
       "      <th>2</th>\n",
       "      <th>3</th>\n",
       "      <th>4</th>\n",
       "      <th>5</th>\n",
       "      <th>6</th>\n",
       "      <th>7</th>\n",
       "      <th>8</th>\n",
       "      <th>9</th>\n",
       "      <th>...</th>\n",
       "      <th>21950</th>\n",
       "      <th>21951</th>\n",
       "      <th>21952</th>\n",
       "      <th>21953</th>\n",
       "      <th>21954</th>\n",
       "      <th>21955</th>\n",
       "      <th>21956</th>\n",
       "      <th>21957</th>\n",
       "      <th>21958</th>\n",
       "      <th>21959</th>\n",
       "    </tr>\n",
       "  </thead>\n",
       "  <tbody>\n",
       "    <tr>\n",
       "      <th>0</th>\n",
       "      <td>0.000000</td>\n",
       "      <td>0.200022</td>\n",
       "      <td>0.000000</td>\n",
       "      <td>0.000000</td>\n",
       "      <td>0.000000</td>\n",
       "      <td>0.000000</td>\n",
       "      <td>0.0</td>\n",
       "      <td>0.0</td>\n",
       "      <td>0.0</td>\n",
       "      <td>0.0</td>\n",
       "      <td>...</td>\n",
       "      <td>0.0</td>\n",
       "      <td>0.0</td>\n",
       "      <td>0.0</td>\n",
       "      <td>0.0</td>\n",
       "      <td>0.000000</td>\n",
       "      <td>0.000000</td>\n",
       "      <td>0.000000</td>\n",
       "      <td>0.000000</td>\n",
       "      <td>0.000000</td>\n",
       "      <td>0.000000</td>\n",
       "    </tr>\n",
       "    <tr>\n",
       "      <th>1</th>\n",
       "      <td>0.200022</td>\n",
       "      <td>0.000000</td>\n",
       "      <td>0.200022</td>\n",
       "      <td>0.000000</td>\n",
       "      <td>0.000000</td>\n",
       "      <td>0.000000</td>\n",
       "      <td>0.0</td>\n",
       "      <td>0.0</td>\n",
       "      <td>0.0</td>\n",
       "      <td>0.0</td>\n",
       "      <td>...</td>\n",
       "      <td>0.0</td>\n",
       "      <td>0.0</td>\n",
       "      <td>0.0</td>\n",
       "      <td>0.0</td>\n",
       "      <td>0.000000</td>\n",
       "      <td>0.000000</td>\n",
       "      <td>0.000000</td>\n",
       "      <td>0.000000</td>\n",
       "      <td>0.000000</td>\n",
       "      <td>0.000000</td>\n",
       "    </tr>\n",
       "    <tr>\n",
       "      <th>2</th>\n",
       "      <td>0.000000</td>\n",
       "      <td>0.200022</td>\n",
       "      <td>0.000000</td>\n",
       "      <td>0.200022</td>\n",
       "      <td>0.000000</td>\n",
       "      <td>0.000000</td>\n",
       "      <td>0.0</td>\n",
       "      <td>0.0</td>\n",
       "      <td>0.0</td>\n",
       "      <td>0.0</td>\n",
       "      <td>...</td>\n",
       "      <td>0.0</td>\n",
       "      <td>0.0</td>\n",
       "      <td>0.0</td>\n",
       "      <td>0.0</td>\n",
       "      <td>0.000000</td>\n",
       "      <td>0.000000</td>\n",
       "      <td>0.000000</td>\n",
       "      <td>0.000000</td>\n",
       "      <td>0.000000</td>\n",
       "      <td>0.000000</td>\n",
       "    </tr>\n",
       "    <tr>\n",
       "      <th>3</th>\n",
       "      <td>0.000000</td>\n",
       "      <td>0.000000</td>\n",
       "      <td>0.200022</td>\n",
       "      <td>0.000000</td>\n",
       "      <td>0.200022</td>\n",
       "      <td>0.000000</td>\n",
       "      <td>0.0</td>\n",
       "      <td>0.0</td>\n",
       "      <td>0.0</td>\n",
       "      <td>0.0</td>\n",
       "      <td>...</td>\n",
       "      <td>0.0</td>\n",
       "      <td>0.0</td>\n",
       "      <td>0.0</td>\n",
       "      <td>0.0</td>\n",
       "      <td>0.000000</td>\n",
       "      <td>0.000000</td>\n",
       "      <td>0.000000</td>\n",
       "      <td>0.000000</td>\n",
       "      <td>0.000000</td>\n",
       "      <td>0.000000</td>\n",
       "    </tr>\n",
       "    <tr>\n",
       "      <th>4</th>\n",
       "      <td>0.000000</td>\n",
       "      <td>0.000000</td>\n",
       "      <td>0.000000</td>\n",
       "      <td>0.200022</td>\n",
       "      <td>0.000000</td>\n",
       "      <td>0.200022</td>\n",
       "      <td>0.0</td>\n",
       "      <td>0.0</td>\n",
       "      <td>0.0</td>\n",
       "      <td>0.0</td>\n",
       "      <td>...</td>\n",
       "      <td>0.0</td>\n",
       "      <td>0.0</td>\n",
       "      <td>0.0</td>\n",
       "      <td>0.0</td>\n",
       "      <td>0.000000</td>\n",
       "      <td>0.000000</td>\n",
       "      <td>0.000000</td>\n",
       "      <td>0.000000</td>\n",
       "      <td>0.000000</td>\n",
       "      <td>0.000000</td>\n",
       "    </tr>\n",
       "    <tr>\n",
       "      <th>...</th>\n",
       "      <td>...</td>\n",
       "      <td>...</td>\n",
       "      <td>...</td>\n",
       "      <td>...</td>\n",
       "      <td>...</td>\n",
       "      <td>...</td>\n",
       "      <td>...</td>\n",
       "      <td>...</td>\n",
       "      <td>...</td>\n",
       "      <td>...</td>\n",
       "      <td>...</td>\n",
       "      <td>...</td>\n",
       "      <td>...</td>\n",
       "      <td>...</td>\n",
       "      <td>...</td>\n",
       "      <td>...</td>\n",
       "      <td>...</td>\n",
       "      <td>...</td>\n",
       "      <td>...</td>\n",
       "      <td>...</td>\n",
       "      <td>...</td>\n",
       "    </tr>\n",
       "    <tr>\n",
       "      <th>21955</th>\n",
       "      <td>0.000000</td>\n",
       "      <td>0.000000</td>\n",
       "      <td>0.000000</td>\n",
       "      <td>0.000000</td>\n",
       "      <td>0.000000</td>\n",
       "      <td>0.000000</td>\n",
       "      <td>0.0</td>\n",
       "      <td>0.0</td>\n",
       "      <td>0.0</td>\n",
       "      <td>0.0</td>\n",
       "      <td>...</td>\n",
       "      <td>0.0</td>\n",
       "      <td>0.0</td>\n",
       "      <td>0.0</td>\n",
       "      <td>0.0</td>\n",
       "      <td>0.200022</td>\n",
       "      <td>0.000000</td>\n",
       "      <td>0.200022</td>\n",
       "      <td>0.000000</td>\n",
       "      <td>0.000000</td>\n",
       "      <td>0.000000</td>\n",
       "    </tr>\n",
       "    <tr>\n",
       "      <th>21956</th>\n",
       "      <td>0.000000</td>\n",
       "      <td>0.000000</td>\n",
       "      <td>0.000000</td>\n",
       "      <td>0.000000</td>\n",
       "      <td>0.000000</td>\n",
       "      <td>0.000000</td>\n",
       "      <td>0.0</td>\n",
       "      <td>0.0</td>\n",
       "      <td>0.0</td>\n",
       "      <td>0.0</td>\n",
       "      <td>...</td>\n",
       "      <td>0.0</td>\n",
       "      <td>0.0</td>\n",
       "      <td>0.0</td>\n",
       "      <td>0.0</td>\n",
       "      <td>0.000000</td>\n",
       "      <td>0.200022</td>\n",
       "      <td>0.000000</td>\n",
       "      <td>0.200022</td>\n",
       "      <td>0.000000</td>\n",
       "      <td>0.000000</td>\n",
       "    </tr>\n",
       "    <tr>\n",
       "      <th>21957</th>\n",
       "      <td>0.000000</td>\n",
       "      <td>0.000000</td>\n",
       "      <td>0.000000</td>\n",
       "      <td>0.000000</td>\n",
       "      <td>0.000000</td>\n",
       "      <td>0.000000</td>\n",
       "      <td>0.0</td>\n",
       "      <td>0.0</td>\n",
       "      <td>0.0</td>\n",
       "      <td>0.0</td>\n",
       "      <td>...</td>\n",
       "      <td>0.0</td>\n",
       "      <td>0.0</td>\n",
       "      <td>0.0</td>\n",
       "      <td>0.0</td>\n",
       "      <td>0.000000</td>\n",
       "      <td>0.000000</td>\n",
       "      <td>0.200022</td>\n",
       "      <td>0.000000</td>\n",
       "      <td>0.200022</td>\n",
       "      <td>0.000000</td>\n",
       "    </tr>\n",
       "    <tr>\n",
       "      <th>21958</th>\n",
       "      <td>0.000000</td>\n",
       "      <td>0.000000</td>\n",
       "      <td>0.000000</td>\n",
       "      <td>0.000000</td>\n",
       "      <td>0.000000</td>\n",
       "      <td>0.000000</td>\n",
       "      <td>0.0</td>\n",
       "      <td>0.0</td>\n",
       "      <td>0.0</td>\n",
       "      <td>0.0</td>\n",
       "      <td>...</td>\n",
       "      <td>0.0</td>\n",
       "      <td>0.0</td>\n",
       "      <td>0.0</td>\n",
       "      <td>0.0</td>\n",
       "      <td>0.000000</td>\n",
       "      <td>0.000000</td>\n",
       "      <td>0.000000</td>\n",
       "      <td>0.200022</td>\n",
       "      <td>0.000000</td>\n",
       "      <td>0.200022</td>\n",
       "    </tr>\n",
       "    <tr>\n",
       "      <th>21959</th>\n",
       "      <td>0.000000</td>\n",
       "      <td>0.000000</td>\n",
       "      <td>0.000000</td>\n",
       "      <td>0.000000</td>\n",
       "      <td>0.000000</td>\n",
       "      <td>0.000000</td>\n",
       "      <td>0.0</td>\n",
       "      <td>0.0</td>\n",
       "      <td>0.0</td>\n",
       "      <td>0.0</td>\n",
       "      <td>...</td>\n",
       "      <td>0.0</td>\n",
       "      <td>0.0</td>\n",
       "      <td>0.0</td>\n",
       "      <td>0.0</td>\n",
       "      <td>0.000000</td>\n",
       "      <td>0.000000</td>\n",
       "      <td>0.000000</td>\n",
       "      <td>0.000000</td>\n",
       "      <td>0.200022</td>\n",
       "      <td>0.000000</td>\n",
       "    </tr>\n",
       "  </tbody>\n",
       "</table>\n",
       "<p>21960 rows × 21960 columns</p>\n",
       "</div>"
      ],
      "text/plain": [
       "          0         1         2         3         4         5      6      \\\n",
       "0      0.000000  0.200022  0.000000  0.000000  0.000000  0.000000    0.0   \n",
       "1      0.200022  0.000000  0.200022  0.000000  0.000000  0.000000    0.0   \n",
       "2      0.000000  0.200022  0.000000  0.200022  0.000000  0.000000    0.0   \n",
       "3      0.000000  0.000000  0.200022  0.000000  0.200022  0.000000    0.0   \n",
       "4      0.000000  0.000000  0.000000  0.200022  0.000000  0.200022    0.0   \n",
       "...         ...       ...       ...       ...       ...       ...    ...   \n",
       "21955  0.000000  0.000000  0.000000  0.000000  0.000000  0.000000    0.0   \n",
       "21956  0.000000  0.000000  0.000000  0.000000  0.000000  0.000000    0.0   \n",
       "21957  0.000000  0.000000  0.000000  0.000000  0.000000  0.000000    0.0   \n",
       "21958  0.000000  0.000000  0.000000  0.000000  0.000000  0.000000    0.0   \n",
       "21959  0.000000  0.000000  0.000000  0.000000  0.000000  0.000000    0.0   \n",
       "\n",
       "       7      8      9      ...  21950  21951  21952  21953     21954  \\\n",
       "0        0.0    0.0    0.0  ...    0.0    0.0    0.0    0.0  0.000000   \n",
       "1        0.0    0.0    0.0  ...    0.0    0.0    0.0    0.0  0.000000   \n",
       "2        0.0    0.0    0.0  ...    0.0    0.0    0.0    0.0  0.000000   \n",
       "3        0.0    0.0    0.0  ...    0.0    0.0    0.0    0.0  0.000000   \n",
       "4        0.0    0.0    0.0  ...    0.0    0.0    0.0    0.0  0.000000   \n",
       "...      ...    ...    ...  ...    ...    ...    ...    ...       ...   \n",
       "21955    0.0    0.0    0.0  ...    0.0    0.0    0.0    0.0  0.200022   \n",
       "21956    0.0    0.0    0.0  ...    0.0    0.0    0.0    0.0  0.000000   \n",
       "21957    0.0    0.0    0.0  ...    0.0    0.0    0.0    0.0  0.000000   \n",
       "21958    0.0    0.0    0.0  ...    0.0    0.0    0.0    0.0  0.000000   \n",
       "21959    0.0    0.0    0.0  ...    0.0    0.0    0.0    0.0  0.000000   \n",
       "\n",
       "          21955     21956     21957     21958     21959  \n",
       "0      0.000000  0.000000  0.000000  0.000000  0.000000  \n",
       "1      0.000000  0.000000  0.000000  0.000000  0.000000  \n",
       "2      0.000000  0.000000  0.000000  0.000000  0.000000  \n",
       "3      0.000000  0.000000  0.000000  0.000000  0.000000  \n",
       "4      0.000000  0.000000  0.000000  0.000000  0.000000  \n",
       "...         ...       ...       ...       ...       ...  \n",
       "21955  0.000000  0.200022  0.000000  0.000000  0.000000  \n",
       "21956  0.200022  0.000000  0.200022  0.000000  0.000000  \n",
       "21957  0.000000  0.200022  0.000000  0.200022  0.000000  \n",
       "21958  0.000000  0.000000  0.200022  0.000000  0.200022  \n",
       "21959  0.000000  0.000000  0.000000  0.200022  0.000000  \n",
       "\n",
       "[21960 rows x 21960 columns]"
      ]
     },
     "execution_count": 45,
     "metadata": {},
     "output_type": "execute_result"
    }
   ],
   "source": [
    "from tsl.ops.connectivity import edge_index_to_adj\n",
    "\n",
    "adj = edge_index_to_adj(edge_index, edge_weight)\n",
    "print(f'A {adj.shape}:')\n",
    "print_matrix(adj)"
   ]
  },
  {
   "cell_type": "code",
   "execution_count": 46,
   "metadata": {},
   "outputs": [],
   "source": [
    "from tsl.data import SpatioTemporalDataset\n",
    "\n",
    "# covariates=dict(u=dataset.covariates['u'])\n",
    "covariates=dataset.covariates\n",
    "mask = dataset.get_mask().copy()\n",
    "\n",
    "torch_dataset = SpatioTemporalDataset(target=dataset.dataframe(),\n",
    "                                      mask=mask,\n",
    "                                      covariates=covariates,\n",
    "                                      connectivity=connectivity,\n",
    "                                      horizon=6, # Predict 7 step ahead\n",
    "                                      window=12, # Use 30 timestamps to predict the next one\n",
    "                                      stride=1 # Move 7 step forward each time\n",
    "                                      )"
   ]
  },
  {
   "cell_type": "code",
   "execution_count": 47,
   "metadata": {},
   "outputs": [],
   "source": [
    "from tsl.data.preprocessing import StandardScaler, MinMaxScaler\n",
    "\n",
    "scalers = {\n",
    "    'target': MinMaxScaler(axis=(0, 1)),\n",
    "    'u': MinMaxScaler(axis=(0, 1))\n",
    "}"
   ]
  },
  {
   "cell_type": "code",
   "execution_count": 48,
   "metadata": {},
   "outputs": [],
   "source": [
    "from tsl.data.datamodule import (SpatioTemporalDataModule,\n",
    "                                 TemporalSplitter)\n",
    "                                 \n",
    "# Split data sequentially:\n",
    "#   |------------ dataset -----------|\n",
    "#   |--- train ---|- val -|-- test --|\n",
    "splitter = TemporalSplitter(val_len=0.35, test_len=0.1)\n"
   ]
  },
  {
   "cell_type": "code",
   "execution_count": 49,
   "metadata": {},
   "outputs": [
    {
     "name": "stdout",
     "output_type": "stream",
     "text": [
      "SpatioTemporalDataModule(train_len=None, val_len=None, test_len=None, scalers=[target, u], batch_size=8)\n"
     ]
    }
   ],
   "source": [
    "# Create a SpatioTemporalDataModule\n",
    "datamodule = SpatioTemporalDataModule(\n",
    "    dataset=torch_dataset,\n",
    "    scalers=scalers,\n",
    "    mask_scaling=True,\n",
    "    splitter=splitter,\n",
    "    batch_size=8,\n",
    "    workers=15,\n",
    "    )\n",
    "\n",
    "print(datamodule)"
   ]
  },
  {
   "cell_type": "code",
   "execution_count": 50,
   "metadata": {},
   "outputs": [],
   "source": [
    "datamodule.setup()"
   ]
  },
  {
   "cell_type": "code",
   "execution_count": 51,
   "metadata": {},
   "outputs": [
    {
     "data": {
      "text/plain": [
       "SpatioTemporalDataModule(train_len=141, val_len=69, test_len=25, scalers=[target, u], batch_size=8)"
      ]
     },
     "execution_count": 51,
     "metadata": {},
     "output_type": "execute_result"
    }
   ],
   "source": [
    "datamodule"
   ]
  },
  {
   "cell_type": "code",
   "execution_count": 52,
   "metadata": {},
   "outputs": [],
   "source": [
    "from typing import Optional\n",
    "\n",
    "import torch\n",
    "from torch import nn, Tensor\n",
    "from torch_geometric.nn import MessagePassing\n",
    "from tsl.nn.blocks import RNNBase\n",
    "from tsl.nn.layers import Dense, GraphGRUCellBase, Activation\n",
    "\n",
    "\n",
    "class GraphAnisoConv(MessagePassing):\n",
    "    def __init__(self,\n",
    "                 in_channels: int,\n",
    "                 out_channels: int,\n",
    "                 kernel_size: int = 1,\n",
    "                 edge_dim: Optional[int] = None,\n",
    "                 activation: str = 'leaky_relu'):\n",
    "        super(GraphAnisoConv, self).__init__(aggr=\"add\", node_dim=-2)\n",
    "\n",
    "        self.in_channels = in_channels\n",
    "        self.out_channels = out_channels\n",
    "        self.kernel_size = kernel_size\n",
    "\n",
    "        self.msg_mlps = nn.ModuleList([\n",
    "            nn.Sequential(\n",
    "                nn.Linear(2 * (in_channels if i == 0 else out_channels),\n",
    "                          out_channels),\n",
    "                Activation(activation),\n",
    "                nn.Linear(out_channels, out_channels),\n",
    "            )\n",
    "            for i in range(kernel_size)\n",
    "        ])\n",
    "\n",
    "        edge_dim = edge_dim or 1  # accommodate for edge_weight\n",
    "        self.lin_edge = nn.Linear(edge_dim, out_channels, bias=False)\n",
    "\n",
    "        self.gate_mlp = Dense(out_channels, 1, activation='sigmoid')\n",
    "\n",
    "        self.skip_conn = nn.Linear(in_channels, out_channels)\n",
    "        self.activation = Activation(activation)\n",
    "\n",
    "    def forward(self, x, edge_index, edge_attr: Optional[Tensor] = None):\n",
    "        \"\"\"\"\"\"\n",
    "        out, x_ = 0, x\n",
    "        for idx in range(self.kernel_size):\n",
    "            x_ = self.propagate(edge_index, idx=idx, x=x_, edge_attr=edge_attr)\n",
    "            out += x_\n",
    "        out = self.activation(out + self.skip_conn(x))\n",
    "        return out\n",
    "\n",
    "    def message(self, x_i, x_j, idx, edge_attr: Optional[Tensor] = None):\n",
    "        mij = self.msg_mlps[idx](torch.cat([x_i, x_j], -1))\n",
    "        if edge_attr is not None:\n",
    "            if edge_attr.ndim == 1:  # accommodate for edge_weight\n",
    "                edge_attr = edge_attr.view(-1, 1)\n",
    "            mij = mij + self.lin_edge(edge_attr)\n",
    "        return self.gate_mlp(mij) * mij\n",
    "\n",
    "\n",
    "class GraphAnisoGRUCell(GraphGRUCellBase):\n",
    "\n",
    "    def __init__(self, input_size: int, hidden_size: int,\n",
    "                 edge_dim: Optional[int] = None,\n",
    "                 activation: str = 'leaky_relu'):\n",
    "        self.input_size = input_size\n",
    "        # instantiate gates\n",
    "        forget_gate = GraphAnisoConv(input_size + hidden_size, hidden_size,\n",
    "                                     edge_dim=edge_dim, activation=activation)\n",
    "        update_gate = GraphAnisoConv(input_size + hidden_size, hidden_size,\n",
    "                                     edge_dim=edge_dim, activation=activation)\n",
    "        candidate_gate = GraphAnisoConv(input_size + hidden_size, hidden_size,\n",
    "                                        edge_dim=edge_dim,\n",
    "                                        activation=activation)\n",
    "        super(GraphAnisoGRUCell, self).__init__(hidden_size=hidden_size,\n",
    "                                                forget_gate=forget_gate,\n",
    "                                                update_gate=update_gate,\n",
    "                                                candidate_gate=candidate_gate)\n",
    "\n",
    "\n",
    "class GraphAnisoGRU(RNNBase):\n",
    "\n",
    "    def __init__(self, input_size: int, hidden_size: int,\n",
    "                 edge_dim: Optional[int] = None,\n",
    "                 n_layers: int = 1, cat_states_layers: bool = False,\n",
    "                 return_only_last_state: bool = False,\n",
    "                 activation: str = 'leaky_relu'):\n",
    "        self.input_size = input_size\n",
    "        self.hidden_size = hidden_size\n",
    "        rnn_cells = [\n",
    "            GraphAnisoGRUCell(input_size if i == 0 else hidden_size,\n",
    "                              hidden_size, edge_dim=edge_dim,\n",
    "                              activation=activation)\n",
    "            for i in range(n_layers)\n",
    "        ]\n",
    "        super(GraphAnisoGRU, self).__init__(rnn_cells, cat_states_layers,\n",
    "                                            return_only_last_state)\n"
   ]
  },
  {
   "cell_type": "code",
   "execution_count": 53,
   "metadata": {},
   "outputs": [],
   "source": [
    "from typing import Optional, Union, List\n",
    "\n",
    "import torch\n",
    "from torch import Tensor, nn\n",
    "from torch_geometric.typing import Adj\n",
    "from tsl.nn.blocks import MLPDecoder\n",
    "from tsl.nn.layers import MultiLinear, NodeEmbedding\n",
    "from tsl.nn.models import BaseModel\n",
    "from tsl.nn.utils import maybe_cat_exog\n",
    "from tsl.utils import ensure_list\n",
    "\n",
    "\n",
    "def maybe_cat_emb(x: Tensor, emb: Optional[Tensor]):\n",
    "    if emb is None:\n",
    "        return x\n",
    "    if emb.ndim < x.ndim:\n",
    "        emb = emb[[None] * (x.ndim - emb.ndim)]\n",
    "    emb = emb.expand(*x.shape[:-1], -1)\n",
    "    return torch.cat([x, emb], dim=-1)\n",
    "\n",
    "\n",
    "class STGNN(BaseModel):\n",
    "    available_embedding_pos = {'encoding', 'decoding'}\n",
    "\n",
    "    def __init__(self, input_size: int, horizon: int,\n",
    "                 n_nodes: int = None,\n",
    "                 output_size: int = None,\n",
    "                 exog_size: int = 0,\n",
    "                 hidden_size: int = 32,\n",
    "                 emb_size: int = 0,\n",
    "                 add_embedding_before: Optional[\n",
    "                     Union[str, List[str]]] = 'encoding',\n",
    "                 use_local_weights: Union[str, List[str]] = None,\n",
    "                 activation: str = 'elu'):\n",
    "        super(STGNN, self).__init__()\n",
    "\n",
    "        self.input_size = input_size\n",
    "        self.horizon = horizon\n",
    "        self.n_nodes = n_nodes\n",
    "        self.output_size = output_size or input_size\n",
    "        self.hidden_size = hidden_size\n",
    "        self.exog_size = exog_size\n",
    "        self.activation = activation\n",
    "\n",
    "        # EMBEDDING\n",
    "        if add_embedding_before is None:\n",
    "            add_embedding_before = set()\n",
    "        else:\n",
    "            add_embedding_before = set(ensure_list(add_embedding_before))\n",
    "            if not add_embedding_before.issubset(self.available_embedding_pos):\n",
    "                raise ValueError(\"Parameter 'add_embedding_before' must be a \"\n",
    "                                 f\"subset of {self.available_embedding_pos}\")\n",
    "        self.add_embedding_before = add_embedding_before\n",
    "\n",
    "        if emb_size > 0:\n",
    "            self.emb = NodeEmbedding(n_nodes, emb_size)\n",
    "        else:\n",
    "            self.register_module('emb', None)\n",
    "\n",
    "        # ENCODER\n",
    "        self.encoder_input = input_size + exog_size\n",
    "        if 'encoding' in self.add_embedding_before and self.emb is not None:\n",
    "            self.encoder_input += emb_size\n",
    "\n",
    "        if use_local_weights is not None:\n",
    "            self.use_local_weights = set(ensure_list(use_local_weights))\n",
    "            if len(self.use_local_weights.difference(['encoder', 'decoder'])):\n",
    "                raise ValueError(\"Parameter 'use_local_weights' must be \"\n",
    "                                 \"'encoder', 'decoder', or both.\")\n",
    "        else:\n",
    "            self.use_local_weights = set()\n",
    "\n",
    "        if 'encoder' in self.use_local_weights:\n",
    "            self.encoder = MultiLinear(self.encoder_input, hidden_size, n_nodes)\n",
    "        else:\n",
    "            self.encoder = nn.Linear(self.encoder_input, hidden_size)\n",
    "\n",
    "        # DECODER\n",
    "        self.decoder_input = hidden_size\n",
    "        if 'decoding' in self.add_embedding_before and self.emb is not None:\n",
    "            self.decoder_input += emb_size\n",
    "        if 'decoder' in self.use_local_weights:\n",
    "            raise NotImplementedError()\n",
    "        else:\n",
    "            self.decoder = MLPDecoder(input_size=self.decoder_input,\n",
    "                                      hidden_size=self.hidden_size,\n",
    "                                      output_size=self.output_size,\n",
    "                                      horizon=self.horizon,\n",
    "                                      activation=self.activation)\n",
    "\n",
    "    def stmp(self, x: Tensor, edge_index: Adj,\n",
    "             edge_weight: Optional[Tensor] = None,\n",
    "             emb: Optional[Tensor] = None) -> Tensor:\n",
    "        raise NotImplementedError\n",
    "\n",
    "    def forward(self, x: Tensor, edge_index: Adj,\n",
    "                edge_weight: Optional[Tensor] = None,\n",
    "                u: Optional[Tensor] = None,\n",
    "                node_idx: Optional[Tensor] = None) -> Tensor:\n",
    "        \"\"\"\"\"\"\n",
    "        # x: [batches steps nodes features]\n",
    "        x = maybe_cat_exog(x, u)\n",
    "        batch_size = x.size(0)\n",
    "        emb = self.emb(expand=(batch_size, -1, -1),\n",
    "                       node_index=node_idx) if self.emb is not None else None\n",
    "\n",
    "        if 'encoding' in self.add_embedding_before and emb is not None:\n",
    "            x = maybe_cat_emb(x, emb[:, None])\n",
    "\n",
    "        # ENCODER   ###########################################################\n",
    "        x = self.encoder(x)\n",
    "\n",
    "        # SPATIOTEMPORAL MESSAGE-PASSING   ####################################\n",
    "        out = self.stmp(x, edge_index, edge_weight, emb)\n",
    "\n",
    "        # DECODER   ###########################################################\n",
    "        if 'decoding' in self.add_embedding_before:\n",
    "            out = maybe_cat_emb(out, emb)\n",
    "\n",
    "        out = self.decoder(out)\n",
    "\n",
    "        return out\n",
    "\n",
    "\n",
    "class TimeThenSpace(STGNN):\n",
    "    available_embedding_pos = {'encoding', 'message_passing', 'decoding'}\n",
    "\n",
    "    def __init__(self, input_size: int, horizon: int,\n",
    "                 temporal_encoder: nn.Module,\n",
    "                 spatial_encoder: Union[nn.Module, List[nn.Module]],\n",
    "                 n_nodes: int = None,\n",
    "                 output_size: int = None,\n",
    "                 exog_size: int = 0,\n",
    "                 hidden_size: int = 32,\n",
    "                 emb_size: int = 0,\n",
    "                 add_embedding_before: Union[str, List[str]] = 'encoding',\n",
    "                 use_local_weights: Union[str, List[str]] = None,\n",
    "                 activation: str = 'elu'):\n",
    "        super(TimeThenSpace, self).__init__(input_size=input_size,\n",
    "                                            horizon=horizon,\n",
    "                                            n_nodes=n_nodes,\n",
    "                                            output_size=output_size,\n",
    "                                            exog_size=exog_size,\n",
    "                                            hidden_size=hidden_size,\n",
    "                                            emb_size=emb_size,\n",
    "                                            add_embedding_before=add_embedding_before,\n",
    "                                            use_local_weights=use_local_weights,\n",
    "                                            activation=activation)\n",
    "        # STMP\n",
    "        self.temporal_encoder = temporal_encoder\n",
    "        if not isinstance(spatial_encoder, nn.ModuleList):\n",
    "            spatial_encoder = nn.ModuleList(ensure_list(spatial_encoder))\n",
    "        self.mp_layers = spatial_encoder\n",
    "        self.spatial_layers = len(self.mp_layers)\n",
    "\n",
    "    def stmp(self, x: Tensor, edge_index: Adj,\n",
    "             edge_weight: Optional[Tensor] = None,\n",
    "             emb: Optional[Tensor] = None) -> Tensor:\n",
    "        # temporal encoding\n",
    "        out = self.temporal_encoder(x)\n",
    "        # spatial encoding\n",
    "        for layer in self.mp_layers:\n",
    "            if 'message_passing' in self.add_embedding_before:\n",
    "                out = maybe_cat_emb(out, emb)\n",
    "            out = layer(out, edge_index, edge_weight)\n",
    "        return out\n",
    "\n",
    "\n",
    "class TimeAndSpace(STGNN):\n",
    "\n",
    "    def __init__(self, input_size: int, horizon: int, stmp_conv: nn.Module,\n",
    "                 n_nodes: int = None,\n",
    "                 output_size: int = None,\n",
    "                 exog_size: int = 0,\n",
    "                 hidden_size: int = 32,\n",
    "                 emb_size: int = 0,\n",
    "                 add_embedding_before: Union[str, List[str]] = 'encoding',\n",
    "                 use_local_weights: Union[str, List[str]] = None,\n",
    "                 activation: str = 'elu'):\n",
    "        super(TimeAndSpace, self).__init__(input_size=input_size,\n",
    "                                           horizon=horizon,\n",
    "                                           n_nodes=n_nodes,\n",
    "                                           output_size=output_size,\n",
    "                                           exog_size=exog_size,\n",
    "                                           hidden_size=hidden_size,\n",
    "                                           emb_size=emb_size,\n",
    "                                           add_embedding_before=add_embedding_before,\n",
    "                                           use_local_weights=use_local_weights,\n",
    "                                           activation=activation)\n",
    "\n",
    "        # STMP\n",
    "        self.stmp_conv = stmp_conv\n",
    "\n",
    "    def stmp(self, x: Tensor, edge_index: Adj,\n",
    "             edge_weight: Optional[Tensor] = None,\n",
    "             emb: Optional[Tensor] = None) -> Tensor:\n",
    "        # spatiotemporal encoding\n",
    "        out = self.stmp_conv(x, edge_index, edge_weight)\n",
    "        return out\n"
   ]
  },
  {
   "cell_type": "code",
   "execution_count": 54,
   "metadata": {},
   "outputs": [],
   "source": [
    "from typing import Union, List\n",
    "\n",
    "class TimeAndGraphAnisoModel(TimeAndSpace):\n",
    "\n",
    "    def __init__(self, input_size: int, horizon: int, n_nodes: int = None,\n",
    "                 output_size: int = None,\n",
    "                 exog_size: int = 0,\n",
    "                 hidden_size: int = 32,\n",
    "                 emb_size: int = 0,\n",
    "                 add_embedding_before: Union[str, List[str]] = 'encoding',\n",
    "                 use_local_weights: Union[str, List[str]] = None,\n",
    "                 n_layers: int = 1,\n",
    "                 activation: str = 'elu'):\n",
    "        stmp_conv = GraphAnisoGRU(input_size=hidden_size,\n",
    "                                  hidden_size=hidden_size,\n",
    "                                  n_layers=n_layers,\n",
    "                                  activation=activation,\n",
    "                                  return_only_last_state=True)\n",
    "        super(TimeAndGraphAnisoModel, self).__init__(\n",
    "            input_size=input_size,\n",
    "            horizon=horizon,\n",
    "            stmp_conv=stmp_conv,\n",
    "            n_nodes=n_nodes,\n",
    "            output_size=output_size,\n",
    "            exog_size=exog_size,\n",
    "            hidden_size=hidden_size,\n",
    "            emb_size=emb_size,\n",
    "            add_embedding_before=add_embedding_before,\n",
    "            use_local_weights=use_local_weights,\n",
    "            activation=activation\n",
    "        )\n"
   ]
  },
  {
   "cell_type": "code",
   "execution_count": 55,
   "metadata": {},
   "outputs": [],
   "source": [
    "hidden_size = 32          # Number of hidden units\n",
    "ff_size = 64             # Number of units in the feed-forward layers\n",
    "n_layers = 3              # Number of SpatioTemporalConvNet blocks\n",
    "temporal_kernel_size = 3  # Size of the temporal convolution kernel\n",
    "spatial_kernel_size = 3   # Order of the spatial diffusion process\n",
    "norm='layer'\n",
    "gated=True\n",
    "\n",
    "input_size = torch_dataset.n_channels\n",
    "n_nodes = torch_dataset.n_nodes\n",
    "horizon = torch_dataset.horizon\n",
    "exog_size = torch_dataset.input_map.u.shape[-1] if 'u' in torch_dataset else 0"
   ]
  },
  {
   "cell_type": "code",
   "execution_count": 56,
   "metadata": {},
   "outputs": [
    {
     "name": "stdout",
     "output_type": "stream",
     "text": [
      "TimeAndGraphAnisoModel(\n",
      "  (emb): None\n",
      "  (encoder): Linear(in_features=4, out_features=32, bias=True)\n",
      "  (decoder): MLPDecoder(\n",
      "    (readout): MLP(\n",
      "      (mlp): Sequential(\n",
      "        (0): Dense(\n",
      "          (affinity): Linear(in_features=32, out_features=32, bias=True)\n",
      "          (activation): ELU(alpha=1.0)\n",
      "          (dropout): Identity()\n",
      "        )\n",
      "      )\n",
      "      (readout): Linear(in_features=32, out_features=6, bias=True)\n",
      "    )\n",
      "    (rearrange): Rearrange('b n (h f) -> b h n f', f=1, h=6)\n",
      "  )\n",
      "  (stmp_conv): GraphAnisoGRU(cell=GraphAnisoGRUCell, return_only_last_state=True)\n",
      ")\n"
     ]
    }
   ],
   "source": [
    "model = TimeAndGraphAnisoModel(\n",
    "    input_size=input_size,\n",
    "    horizon=horizon,\n",
    "    n_nodes=n_nodes,\n",
    "    output_size=input_size,\n",
    "    exog_size=exog_size,\n",
    "    hidden_size=hidden_size\n",
    ")\n",
    "\n",
    "# Print the model architecture\n",
    "print(model)"
   ]
  },
  {
   "cell_type": "code",
   "execution_count": 57,
   "metadata": {},
   "outputs": [],
   "source": [
    "def print_model_size(model):\n",
    "    tot = sum([p.numel() for p in model.parameters() if p.requires_grad])\n",
    "    out = f\"Number of model ({model.__class__.__name__}) parameters:{tot:10d}\"\n",
    "    print(\"=\" * len(out))\n",
    "    print(out)"
   ]
  },
  {
   "cell_type": "code",
   "execution_count": 58,
   "metadata": {},
   "outputs": [
    {
     "name": "stdout",
     "output_type": "stream",
     "text": [
      "==============================================================\n",
      "Number of model (TimeAndGraphAnisoModel) parameters:     23401\n"
     ]
    }
   ],
   "source": [
    "print_model_size(model)"
   ]
  },
  {
   "cell_type": "code",
   "execution_count": 59,
   "metadata": {},
   "outputs": [],
   "source": [
    "from tsl.metrics.torch import MaskedMSE, MaskedMAE, MaskedMAPE\n",
    "from tsl.engines import Predictor\n",
    "\n",
    "# Define the loss function\n",
    "loss_fn = MaskedMSE()\n",
    "\n",
    "# Setup metrics\n",
    "metrics = {\n",
    "    'mse': MaskedMSE(),\n",
    "    'mae': MaskedMAE(),\n",
    "    'mape': MaskedMAPE(),\n",
    "    'mse_at_3': MaskedMSE(at=2),  # '2' indicates the third time step\n",
    "    'mse_at_6': MaskedMSE(at=5)\n",
    "}\n",
    "\n",
    "# Setup predictor\n",
    "predictor = Predictor(\n",
    "    model=model,\n",
    "    optim_class=torch.optim.Adam,\n",
    "    optim_kwargs={'lr': 0.001},\n",
    "    loss_fn=loss_fn,\n",
    "    metrics=metrics\n",
    ")\n"
   ]
  },
  {
   "cell_type": "code",
   "execution_count": 60,
   "metadata": {},
   "outputs": [
    {
     "name": "stderr",
     "output_type": "stream",
     "text": [
      "/home/zeus/miniconda3/envs/cloudspace/lib/python3.10/site-packages/lightning_fabric/connector.py:571: `precision=16` is supported for historical reasons but its usage is discouraged. Please set your precision to 16-mixed instead!\n",
      "Using 16bit Automatic Mixed Precision (AMP)\n",
      "GPU available: True (cuda), used: True\n",
      "TPU available: False, using: 0 TPU cores\n",
      "HPU available: False, using: 0 HPUs\n"
     ]
    }
   ],
   "source": [
    "import pytorch_lightning as pl\n",
    "from pytorch_lightning.callbacks import ModelCheckpoint, EarlyStopping\n",
    "\n",
    "early_stop_callback = EarlyStopping(\n",
    "    monitor='val_mse',\n",
    "    patience=5,\n",
    "    mode='min'\n",
    ")\n",
    "\n",
    "checkpoint_callback = ModelCheckpoint(\n",
    "    dirpath='logs',\n",
    "    save_top_k=1,\n",
    "    monitor='val_mse',  # Change this to 'val_mse'\n",
    "    mode='min',\n",
    ")\n",
    "\n",
    "# Setup trainer\n",
    "trainer = pl.Trainer(max_epochs=100,\n",
    "                    #  logger=logger,\n",
    "                    #  limit_train_batches=100,  # end an epoch after 200 updates\n",
    "                     callbacks=[early_stop_callback, checkpoint_callback],\n",
    "                     log_every_n_steps=2,\n",
    "                     gradient_clip_val=1.0,    # Prevent exploding gradients\n",
    "                     precision=16\n",
    "                     )\n"
   ]
  },
  {
   "cell_type": "code",
   "execution_count": 61,
   "metadata": {},
   "outputs": [],
   "source": [
    "# Set float32 matmul precision to 'medium' or 'high'\n",
    "torch.set_float32_matmul_precision('medium')"
   ]
  },
  {
   "cell_type": "code",
   "execution_count": 62,
   "metadata": {},
   "outputs": [
    {
     "name": "stderr",
     "output_type": "stream",
     "text": [
      "/home/zeus/miniconda3/envs/cloudspace/lib/python3.10/site-packages/pytorch_lightning/callbacks/model_checkpoint.py:654: Checkpoint directory /teamspace/studios/this_studio/logs exists and is not empty.\n",
      "LOCAL_RANK: 0 - CUDA_VISIBLE_DEVICES: [0]\n",
      "\n",
      "  | Name          | Type                   | Params | Mode \n",
      "-----------------------------------------------------------------\n",
      "0 | loss_fn       | MaskedMSE              | 0      | train\n",
      "1 | train_metrics | MetricCollection       | 0      | train\n",
      "2 | val_metrics   | MetricCollection       | 0      | train\n",
      "3 | test_metrics  | MetricCollection       | 0      | train\n",
      "4 | model         | TimeAndGraphAnisoModel | 23.4 K | train\n",
      "-----------------------------------------------------------------\n",
      "23.4 K    Trainable params\n",
      "0         Non-trainable params\n",
      "23.4 K    Total params\n",
      "0.094     Total estimated model params size (MB)\n",
      "81        Modules in train mode\n",
      "0         Modules in eval mode\n"
     ]
    },
    {
     "data": {
      "application/vnd.jupyter.widget-view+json": {
       "model_id": "700fde93171747eb8c5ff9a6c2f81a28",
       "version_major": 2,
       "version_minor": 0
      },
      "text/plain": [
       "Sanity Checking: |          | 0/? [00:00<?, ?it/s]"
      ]
     },
     "metadata": {},
     "output_type": "display_data"
    },
    {
     "name": "stderr",
     "output_type": "stream",
     "text": [
      "/home/zeus/miniconda3/envs/cloudspace/lib/python3.10/site-packages/pytorch_lightning/trainer/connectors/data_connector.py:419: Consider setting `persistent_workers=True` in 'val_dataloader' to speed up the dataloader worker initialization.\n",
      "Arguments ['metadata', 'distances'] are filtered out. Only args ['edge_weight', 'edge_index', 'u', 'x'] are forwarded to the model (TimeAndGraphAnisoModel).\n",
      "/home/zeus/miniconda3/envs/cloudspace/lib/python3.10/site-packages/pytorch_lightning/trainer/connectors/data_connector.py:419: Consider setting `persistent_workers=True` in 'train_dataloader' to speed up the dataloader worker initialization.\n"
     ]
    },
    {
     "data": {
      "application/vnd.jupyter.widget-view+json": {
       "model_id": "be21f16c873046f3a84f34cc54cb43ab",
       "version_major": 2,
       "version_minor": 0
      },
      "text/plain": [
       "Training: |          | 0/? [00:00<?, ?it/s]"
      ]
     },
     "metadata": {},
     "output_type": "display_data"
    },
    {
     "data": {
      "application/vnd.jupyter.widget-view+json": {
       "model_id": "4d7c688063384b8d8b7a425f677143f3",
       "version_major": 2,
       "version_minor": 0
      },
      "text/plain": [
       "Validation: |          | 0/? [00:00<?, ?it/s]"
      ]
     },
     "metadata": {},
     "output_type": "display_data"
    },
    {
     "data": {
      "application/vnd.jupyter.widget-view+json": {
       "model_id": "1740631b56b146ee8dd944eb14ef21b0",
       "version_major": 2,
       "version_minor": 0
      },
      "text/plain": [
       "Validation: |          | 0/? [00:00<?, ?it/s]"
      ]
     },
     "metadata": {},
     "output_type": "display_data"
    },
    {
     "data": {
      "application/vnd.jupyter.widget-view+json": {
       "model_id": "540511d6176d4e8781f1deae64e83080",
       "version_major": 2,
       "version_minor": 0
      },
      "text/plain": [
       "Validation: |          | 0/? [00:00<?, ?it/s]"
      ]
     },
     "metadata": {},
     "output_type": "display_data"
    },
    {
     "data": {
      "application/vnd.jupyter.widget-view+json": {
       "model_id": "2aed3b2dc1c84509922bb3ca176856c6",
       "version_major": 2,
       "version_minor": 0
      },
      "text/plain": [
       "Validation: |          | 0/? [00:00<?, ?it/s]"
      ]
     },
     "metadata": {},
     "output_type": "display_data"
    },
    {
     "data": {
      "application/vnd.jupyter.widget-view+json": {
       "model_id": "1402a7da384b4143be9cc07d0bd451f8",
       "version_major": 2,
       "version_minor": 0
      },
      "text/plain": [
       "Validation: |          | 0/? [00:00<?, ?it/s]"
      ]
     },
     "metadata": {},
     "output_type": "display_data"
    },
    {
     "data": {
      "application/vnd.jupyter.widget-view+json": {
       "model_id": "6ac994eac52a4d0e9bcebd44d87c7db4",
       "version_major": 2,
       "version_minor": 0
      },
      "text/plain": [
       "Validation: |          | 0/? [00:00<?, ?it/s]"
      ]
     },
     "metadata": {},
     "output_type": "display_data"
    },
    {
     "data": {
      "application/vnd.jupyter.widget-view+json": {
       "model_id": "a6c944baf87e447c8d0988a5a5d18629",
       "version_major": 2,
       "version_minor": 0
      },
      "text/plain": [
       "Validation: |          | 0/? [00:00<?, ?it/s]"
      ]
     },
     "metadata": {},
     "output_type": "display_data"
    },
    {
     "data": {
      "application/vnd.jupyter.widget-view+json": {
       "model_id": "ed0ec1de7fbd4aef92eec614723b480a",
       "version_major": 2,
       "version_minor": 0
      },
      "text/plain": [
       "Validation: |          | 0/? [00:00<?, ?it/s]"
      ]
     },
     "metadata": {},
     "output_type": "display_data"
    },
    {
     "data": {
      "application/vnd.jupyter.widget-view+json": {
       "model_id": "6dfb77f4d83d4f60a2e003da0d137669",
       "version_major": 2,
       "version_minor": 0
      },
      "text/plain": [
       "Validation: |          | 0/? [00:00<?, ?it/s]"
      ]
     },
     "metadata": {},
     "output_type": "display_data"
    },
    {
     "data": {
      "application/vnd.jupyter.widget-view+json": {
       "model_id": "26621af2dcb84be3afb6f24b8f3d1402",
       "version_major": 2,
       "version_minor": 0
      },
      "text/plain": [
       "Validation: |          | 0/? [00:00<?, ?it/s]"
      ]
     },
     "metadata": {},
     "output_type": "display_data"
    },
    {
     "data": {
      "application/vnd.jupyter.widget-view+json": {
       "model_id": "941c4d9cc9474a9eb72e0ed6bc59f29b",
       "version_major": 2,
       "version_minor": 0
      },
      "text/plain": [
       "Validation: |          | 0/? [00:00<?, ?it/s]"
      ]
     },
     "metadata": {},
     "output_type": "display_data"
    },
    {
     "data": {
      "application/vnd.jupyter.widget-view+json": {
       "model_id": "93dc9d565ec2499dae09f3ec285a4be3",
       "version_major": 2,
       "version_minor": 0
      },
      "text/plain": [
       "Validation: |          | 0/? [00:00<?, ?it/s]"
      ]
     },
     "metadata": {},
     "output_type": "display_data"
    },
    {
     "data": {
      "application/vnd.jupyter.widget-view+json": {
       "model_id": "7cef2c71715e46c09530918bde0e6612",
       "version_major": 2,
       "version_minor": 0
      },
      "text/plain": [
       "Validation: |          | 0/? [00:00<?, ?it/s]"
      ]
     },
     "metadata": {},
     "output_type": "display_data"
    },
    {
     "data": {
      "application/vnd.jupyter.widget-view+json": {
       "model_id": "403974b8fbc5478ea620314c702e2f11",
       "version_major": 2,
       "version_minor": 0
      },
      "text/plain": [
       "Validation: |          | 0/? [00:00<?, ?it/s]"
      ]
     },
     "metadata": {},
     "output_type": "display_data"
    },
    {
     "data": {
      "application/vnd.jupyter.widget-view+json": {
       "model_id": "22275f09ea35454587604a5342212095",
       "version_major": 2,
       "version_minor": 0
      },
      "text/plain": [
       "Validation: |          | 0/? [00:00<?, ?it/s]"
      ]
     },
     "metadata": {},
     "output_type": "display_data"
    },
    {
     "data": {
      "application/vnd.jupyter.widget-view+json": {
       "model_id": "4e371b17a09a495395a739b487ba022f",
       "version_major": 2,
       "version_minor": 0
      },
      "text/plain": [
       "Validation: |          | 0/? [00:00<?, ?it/s]"
      ]
     },
     "metadata": {},
     "output_type": "display_data"
    },
    {
     "data": {
      "application/vnd.jupyter.widget-view+json": {
       "model_id": "7ec3ca27e69f4ad586bdec11f5df5c3e",
       "version_major": 2,
       "version_minor": 0
      },
      "text/plain": [
       "Validation: |          | 0/? [00:00<?, ?it/s]"
      ]
     },
     "metadata": {},
     "output_type": "display_data"
    },
    {
     "data": {
      "application/vnd.jupyter.widget-view+json": {
       "model_id": "51809ac8bfd448f2adf6bbd125fb34a5",
       "version_major": 2,
       "version_minor": 0
      },
      "text/plain": [
       "Validation: |          | 0/? [00:00<?, ?it/s]"
      ]
     },
     "metadata": {},
     "output_type": "display_data"
    },
    {
     "data": {
      "application/vnd.jupyter.widget-view+json": {
       "model_id": "cbea72a83131451f9c89f273c440e516",
       "version_major": 2,
       "version_minor": 0
      },
      "text/plain": [
       "Validation: |          | 0/? [00:00<?, ?it/s]"
      ]
     },
     "metadata": {},
     "output_type": "display_data"
    },
    {
     "data": {
      "application/vnd.jupyter.widget-view+json": {
       "model_id": "ebe30064201f4de99cf033296fac21f8",
       "version_major": 2,
       "version_minor": 0
      },
      "text/plain": [
       "Validation: |          | 0/? [00:00<?, ?it/s]"
      ]
     },
     "metadata": {},
     "output_type": "display_data"
    },
    {
     "data": {
      "application/vnd.jupyter.widget-view+json": {
       "model_id": "48e19b1ce2ce4916aec9b5b9edefe0e9",
       "version_major": 2,
       "version_minor": 0
      },
      "text/plain": [
       "Validation: |          | 0/? [00:00<?, ?it/s]"
      ]
     },
     "metadata": {},
     "output_type": "display_data"
    },
    {
     "data": {
      "application/vnd.jupyter.widget-view+json": {
       "model_id": "d218bbe516dd4e5bb58dff27ef77d5e4",
       "version_major": 2,
       "version_minor": 0
      },
      "text/plain": [
       "Validation: |          | 0/? [00:00<?, ?it/s]"
      ]
     },
     "metadata": {},
     "output_type": "display_data"
    },
    {
     "data": {
      "application/vnd.jupyter.widget-view+json": {
       "model_id": "b6a07d7cb8d54456820e4af520b2f259",
       "version_major": 2,
       "version_minor": 0
      },
      "text/plain": [
       "Validation: |          | 0/? [00:00<?, ?it/s]"
      ]
     },
     "metadata": {},
     "output_type": "display_data"
    },
    {
     "data": {
      "application/vnd.jupyter.widget-view+json": {
       "model_id": "fc2619e2404c402994c3c6804b6fec3a",
       "version_major": 2,
       "version_minor": 0
      },
      "text/plain": [
       "Validation: |          | 0/? [00:00<?, ?it/s]"
      ]
     },
     "metadata": {},
     "output_type": "display_data"
    },
    {
     "data": {
      "application/vnd.jupyter.widget-view+json": {
       "model_id": "e0c2576cb7044d96b25e418fd2d6605a",
       "version_major": 2,
       "version_minor": 0
      },
      "text/plain": [
       "Validation: |          | 0/? [00:00<?, ?it/s]"
      ]
     },
     "metadata": {},
     "output_type": "display_data"
    },
    {
     "data": {
      "application/vnd.jupyter.widget-view+json": {
       "model_id": "b52c347adf3244ada5ad96a7e585d49b",
       "version_major": 2,
       "version_minor": 0
      },
      "text/plain": [
       "Validation: |          | 0/? [00:00<?, ?it/s]"
      ]
     },
     "metadata": {},
     "output_type": "display_data"
    },
    {
     "data": {
      "application/vnd.jupyter.widget-view+json": {
       "model_id": "5f98bc2d99aa4ce2b61eb0119644c6d4",
       "version_major": 2,
       "version_minor": 0
      },
      "text/plain": [
       "Validation: |          | 0/? [00:00<?, ?it/s]"
      ]
     },
     "metadata": {},
     "output_type": "display_data"
    },
    {
     "data": {
      "application/vnd.jupyter.widget-view+json": {
       "model_id": "4d2c37fcb033480985156f67c0bb8ffe",
       "version_major": 2,
       "version_minor": 0
      },
      "text/plain": [
       "Validation: |          | 0/? [00:00<?, ?it/s]"
      ]
     },
     "metadata": {},
     "output_type": "display_data"
    },
    {
     "data": {
      "application/vnd.jupyter.widget-view+json": {
       "model_id": "7ec4652d5abd4c12ba89ff0bfaa5867d",
       "version_major": 2,
       "version_minor": 0
      },
      "text/plain": [
       "Validation: |          | 0/? [00:00<?, ?it/s]"
      ]
     },
     "metadata": {},
     "output_type": "display_data"
    },
    {
     "data": {
      "application/vnd.jupyter.widget-view+json": {
       "model_id": "1536c8029260414ab43e389954e1e129",
       "version_major": 2,
       "version_minor": 0
      },
      "text/plain": [
       "Validation: |          | 0/? [00:00<?, ?it/s]"
      ]
     },
     "metadata": {},
     "output_type": "display_data"
    },
    {
     "data": {
      "application/vnd.jupyter.widget-view+json": {
       "model_id": "d3f58fd696344a9990d0e8b63ba459d1",
       "version_major": 2,
       "version_minor": 0
      },
      "text/plain": [
       "Validation: |          | 0/? [00:00<?, ?it/s]"
      ]
     },
     "metadata": {},
     "output_type": "display_data"
    },
    {
     "data": {
      "application/vnd.jupyter.widget-view+json": {
       "model_id": "df98f279149d4113a34a5b2f4964022a",
       "version_major": 2,
       "version_minor": 0
      },
      "text/plain": [
       "Validation: |          | 0/? [00:00<?, ?it/s]"
      ]
     },
     "metadata": {},
     "output_type": "display_data"
    },
    {
     "data": {
      "application/vnd.jupyter.widget-view+json": {
       "model_id": "f5dda2a95b41478ebb0050ee9ed0a747",
       "version_major": 2,
       "version_minor": 0
      },
      "text/plain": [
       "Validation: |          | 0/? [00:00<?, ?it/s]"
      ]
     },
     "metadata": {},
     "output_type": "display_data"
    },
    {
     "data": {
      "application/vnd.jupyter.widget-view+json": {
       "model_id": "99e34e5c2a554c298a3def57d46d20ee",
       "version_major": 2,
       "version_minor": 0
      },
      "text/plain": [
       "Validation: |          | 0/? [00:00<?, ?it/s]"
      ]
     },
     "metadata": {},
     "output_type": "display_data"
    },
    {
     "data": {
      "application/vnd.jupyter.widget-view+json": {
       "model_id": "c474c63f03f448bba8ba623ee8f2db19",
       "version_major": 2,
       "version_minor": 0
      },
      "text/plain": [
       "Validation: |          | 0/? [00:00<?, ?it/s]"
      ]
     },
     "metadata": {},
     "output_type": "display_data"
    },
    {
     "data": {
      "application/vnd.jupyter.widget-view+json": {
       "model_id": "bb84619e44ea42dca3c86461e97ae16c",
       "version_major": 2,
       "version_minor": 0
      },
      "text/plain": [
       "Validation: |          | 0/? [00:00<?, ?it/s]"
      ]
     },
     "metadata": {},
     "output_type": "display_data"
    },
    {
     "data": {
      "application/vnd.jupyter.widget-view+json": {
       "model_id": "cc6b8ec864b044aaa50522717845f1ea",
       "version_major": 2,
       "version_minor": 0
      },
      "text/plain": [
       "Validation: |          | 0/? [00:00<?, ?it/s]"
      ]
     },
     "metadata": {},
     "output_type": "display_data"
    },
    {
     "data": {
      "application/vnd.jupyter.widget-view+json": {
       "model_id": "beb793db24ec45cc95a9d77ea4d4a179",
       "version_major": 2,
       "version_minor": 0
      },
      "text/plain": [
       "Validation: |          | 0/? [00:00<?, ?it/s]"
      ]
     },
     "metadata": {},
     "output_type": "display_data"
    },
    {
     "data": {
      "application/vnd.jupyter.widget-view+json": {
       "model_id": "309d042f8b3f45cbbcae3b25e8655df2",
       "version_major": 2,
       "version_minor": 0
      },
      "text/plain": [
       "Validation: |          | 0/? [00:00<?, ?it/s]"
      ]
     },
     "metadata": {},
     "output_type": "display_data"
    },
    {
     "data": {
      "application/vnd.jupyter.widget-view+json": {
       "model_id": "d005cb6941cd4b14805127c014143ec3",
       "version_major": 2,
       "version_minor": 0
      },
      "text/plain": [
       "Validation: |          | 0/? [00:00<?, ?it/s]"
      ]
     },
     "metadata": {},
     "output_type": "display_data"
    },
    {
     "data": {
      "application/vnd.jupyter.widget-view+json": {
       "model_id": "7b89d8bec40f49ceb72536cb157cfb77",
       "version_major": 2,
       "version_minor": 0
      },
      "text/plain": [
       "Validation: |          | 0/? [00:00<?, ?it/s]"
      ]
     },
     "metadata": {},
     "output_type": "display_data"
    },
    {
     "data": {
      "application/vnd.jupyter.widget-view+json": {
       "model_id": "e5106a6b327542cf81ff45282a4aa388",
       "version_major": 2,
       "version_minor": 0
      },
      "text/plain": [
       "Validation: |          | 0/? [00:00<?, ?it/s]"
      ]
     },
     "metadata": {},
     "output_type": "display_data"
    },
    {
     "data": {
      "application/vnd.jupyter.widget-view+json": {
       "model_id": "86a68e1fa02d457e9f9d9e91b30a5f33",
       "version_major": 2,
       "version_minor": 0
      },
      "text/plain": [
       "Validation: |          | 0/? [00:00<?, ?it/s]"
      ]
     },
     "metadata": {},
     "output_type": "display_data"
    },
    {
     "data": {
      "application/vnd.jupyter.widget-view+json": {
       "model_id": "21095278703348259fdc1f6f93b5fd52",
       "version_major": 2,
       "version_minor": 0
      },
      "text/plain": [
       "Validation: |          | 0/? [00:00<?, ?it/s]"
      ]
     },
     "metadata": {},
     "output_type": "display_data"
    },
    {
     "data": {
      "application/vnd.jupyter.widget-view+json": {
       "model_id": "d42d72bcca084e11a4007352bd3a76f6",
       "version_major": 2,
       "version_minor": 0
      },
      "text/plain": [
       "Validation: |          | 0/? [00:00<?, ?it/s]"
      ]
     },
     "metadata": {},
     "output_type": "display_data"
    },
    {
     "data": {
      "application/vnd.jupyter.widget-view+json": {
       "model_id": "ce7dfdf4f5a243d9aec5850c91a2bd7e",
       "version_major": 2,
       "version_minor": 0
      },
      "text/plain": [
       "Validation: |          | 0/? [00:00<?, ?it/s]"
      ]
     },
     "metadata": {},
     "output_type": "display_data"
    },
    {
     "data": {
      "application/vnd.jupyter.widget-view+json": {
       "model_id": "7307ff68406b4933900ed12bd1f43208",
       "version_major": 2,
       "version_minor": 0
      },
      "text/plain": [
       "Validation: |          | 0/? [00:00<?, ?it/s]"
      ]
     },
     "metadata": {},
     "output_type": "display_data"
    },
    {
     "data": {
      "application/vnd.jupyter.widget-view+json": {
       "model_id": "34f505ce3626444db9cea179c23356ca",
       "version_major": 2,
       "version_minor": 0
      },
      "text/plain": [
       "Validation: |          | 0/? [00:00<?, ?it/s]"
      ]
     },
     "metadata": {},
     "output_type": "display_data"
    },
    {
     "data": {
      "application/vnd.jupyter.widget-view+json": {
       "model_id": "b1ed317523964e0a8af668340b939f3e",
       "version_major": 2,
       "version_minor": 0
      },
      "text/plain": [
       "Validation: |          | 0/? [00:00<?, ?it/s]"
      ]
     },
     "metadata": {},
     "output_type": "display_data"
    },
    {
     "data": {
      "application/vnd.jupyter.widget-view+json": {
       "model_id": "28778385216b4dc8bdaffef364cb4a40",
       "version_major": 2,
       "version_minor": 0
      },
      "text/plain": [
       "Validation: |          | 0/? [00:00<?, ?it/s]"
      ]
     },
     "metadata": {},
     "output_type": "display_data"
    },
    {
     "data": {
      "application/vnd.jupyter.widget-view+json": {
       "model_id": "f71fcd7996754919b2f10a16b21bfb68",
       "version_major": 2,
       "version_minor": 0
      },
      "text/plain": [
       "Validation: |          | 0/? [00:00<?, ?it/s]"
      ]
     },
     "metadata": {},
     "output_type": "display_data"
    },
    {
     "data": {
      "application/vnd.jupyter.widget-view+json": {
       "model_id": "d8cf83661c2f43f59ab47858baeb119f",
       "version_major": 2,
       "version_minor": 0
      },
      "text/plain": [
       "Validation: |          | 0/? [00:00<?, ?it/s]"
      ]
     },
     "metadata": {},
     "output_type": "display_data"
    },
    {
     "data": {
      "application/vnd.jupyter.widget-view+json": {
       "model_id": "6f5629aaeb7a4936a55f79bfe028ab7c",
       "version_major": 2,
       "version_minor": 0
      },
      "text/plain": [
       "Validation: |          | 0/? [00:00<?, ?it/s]"
      ]
     },
     "metadata": {},
     "output_type": "display_data"
    },
    {
     "data": {
      "application/vnd.jupyter.widget-view+json": {
       "model_id": "a7a23960eb464ad491c989468cdc581c",
       "version_major": 2,
       "version_minor": 0
      },
      "text/plain": [
       "Validation: |          | 0/? [00:00<?, ?it/s]"
      ]
     },
     "metadata": {},
     "output_type": "display_data"
    },
    {
     "data": {
      "application/vnd.jupyter.widget-view+json": {
       "model_id": "41ff3d5e650a4646af745fa40efb1fd2",
       "version_major": 2,
       "version_minor": 0
      },
      "text/plain": [
       "Validation: |          | 0/? [00:00<?, ?it/s]"
      ]
     },
     "metadata": {},
     "output_type": "display_data"
    },
    {
     "data": {
      "application/vnd.jupyter.widget-view+json": {
       "model_id": "8b4f41bf3c6a42d29a2c50ead211e388",
       "version_major": 2,
       "version_minor": 0
      },
      "text/plain": [
       "Validation: |          | 0/? [00:00<?, ?it/s]"
      ]
     },
     "metadata": {},
     "output_type": "display_data"
    }
   ],
   "source": [
    "import multiprocessing\n",
    "multiprocessing.set_start_method('spawn', force=True)\n",
    "trainer.fit(predictor, datamodule=datamodule)"
   ]
  },
  {
   "cell_type": "code",
   "execution_count": 63,
   "metadata": {},
   "outputs": [
    {
     "name": "stderr",
     "output_type": "stream",
     "text": [
      "/home/zeus/miniconda3/envs/cloudspace/lib/python3.10/site-packages/tsl/engines/predictor.py:121: FutureWarning: You are using `torch.load` with `weights_only=False` (the current default value), which uses the default pickle module implicitly. It is possible to construct malicious pickle data which will execute arbitrary code during unpickling (See https://github.com/pytorch/pytorch/blob/main/SECURITY.md#untrusted-models for more details). In a future release, the default value for `weights_only` will be flipped to `True`. This limits the functions that could be executed during unpickling. Arbitrary objects will no longer be allowed to be loaded via this mode unless they are explicitly allowlisted by the user via `torch.serialization.add_safe_globals`. We recommend you start setting `weights_only=True` for any use case where you don't have full control of the loaded file. Please open an issue on GitHub for any issues related to this experimental feature.\n",
      "  storage = torch.load(filename, lambda storage, loc: storage)\n",
      "Predictor with already instantiated model is loading a state_dict from /teamspace/studios/this_studio/logs/epoch=50-step=867.ckpt. Cannot  check if model hyperparameters are the same.\n"
     ]
    }
   ],
   "source": [
    "predictor.load_model(checkpoint_callback.best_model_path)\n",
    "predictor.freeze()"
   ]
  },
  {
   "cell_type": "code",
   "execution_count": 64,
   "metadata": {},
   "outputs": [
    {
     "name": "stderr",
     "output_type": "stream",
     "text": [
      "LOCAL_RANK: 0 - CUDA_VISIBLE_DEVICES: [0]\n",
      "/home/zeus/miniconda3/envs/cloudspace/lib/python3.10/site-packages/pytorch_lightning/trainer/connectors/data_connector.py:419: Consider setting `persistent_workers=True` in 'test_dataloader' to speed up the dataloader worker initialization.\n"
     ]
    },
    {
     "data": {
      "application/vnd.jupyter.widget-view+json": {
       "model_id": "c11c3e9e6fcc4be08ed198a3614c8748",
       "version_major": 2,
       "version_minor": 0
      },
      "text/plain": [
       "Testing: |          | 0/? [00:00<?, ?it/s]"
      ]
     },
     "metadata": {},
     "output_type": "display_data"
    },
    {
     "data": {
      "text/html": [
       "<pre style=\"white-space:pre;overflow-x:auto;line-height:normal;font-family:Menlo,'DejaVu Sans Mono',consolas,'Courier New',monospace\">┏━━━━━━━━━━━━━━━━━━━━━━━━━━━┳━━━━━━━━━━━━━━━━━━━━━━━━━━━┓\n",
       "┃<span style=\"font-weight: bold\">        Test metric        </span>┃<span style=\"font-weight: bold\">       DataLoader 0        </span>┃\n",
       "┡━━━━━━━━━━━━━━━━━━━━━━━━━━━╇━━━━━━━━━━━━━━━━━━━━━━━━━━━┩\n",
       "│<span style=\"color: #008080; text-decoration-color: #008080\">         test_loss         </span>│<span style=\"color: #800080; text-decoration-color: #800080\">  3.0745894719075295e-07   </span>│\n",
       "│<span style=\"color: #008080; text-decoration-color: #008080\">         test_mae          </span>│<span style=\"color: #800080; text-decoration-color: #800080\">   0.0002507441386114806   </span>│\n",
       "│<span style=\"color: #008080; text-decoration-color: #008080\">         test_mape         </span>│<span style=\"color: #800080; text-decoration-color: #800080\">      2520.4013671875      </span>│\n",
       "│<span style=\"color: #008080; text-decoration-color: #008080\">         test_mse          </span>│<span style=\"color: #800080; text-decoration-color: #800080\">  3.0745894719075295e-07   </span>│\n",
       "│<span style=\"color: #008080; text-decoration-color: #008080\">       test_mse_at_3       </span>│<span style=\"color: #800080; text-decoration-color: #800080\">  1.9510363813424192e-07   </span>│\n",
       "│<span style=\"color: #008080; text-decoration-color: #008080\">       test_mse_at_6       </span>│<span style=\"color: #800080; text-decoration-color: #800080\">   4.851829089602688e-07   </span>│\n",
       "└───────────────────────────┴───────────────────────────┘\n",
       "</pre>\n"
      ],
      "text/plain": [
       "┏━━━━━━━━━━━━━━━━━━━━━━━━━━━┳━━━━━━━━━━━━━━━━━━━━━━━━━━━┓\n",
       "┃\u001b[1m \u001b[0m\u001b[1m       Test metric       \u001b[0m\u001b[1m \u001b[0m┃\u001b[1m \u001b[0m\u001b[1m      DataLoader 0       \u001b[0m\u001b[1m \u001b[0m┃\n",
       "┡━━━━━━━━━━━━━━━━━━━━━━━━━━━╇━━━━━━━━━━━━━━━━━━━━━━━━━━━┩\n",
       "│\u001b[36m \u001b[0m\u001b[36m        test_loss        \u001b[0m\u001b[36m \u001b[0m│\u001b[35m \u001b[0m\u001b[35m 3.0745894719075295e-07  \u001b[0m\u001b[35m \u001b[0m│\n",
       "│\u001b[36m \u001b[0m\u001b[36m        test_mae         \u001b[0m\u001b[36m \u001b[0m│\u001b[35m \u001b[0m\u001b[35m  0.0002507441386114806  \u001b[0m\u001b[35m \u001b[0m│\n",
       "│\u001b[36m \u001b[0m\u001b[36m        test_mape        \u001b[0m\u001b[36m \u001b[0m│\u001b[35m \u001b[0m\u001b[35m     2520.4013671875     \u001b[0m\u001b[35m \u001b[0m│\n",
       "│\u001b[36m \u001b[0m\u001b[36m        test_mse         \u001b[0m\u001b[36m \u001b[0m│\u001b[35m \u001b[0m\u001b[35m 3.0745894719075295e-07  \u001b[0m\u001b[35m \u001b[0m│\n",
       "│\u001b[36m \u001b[0m\u001b[36m      test_mse_at_3      \u001b[0m\u001b[36m \u001b[0m│\u001b[35m \u001b[0m\u001b[35m 1.9510363813424192e-07  \u001b[0m\u001b[35m \u001b[0m│\n",
       "│\u001b[36m \u001b[0m\u001b[36m      test_mse_at_6      \u001b[0m\u001b[36m \u001b[0m│\u001b[35m \u001b[0m\u001b[35m  4.851829089602688e-07  \u001b[0m\u001b[35m \u001b[0m│\n",
       "└───────────────────────────┴───────────────────────────┘\n"
      ]
     },
     "metadata": {},
     "output_type": "display_data"
    },
    {
     "data": {
      "text/plain": [
       "[{'test_mae': 0.0002507441386114806,\n",
       "  'test_mape': 2520.4013671875,\n",
       "  'test_mse': 3.0745894719075295e-07,\n",
       "  'test_mse_at_3': 1.9510363813424192e-07,\n",
       "  'test_mse_at_6': 4.851829089602688e-07,\n",
       "  'test_loss': 3.0745894719075295e-07}]"
      ]
     },
     "execution_count": 64,
     "metadata": {},
     "output_type": "execute_result"
    }
   ],
   "source": [
    "trainer.test(predictor, datamodule=datamodule)"
   ]
  },
  {
   "cell_type": "code",
   "execution_count": 65,
   "metadata": {},
   "outputs": [
    {
     "name": "stderr",
     "output_type": "stream",
     "text": [
      "LOCAL_RANK: 0 - CUDA_VISIBLE_DEVICES: [0]\n"
     ]
    },
    {
     "data": {
      "application/vnd.jupyter.widget-view+json": {
       "model_id": "1b220e934b4c46eb9184c4717d04e544",
       "version_major": 2,
       "version_minor": 0
      },
      "text/plain": [
       "Validation: |          | 0/? [00:00<?, ?it/s]"
      ]
     },
     "metadata": {},
     "output_type": "display_data"
    },
    {
     "data": {
      "text/html": [
       "<pre style=\"white-space:pre;overflow-x:auto;line-height:normal;font-family:Menlo,'DejaVu Sans Mono',consolas,'Courier New',monospace\">┏━━━━━━━━━━━━━━━━━━━━━━━━━━━┳━━━━━━━━━━━━━━━━━━━━━━━━━━━┓\n",
       "┃<span style=\"font-weight: bold\">      Validate metric      </span>┃<span style=\"font-weight: bold\">       DataLoader 0        </span>┃\n",
       "┡━━━━━━━━━━━━━━━━━━━━━━━━━━━╇━━━━━━━━━━━━━━━━━━━━━━━━━━━┩\n",
       "│<span style=\"color: #008080; text-decoration-color: #008080\">         val_loss          </span>│<span style=\"color: #800080; text-decoration-color: #800080\">  3.1781112852513616e-07   </span>│\n",
       "│<span style=\"color: #008080; text-decoration-color: #008080\">          val_mae          </span>│<span style=\"color: #800080; text-decoration-color: #800080\">   0.0002547533076722175   </span>│\n",
       "│<span style=\"color: #008080; text-decoration-color: #008080\">         val_mape          </span>│<span style=\"color: #800080; text-decoration-color: #800080\">       2517.2265625        </span>│\n",
       "│<span style=\"color: #008080; text-decoration-color: #008080\">          val_mse          </span>│<span style=\"color: #800080; text-decoration-color: #800080\">   3.178111001034267e-07   </span>│\n",
       "│<span style=\"color: #008080; text-decoration-color: #008080\">       val_mse_at_3        </span>│<span style=\"color: #800080; text-decoration-color: #800080\">  2.0039436776642106e-07   </span>│\n",
       "│<span style=\"color: #008080; text-decoration-color: #008080\">       val_mse_at_6        </span>│<span style=\"color: #800080; text-decoration-color: #800080\">   5.116839929542039e-07   </span>│\n",
       "└───────────────────────────┴───────────────────────────┘\n",
       "</pre>\n"
      ],
      "text/plain": [
       "┏━━━━━━━━━━━━━━━━━━━━━━━━━━━┳━━━━━━━━━━━━━━━━━━━━━━━━━━━┓\n",
       "┃\u001b[1m \u001b[0m\u001b[1m     Validate metric     \u001b[0m\u001b[1m \u001b[0m┃\u001b[1m \u001b[0m\u001b[1m      DataLoader 0       \u001b[0m\u001b[1m \u001b[0m┃\n",
       "┡━━━━━━━━━━━━━━━━━━━━━━━━━━━╇━━━━━━━━━━━━━━━━━━━━━━━━━━━┩\n",
       "│\u001b[36m \u001b[0m\u001b[36m        val_loss         \u001b[0m\u001b[36m \u001b[0m│\u001b[35m \u001b[0m\u001b[35m 3.1781112852513616e-07  \u001b[0m\u001b[35m \u001b[0m│\n",
       "│\u001b[36m \u001b[0m\u001b[36m         val_mae         \u001b[0m\u001b[36m \u001b[0m│\u001b[35m \u001b[0m\u001b[35m  0.0002547533076722175  \u001b[0m\u001b[35m \u001b[0m│\n",
       "│\u001b[36m \u001b[0m\u001b[36m        val_mape         \u001b[0m\u001b[36m \u001b[0m│\u001b[35m \u001b[0m\u001b[35m      2517.2265625       \u001b[0m\u001b[35m \u001b[0m│\n",
       "│\u001b[36m \u001b[0m\u001b[36m         val_mse         \u001b[0m\u001b[36m \u001b[0m│\u001b[35m \u001b[0m\u001b[35m  3.178111001034267e-07  \u001b[0m\u001b[35m \u001b[0m│\n",
       "│\u001b[36m \u001b[0m\u001b[36m      val_mse_at_3       \u001b[0m\u001b[36m \u001b[0m│\u001b[35m \u001b[0m\u001b[35m 2.0039436776642106e-07  \u001b[0m\u001b[35m \u001b[0m│\n",
       "│\u001b[36m \u001b[0m\u001b[36m      val_mse_at_6       \u001b[0m\u001b[36m \u001b[0m│\u001b[35m \u001b[0m\u001b[35m  5.116839929542039e-07  \u001b[0m\u001b[35m \u001b[0m│\n",
       "└───────────────────────────┴───────────────────────────┘\n"
      ]
     },
     "metadata": {},
     "output_type": "display_data"
    },
    {
     "data": {
      "text/plain": [
       "[{'val_mae': 0.0002547533076722175,\n",
       "  'val_mape': 2517.2265625,\n",
       "  'val_mse': 3.178111001034267e-07,\n",
       "  'val_mse_at_3': 2.0039436776642106e-07,\n",
       "  'val_mse_at_6': 5.116839929542039e-07,\n",
       "  'val_loss': 3.1781112852513616e-07}]"
      ]
     },
     "execution_count": 65,
     "metadata": {},
     "output_type": "execute_result"
    }
   ],
   "source": [
    "trainer.validate(predictor, datamodule=datamodule)"
   ]
  },
  {
   "cell_type": "code",
   "execution_count": 66,
   "metadata": {},
   "outputs": [
    {
     "name": "stderr",
     "output_type": "stream",
     "text": [
      "LOCAL_RANK: 0 - CUDA_VISIBLE_DEVICES: [0]\n",
      "/home/zeus/miniconda3/envs/cloudspace/lib/python3.10/site-packages/pytorch_lightning/trainer/connectors/data_connector.py:419: Consider setting `persistent_workers=True` in 'predict_dataloader' to speed up the dataloader worker initialization.\n"
     ]
    },
    {
     "data": {
      "application/vnd.jupyter.widget-view+json": {
       "model_id": "24e52a6a34a3412097fa05b4d585a20c",
       "version_major": 2,
       "version_minor": 0
      },
      "text/plain": [
       "Predicting: |          | 0/? [00:00<?, ?it/s]"
      ]
     },
     "metadata": {},
     "output_type": "display_data"
    }
   ],
   "source": [
    "predictions_test = trainer.predict(predictor, datamodule.test_dataloader())"
   ]
  },
  {
   "cell_type": "code",
   "execution_count": 90,
   "metadata": {},
   "outputs": [],
   "source": [
    "import matplotlib.pyplot as plt\n",
    "import cartopy.crs as ccrs\n",
    "import cartopy.feature as cfeature\n",
    "import numpy as np\n",
    "import pandas as pd\n",
    "from matplotlib.colors import Normalize\n",
    "\n",
    "def visualize_predictions(predictions, metadata, idx, horizon=None, \n",
    "                         batches_to_visualize=None, variables_to_visualize=None):\n",
    "    \"\"\"\n",
    "    Visualize predicted vs actual values for specified batches and variables with variable-specific normalization.\n",
    "\n",
    "    Parameters:\n",
    "    - predictions (dict): Contains 'y' and 'y_hat' tensors.\n",
    "    - metadata (pd.DataFrame): DataFrame with 'lat' and 'lon' columns.\n",
    "    - idx (int): Index of the item being visualized.\n",
    "    - horizon (int, optional): Number of time steps to visualize. Defaults to the maximum horizon in data.\n",
    "    - batches_to_visualize (list or range, optional): List of batch indices to visualize. Defaults to all batches.\n",
    "    - variables_to_visualize (list or range, optional): List of variable indices to visualize. Defaults to all variables.\n",
    "    \"\"\"\n",
    "    # Extract predictions and actual values\n",
    "    y_hat = predictions['y_hat'].squeeze().numpy()  # Shape: [batch, horizon, spatial_dim, variables] or [batch, horizon, spatial_dim]\n",
    "    y = predictions['y'].squeeze().numpy()          # Shape: [batch, horizon, spatial_dim, variables] or [batch, horizon, spatial_dim]\n",
    "\n",
    "    # Determine the horizon if not provided\n",
    "    if horizon is None:\n",
    "        horizon = y_hat.shape[1]\n",
    "\n",
    "    # Determine the number of variables\n",
    "    if y_hat.ndim == 3:  # Handle 3D tensor case\n",
    "        num_variables = 1\n",
    "        variables_to_visualize = [0]  # Only one variable to visualize\n",
    "    else:\n",
    "        num_variables = y_hat.shape[-1]  # Handle 4D tensor case\n",
    "        if variables_to_visualize is None:\n",
    "            variables_to_visualize = list(range(num_variables))\n",
    "\n",
    "    # Validate variables_to_visualize\n",
    "    variables_to_visualize = [var for var in variables_to_visualize if var < num_variables]\n",
    "    if not variables_to_visualize:\n",
    "        raise ValueError(\"No valid variables to visualize. Check 'variables_to_visualize' indices.\")\n",
    "\n",
    "    # Get latitude and longitude from metadata\n",
    "    lats = metadata['lat'].values\n",
    "    lons = metadata['lon'].values\n",
    "\n",
    "    # Precompute min and max for each variable in variables_to_visualize\n",
    "    var_min_max = {}\n",
    "    for var in variables_to_visualize:\n",
    "        if num_variables == 1:\n",
    "            var_data_y = y\n",
    "            var_data_y_hat = y_hat\n",
    "        else:\n",
    "            var_data_y = y[..., var]\n",
    "            var_data_y_hat = y_hat[..., var]\n",
    "        min_val = min(np.min(var_data_y), np.min(var_data_y_hat))\n",
    "        max_val = max(np.max(var_data_y), np.max(var_data_y_hat))\n",
    "        # Handle case where min and max are equal to avoid division by zero\n",
    "        if min_val == max_val:\n",
    "            min_val -= 1  # Arbitrary adjustment\n",
    "            max_val += 1\n",
    "        var_min_max[var] = (min_val, max_val)\n",
    "\n",
    "    # Color scheme\n",
    "    cmap = plt.cm.RdYlBu_r  # You can choose other colormaps as well\n",
    "\n",
    "    # If batches_to_visualize is None, visualize all batches\n",
    "    if batches_to_visualize is None:\n",
    "        batches_to_visualize = range(y_hat.shape[0])\n",
    "\n",
    "    for batch in batches_to_visualize:\n",
    "        for var in variables_to_visualize:\n",
    "            fig, axes = plt.subplots(horizon, 2, figsize=(20, 5 * horizon),\n",
    "                                     subplot_kw={'projection': ccrs.PlateCarree()})\n",
    "            fig.subplots_adjust(hspace=0.4, wspace=0.2)\n",
    "\n",
    "            # Retrieve normalization for the current variable\n",
    "            min_val, max_val = var_min_max[var]\n",
    "            norm = Normalize(vmin=min_val, vmax=max_val)\n",
    "\n",
    "            for week in range(horizon):\n",
    "                ax_hat = axes[week, 0]\n",
    "                ax_y = axes[week, 1]\n",
    "\n",
    "                # Extract the specific variable's data\n",
    "                if num_variables == 1:\n",
    "                    z_hat = y_hat[batch, week, :]  # 3D case\n",
    "                    z_y = y[batch, week, :]        # 3D case\n",
    "                else:\n",
    "                    z_hat = y_hat[batch, week, :, var]  # 4D case\n",
    "                    z_y = y[batch, week, :, var]        # 4D case\n",
    "\n",
    "                # Plot y_hat (Predicted) with larger dots\n",
    "                scatter_hat = ax_hat.scatter(\n",
    "                    lons, lats, c=z_hat, cmap=cmap, norm=norm,\n",
    "                    transform=ccrs.PlateCarree(), s=50,  # Increased from 10 to 50\n",
    "                    edgecolor='k', linewidth=0.1\n",
    "                )\n",
    "                ax_hat.add_feature(cfeature.COASTLINE)\n",
    "                ax_hat.add_feature(cfeature.BORDERS, linestyle=':')\n",
    "                ax_hat.set_extent([lons.min(), lons.max(), lats.min(), lats.max()], crs=ccrs.PlateCarree())\n",
    "                cbar_hat = plt.colorbar(scatter_hat, ax=ax_hat, orientation='vertical', pad=0.02, aspect=16, shrink=0.8)\n",
    "                cbar_hat.set_label('Predicted EDDI')\n",
    "                ax_hat.set_title(f'Batch {batch + 1}, Variable {var + 1}, Week {week + 1} - Predicted')\n",
    "\n",
    "                # Plot y (Actual) with larger dots\n",
    "                scatter_y = ax_y.scatter(\n",
    "                    lons, lats, c=z_y, cmap=cmap, norm=norm,\n",
    "                    transform=ccrs.PlateCarree(), s=50,  # Increased from 10 to 50\n",
    "                    edgecolor='k', linewidth=0.1\n",
    "                )\n",
    "                ax_y.add_feature(cfeature.COASTLINE)\n",
    "                ax_y.add_feature(cfeature.BORDERS, linestyle=':')\n",
    "                ax_y.set_extent([lons.min(), lons.max(), lats.min(), lats.max()], crs=ccrs.PlateCarree())\n",
    "                cbar_y = plt.colorbar(scatter_y, ax=ax_y, orientation='vertical', pad=0.02, aspect=16, shrink=0.8)\n",
    "                cbar_y.set_label('Actual EDDI')\n",
    "                ax_y.set_title(f'Batch {batch + 1}, Variable {var + 1}, Week {week + 1} - Actual')\n",
    "\n",
    "            fig.suptitle(f'Item {idx + 1}, Batch {batch + 1}, Variable {var + 1} - Predicted vs Actual EDDI', fontsize=16)\n",
    "            plt.tight_layout(rect=[0, 0, 1, 0.96])  # Adjust rect to prevent overlap with suptitle\n",
    "\n",
    "            # Display the figure\n",
    "            plt.show()\n",
    "            plt.close(fig)\n",
    "\n",
    "# Example Usage\n",
    "\n",
    "# # Assuming you have the metadata DataFrame available\n",
    "# metadata = pd.read_parquet('ml-drought-forecasting/ml-modeling-pipeline/data/05_model_input/metadata.parquet')\n",
    "\n",
    "# # Specify the indices of the items you want to visualize\n",
    "# items_to_visualize = [1]  # Replace with desired item indices (0-based indexing)\n",
    "# batches_to_visualize = [3]  # Replace with desired batch indices within each item\n",
    "# variables_to_visualize = [0]  # Replace with desired variable indices (e.g., if multiple EDDI metrics)\n",
    "\n",
    "# # Call the function for specified items in predictions_test\n",
    "# for idx in items_to_visualize:\n",
    "#     pred = predictions_test[idx]\n",
    "#     visualize_predictions(\n",
    "#         pred, metadata, idx, horizon=pred['y'].shape[1],\n",
    "#         batches_to_visualize=batches_to_visualize, \n",
    "#         variables_to_visualize=variables_to_visualize\n",
    "#     )\n",
    "#     print(f\"Processed item {idx + 1}/{len(predictions_test)}\")\n"
   ]
  },
  {
   "cell_type": "code",
   "execution_count": 91,
   "metadata": {},
   "outputs": [],
   "source": [
    "import plotly.graph_objects as go\n",
    "import plotly.subplots as sp\n",
    "import pandas as pd\n",
    "import numpy as np\n",
    "\n",
    "def visualize_predictions_plotly(predictions, metadata, idx, horizon=None, \n",
    "                                 batches_to_visualize=None, variables_to_visualize=None):\n",
    "    \"\"\"\n",
    "    Visualize predicted vs actual values using Plotly for specified batches and variables with variable-specific normalization.\n",
    "    \n",
    "    Parameters:\n",
    "    - predictions (dict): Contains 'y' and 'y_hat' tensors.\n",
    "    - metadata (pd.DataFrame): DataFrame with 'lat' and 'lon' columns.\n",
    "    - idx (int): Index of the item being visualized.\n",
    "    - horizon (int, optional): Number of time steps to visualize. Defaults to the maximum horizon in data.\n",
    "    - batches_to_visualize (list or range, optional): List of batch indices to visualize. Defaults to all batches.\n",
    "    - variables_to_visualize (list or range, optional): List of variable indices to visualize. Defaults to all variables.\n",
    "    \"\"\"\n",
    "    # Extract predictions and actual values\n",
    "    y_hat = predictions['y_hat'].squeeze().numpy()  # Shape: [batch, horizon, spatial_dim, variables]\n",
    "    y = predictions['y'].squeeze().numpy()          # Shape: [batch, horizon, spatial_dim, variables]\n",
    "\n",
    "    # Ensure y_hat and y have the same shape\n",
    "    assert y_hat.shape == y.shape, \"Predictions and actual values must have the same shape\"\n",
    "\n",
    "    # Determine the horizon if not provided\n",
    "    if horizon is None:\n",
    "        horizon = y_hat.shape[1]\n",
    "\n",
    "    # Determine the number of variables\n",
    "    if y_hat.ndim == 3:\n",
    "        # Shape: [batch, horizon, spatial_dim]\n",
    "        num_variables = 1\n",
    "        y_hat = y_hat[..., np.newaxis]  # Add a variables dimension\n",
    "        y = y[..., np.newaxis]\n",
    "    else:\n",
    "        num_variables = y_hat.shape[-1]\n",
    "\n",
    "    if variables_to_visualize is None:\n",
    "        variables_to_visualize = list(range(num_variables))\n",
    "    else:\n",
    "        # Ensure the variable indices are within the correct range\n",
    "        variables_to_visualize = [v for v in variables_to_visualize if v < num_variables]\n",
    "        if not variables_to_visualize:\n",
    "            raise ValueError(\"No valid variables to visualize. Check 'variables_to_visualize' indices.\")\n",
    "\n",
    "    # Get latitude and longitude from metadata\n",
    "    lats = metadata['lat'].values\n",
    "    lons = metadata['lon'].values\n",
    "\n",
    "    # Ensure that the number of spatial points matches the number of lats and lons\n",
    "    spatial_dim = y_hat.shape[2]\n",
    "    if spatial_dim != len(lats):\n",
    "        raise ValueError(f\"The number of spatial points in predictions ({spatial_dim}) does not match the number of locations in metadata ({len(lats)}).\")\n",
    "\n",
    "    # Calculate the min and max for lats and lons for setting map extent\n",
    "    lat_min, lat_max = lats.min(), lats.max()\n",
    "    lon_min, lon_max = lons.min(), lons.max()\n",
    "\n",
    "    # If batches_to_visualize is None, visualize all batches\n",
    "    if batches_to_visualize is None:\n",
    "        batches_to_visualize = range(y_hat.shape[0])\n",
    "    else:\n",
    "        # Ensure the batch indices are within the correct range\n",
    "        batches_to_visualize = [b for b in batches_to_visualize if b < y_hat.shape[0]]\n",
    "        if not batches_to_visualize:\n",
    "            raise ValueError(\"No valid batches to visualize. Check 'batches_to_visualize' indices.\")\n",
    "\n",
    "    # Precompute min and max for each variable in variables_to_visualize\n",
    "    var_min_max = {}\n",
    "    for var in variables_to_visualize:\n",
    "        var_data_y = y[..., var]  # Shape: [batch, horizon, spatial_dim]\n",
    "        var_data_y_hat = y_hat[..., var]  # Shape: [batch, horizon, spatial_dim]\n",
    "        min_val = min(np.min(var_data_y), np.min(var_data_y_hat))\n",
    "        max_val = max(np.max(var_data_y), np.max(var_data_y_hat))\n",
    "        # Handle case where min and max are equal to avoid division by zero\n",
    "        if min_val == max_val:\n",
    "            min_val -= 1  # Arbitrary adjustment\n",
    "            max_val += 1\n",
    "        var_min_max[var] = (min_val, max_val)\n",
    "\n",
    "    # If variables_to_visualize is [2], ensure that variable index 2 exists\n",
    "    # (0-based indexing)\n",
    "    for var in variables_to_visualize:\n",
    "        if var >= num_variables:\n",
    "            raise ValueError(f\"Variable index {var} is out of range for data with {num_variables} variables.\")\n",
    "\n",
    "    # Loop through each batch and variable\n",
    "    for batch in batches_to_visualize:\n",
    "        for var in variables_to_visualize:\n",
    "            frames = []\n",
    "            slider_steps = []\n",
    "\n",
    "            # Retrieve normalization for the current variable\n",
    "            min_val, max_val = var_min_max[var]\n",
    "\n",
    "            # Create frames for animation\n",
    "            for week in range(horizon):\n",
    "                # Predicted data for current week\n",
    "                pred_data = go.Scattergeo(\n",
    "                    lon=lons,\n",
    "                    lat=lats,\n",
    "                    mode='markers',\n",
    "                    marker=dict(\n",
    "                        size=6,\n",
    "                        color=y_hat[batch, week, :, var],\n",
    "                        colorscale='RdYlBu_r',\n",
    "                        cmin=min_val,\n",
    "                        cmax=max_val,\n",
    "                        colorbar=dict(title='Predicted'),\n",
    "                        opacity=0.8\n",
    "                    ),\n",
    "                    name='Predicted',\n",
    "                    showlegend=False\n",
    "                )\n",
    "\n",
    "                # Actual data for current week\n",
    "                actual_data = go.Scattergeo(\n",
    "                    lon=lons,\n",
    "                    lat=lats,\n",
    "                    mode='markers',\n",
    "                    marker=dict(\n",
    "                        size=6,\n",
    "                        color=y[batch, week, :, var],\n",
    "                        colorscale='RdYlBu_r',\n",
    "                        cmin=min_val,\n",
    "                        cmax=max_val,\n",
    "                        colorbar=dict(title='Actual'),\n",
    "                        opacity=0.8\n",
    "                    ),\n",
    "                    name='Actual',\n",
    "                    showlegend=False\n",
    "                )\n",
    "\n",
    "                # Define frame data\n",
    "                frame = go.Frame(\n",
    "                    data=[pred_data, actual_data],\n",
    "                    name=f'Week {week + 1}'\n",
    "                )\n",
    "                frames.append(frame)\n",
    "\n",
    "                # Create slider step for this frame\n",
    "                slider_step = dict(\n",
    "                    method='animate',\n",
    "                    args=[[f'Week {week + 1}'],\n",
    "                          dict(mode='immediate',\n",
    "                               frame=dict(duration=500, redraw=True),\n",
    "                               transition=dict(duration=0))],\n",
    "                    label=f'Week {week + 1}'\n",
    "                )\n",
    "                slider_steps.append(slider_step)\n",
    "\n",
    "            # Initial data (first frame)\n",
    "            pred_data_initial = go.Scattergeo(\n",
    "                lon=lons,\n",
    "                lat=lats,\n",
    "                mode='markers',\n",
    "                marker=dict(\n",
    "                    size=6,\n",
    "                    color=y_hat[batch, 0, :, var],\n",
    "                    colorscale='RdYlBu_r',\n",
    "                    cmin=min_val,\n",
    "                    cmax=max_val,\n",
    "                    colorbar=dict(title='Predicted'),\n",
    "                    opacity=0.8\n",
    "                ),\n",
    "                name='Predicted',\n",
    "                showlegend=True\n",
    "            )\n",
    "\n",
    "            actual_data_initial = go.Scattergeo(\n",
    "                lon=lons,\n",
    "                lat=lats,\n",
    "                mode='markers',\n",
    "                marker=dict(\n",
    "                    size=6,\n",
    "                    color=y[batch, 0, :, var],\n",
    "                    colorscale='RdYlBu_r',\n",
    "                    cmin=min_val,\n",
    "                    cmax=max_val,\n",
    "                    colorbar=dict(title='Actual'),\n",
    "                    opacity=0.8\n",
    "                ),\n",
    "                name='Actual',\n",
    "                showlegend=True\n",
    "            )\n",
    "\n",
    "            # Create subplots with two geo subplots side by side\n",
    "            fig = sp.make_subplots(\n",
    "                rows=1, cols=2,\n",
    "                specs=[[{'type': 'scattergeo'}, {'type': 'scattergeo'}]],\n",
    "                subplot_titles=(\"Predicted\", \"Actual\")\n",
    "            )\n",
    "\n",
    "            # Add initial traces to respective subplots\n",
    "            fig.add_trace(pred_data_initial, row=1, col=1)\n",
    "            fig.add_trace(actual_data_initial, row=1, col=2)\n",
    "\n",
    "            # Add frames\n",
    "            fig.frames = frames\n",
    "\n",
    "            # Define sliders\n",
    "            fig.update_layout(\n",
    "                title_text=f'Item {idx + 1}, Batch {batch + 1}, Variable {var + 1} - Predicted vs Actual EDDI',\n",
    "                updatemenus=[dict(\n",
    "                    type='buttons',\n",
    "                    showactive=False,\n",
    "                    buttons=[dict(label='Play',\n",
    "                                  method='animate',\n",
    "                                  args=[None, {\"frame\": {\"duration\": 500, \"redraw\": True},\n",
    "                                               \"fromcurrent\": True,\n",
    "                                               \"transition\": {\"duration\": 0}}],\n",
    "                                  )],\n",
    "                    x=0.1,\n",
    "                    y=1.15\n",
    "                )],\n",
    "                sliders=[dict(\n",
    "                    active=0,\n",
    "                    pad={\"t\": 50},\n",
    "                    steps=slider_steps,\n",
    "                    currentvalue=dict(\n",
    "                        visible=True,\n",
    "                        prefix=\"Week: \",\n",
    "                        xanchor=\"right\",\n",
    "                        font=dict(size=14, color=\"#666\")\n",
    "                    ),\n",
    "                )],\n",
    "                geo=dict(\n",
    "                    scope='world',\n",
    "                    projection_type='natural earth',\n",
    "                    showland=True,\n",
    "                    landcolor='lightgray',\n",
    "                    showcountries=True,\n",
    "                    countrycolor='black',\n",
    "                    lataxis=dict(range=[lat_min - 1, lat_max + 1]),\n",
    "                    lonaxis=dict(range=[lon_min - 1, lon_max + 1]),\n",
    "                ),\n",
    "                geo2=dict(\n",
    "                    scope='world',\n",
    "                    projection_type='natural earth',\n",
    "                    showland=True,\n",
    "                    landcolor='lightgray',\n",
    "                    showcountries=True,\n",
    "                    countrycolor='black',\n",
    "                    lataxis=dict(range=[lat_min - 1, lat_max + 1]),\n",
    "                    lonaxis=dict(range=[lon_min - 1, lon_max + 1]),\n",
    "                )\n",
    "            )\n",
    "\n",
    "            # Update frames to assign traces to correct subplots\n",
    "            for frame in fig.frames:\n",
    "                week_idx = int(frame.name.split()[1]) - 1\n",
    "                frame.data = [\n",
    "                    go.Scattergeo(\n",
    "                        lon=lons,\n",
    "                        lat=lats,\n",
    "                        mode='markers',\n",
    "                        marker=dict(\n",
    "                            size=6,\n",
    "                            color=y_hat[batch, week_idx, :, var],\n",
    "                            colorscale='RdYlBu_r',\n",
    "                            cmin=min_val,\n",
    "                            cmax=max_val,\n",
    "                            opacity=0.8\n",
    "                        ),\n",
    "                        showlegend=False\n",
    "                    ),\n",
    "                    go.Scattergeo(\n",
    "                        lon=lons,\n",
    "                        lat=lats,\n",
    "                        mode='markers',\n",
    "                        marker=dict(\n",
    "                            size=6,\n",
    "                            color=y[batch, week_idx, :, var],\n",
    "                            colorscale='RdYlBu_r',\n",
    "                            cmin=min_val,\n",
    "                            cmax=max_val,\n",
    "                            opacity=0.8\n",
    "                        ),\n",
    "                        showlegend=False\n",
    "                    )\n",
    "                ]\n",
    "\n",
    "            # Update layout for better appearance\n",
    "            fig.update_layout(\n",
    "                height=600,\n",
    "                width=1200,\n",
    "                margin=dict(l=50, r=50, t=100, b=50)\n",
    "            )\n",
    "\n",
    "            # Display the figure\n",
    "            fig.show()\n",
    "\n",
    "            # Optionally, save the figure to an HTML file\n",
    "            # fig.write_html(f'item_{idx+1}_batch_{batch+1}_variable_{var+1}.html')\n",
    "\n",
    "# Example Usage\n",
    "\n",
    "# # Assuming you have the metadata DataFrame available\n",
    "# metadata = pd.read_parquet('ml-drought-forecasting/ml-modeling-pipeline/data/05_model_input/metadata.parquet')\n",
    "\n",
    "# # Ensure that predictions_test is a list of dictionaries with 'y' and 'y_hat'\n",
    "# # For example:\n",
    "# # predictions_test = [{'y': tensor1, 'y_hat': tensor2}, {'y': tensor3, 'y_hat': tensor4}, ...]\n",
    "\n",
    "# # Specify the indices of the items you want to visualize\n",
    "# items_to_visualize = [1]  # Replace with desired item indices (0-based indexing)\n",
    "# batches_to_visualize = [0, 1]  # Replace with desired batch indices within each item\n",
    "# variables_to_visualize = [0]  # Replace with desired variable indices (e.g., if multiple EDDI metrics)\n",
    "\n",
    "# # Call the function for specified items in predictions_test\n",
    "# for idx in items_to_visualize:\n",
    "#     pred = predictions_test[idx]\n",
    "#     visualize_predictions_plotly(\n",
    "#         pred, metadata, idx, horizon=pred['y'].shape[1],\n",
    "#         batches_to_visualize=batches_to_visualize, \n",
    "#         variables_to_visualize=variables_to_visualize\n",
    "#     )\n",
    "#     print(f\"Processed item {idx + 1}/{len(predictions_test)}\")\n"
   ]
  },
  {
   "cell_type": "code",
   "execution_count": null,
   "metadata": {},
   "outputs": [],
   "source": []
  },
  {
   "cell_type": "code",
   "execution_count": null,
   "metadata": {},
   "outputs": [],
   "source": []
  },
  {
   "cell_type": "code",
   "execution_count": null,
   "metadata": {},
   "outputs": [],
   "source": []
  },
  {
   "cell_type": "code",
   "execution_count": null,
   "metadata": {},
   "outputs": [],
   "source": []
  },
  {
   "cell_type": "code",
   "execution_count": null,
   "metadata": {},
   "outputs": [],
   "source": []
  }
 ],
 "metadata": {
  "kernelspec": {
   "display_name": "kedro-environment",
   "language": "python",
   "name": "python3"
  },
  "language_info": {
   "codemirror_mode": {
    "name": "ipython",
    "version": 3
   },
   "file_extension": ".py",
   "mimetype": "text/x-python",
   "name": "python",
   "nbconvert_exporter": "python",
   "pygments_lexer": "ipython3",
   "version": "3.11.9"
  }
 },
 "nbformat": 4,
 "nbformat_minor": 2
}
