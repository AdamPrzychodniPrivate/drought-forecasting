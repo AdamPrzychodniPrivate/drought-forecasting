{
 "cells": [
  {
   "cell_type": "markdown",
   "metadata": {},
   "source": [
    "# Baseline - AutoGluon without Deep Learning Models"
   ]
  },
  {
   "cell_type": "markdown",
   "metadata": {},
   "source": [
    "you need to create indpenendt venv becuase it does not work with global one\n",
    "\n",
    "source .autogluon_venv/bin/actiavte\n",
    "\n",
    "source /workspace/soil-ml-modeling-pipeline/.autogluon_venv/bin/activate\n",
    "\n",
    "pip install autogluon.timeseries\n",
    "\n",
    "pip install polars"
   ]
  },
  {
   "cell_type": "code",
   "execution_count": null,
   "metadata": {},
   "outputs": [],
   "source": [
    "import polars as pl\n",
    "import pandas as pd\n",
    "from autogluon.timeseries import TimeSeriesDataFrame, TimeSeriesPredictor"
   ]
  },
  {
   "cell_type": "markdown",
   "metadata": {},
   "source": [
    "in the future you can add known_covariates https://auto.gluon.ai/stable/api/autogluon.timeseries.TimeSeriesPredictor.predict.html#timeseriespredictor-predict\n",
    "\n"
   ]
  },
  {
   "cell_type": "code",
   "execution_count": 1,
   "metadata": {},
   "outputs": [
    {
     "data": {
      "text/html": [
       "<div><style>\n",
       ".dataframe > thead > tr,\n",
       ".dataframe > tbody > tr {\n",
       "  text-align: right;\n",
       "  white-space: pre-wrap;\n",
       "}\n",
       "</style>\n",
       "<small>shape: (25_390_480, 41)</small><table border=\"1\" class=\"dataframe\"><thead><tr><th>lat</th><th>lon</th><th>time</th><th>T2M</th><th>T2M_MAX</th><th>T2M_MIN</th><th>TS</th><th>PS</th><th>WS2M</th><th>WS10M</th><th>WS50M</th><th>QV2M</th><th>QV10M</th><th>RH2M</th><th>TQV</th><th>T2MDEW</th><th>T2MWET</th><th>DISPH</th><th>RHOA</th><th>TO3</th><th>TROPPB</th><th>TROPQ</th><th>TROPT</th><th>U10M</th><th>U2M</th><th>U50M</th><th>V10M</th><th>V2M</th><th>V50M</th><th>WD10M</th><th>WD2M</th><th>WD50M</th><th>Nino12</th><th>Nino3</th><th>Nino34</th><th>Nino4</th><th>eddi</th><th>PRECTOTCORR_mm</th><th>eddi_category</th><th>id</th><th>id_right</th></tr><tr><td>f64</td><td>f64</td><td>date</td><td>f64</td><td>f64</td><td>f64</td><td>f64</td><td>f64</td><td>f64</td><td>f64</td><td>f64</td><td>f64</td><td>f64</td><td>f64</td><td>f64</td><td>f64</td><td>f64</td><td>f64</td><td>f64</td><td>f64</td><td>f64</td><td>f64</td><td>f64</td><td>f64</td><td>f64</td><td>f64</td><td>f64</td><td>f64</td><td>f64</td><td>f64</td><td>f64</td><td>f64</td><td>f32</td><td>f32</td><td>f32</td><td>f32</td><td>f32</td><td>f64</td><td>str</td><td>u32</td><td>u32</td></tr></thead><tbody><tr><td>-11.5</td><td>35.0</td><td>1981-11-30</td><td>25.326563</td><td>27.779688</td><td>23.25625</td><td>299.523438</td><td>92086.625</td><td>1.890625</td><td>2.3984375</td><td>3.09375</td><td>0.015503</td><td>0.015015</td><td>71.125</td><td>45.234375</td><td>292.695312</td><td>295.585938</td><td>1.359375</td><td>1.067383</td><td>267.460938</td><td>10051.5625</td><td>0.0</td><td>190.671875</td><td>-1.117188</td><td>-0.820312</td><td>-1.59375</td><td>-1.5625</td><td>-1.21875</td><td>-1.960938</td><td>68.1875</td><td>66.3125</td><td>59.8125</td><td>0.05473</td><td>-0.033769</td><td>-0.033502</td><td>-0.087432</td><td>-0.761296</td><td>8.020501</td><td>&quot;ED2&quot;</td><td>1598</td><td>270</td></tr><tr><td>-11.5</td><td>35.0</td><td>1981-12-01</td><td>24.709375</td><td>27.44375</td><td>22.576563</td><td>299.59375</td><td>92232.75</td><td>2.484375</td><td>3.0546875</td><td>3.71875</td><td>0.01532</td><td>0.014832</td><td>72.75</td><td>46.632812</td><td>292.515625</td><td>295.1875</td><td>1.3671875</td><td>1.072266</td><td>270.132812</td><td>10191.25</td><td>0.0</td><td>191.890625</td><td>-1.132812</td><td>-0.875</td><td>-1.570312</td><td>1.2109375</td><td>1.0234375</td><td>1.3828125</td><td>124.8125</td><td>124.6875</td><td>123.6875</td><td>0.125351</td><td>-0.068272</td><td>-0.045651</td><td>-0.085928</td><td>-0.761296</td><td>20.987721</td><td>&quot;ED2&quot;</td><td>1598</td><td>270</td></tr><tr><td>-11.5</td><td>35.0</td><td>1981-12-02</td><td>23.35</td><td>25.584375</td><td>22.0375</td><td>297.820312</td><td>92331.1875</td><td>2.9140625</td><td>3.6328125</td><td>4.4765625</td><td>0.015442</td><td>0.014954</td><td>79.3125</td><td>47.429688</td><td>292.648438</td><td>294.570312</td><td>1.3828125</td><td>1.078125</td><td>269.914062</td><td>10124.4375</td><td>0.0</td><td>190.570312</td><td>-3.265625</td><td>-2.59375</td><td>-4.054688</td><td>1.4921875</td><td>1.2265625</td><td>1.78125</td><td>118.3125</td><td>119.75</td><td>116.5625</td><td>0.20493</td><td>-0.132351</td><td>-0.089331</td><td>-0.061235</td><td>-0.761296</td><td>6.153899</td><td>&quot;ED2&quot;</td><td>1598</td><td>270</td></tr><tr><td>-11.5</td><td>35.0</td><td>1981-12-03</td><td>21.6625</td><td>24.264063</td><td>20.053125</td><td>296.664062</td><td>92429.5</td><td>3.96875</td><td>4.875</td><td>5.8359375</td><td>0.013306</td><td>0.012878</td><td>75.9375</td><td>43.054688</td><td>290.28125</td><td>292.546875</td><td>1.390625</td><td>1.086914</td><td>267.726562</td><td>10258.9375</td><td>0.0</td><td>190.515625</td><td>-3.804688</td><td>-3.085938</td><td>-4.601562</td><td>2.734375</td><td>2.2265625</td><td>3.21875</td><td>126.3125</td><td>126.375</td><td>126.0625</td><td>-0.08833</td><td>-0.228514</td><td>-0.27863</td><td>-0.166646</td><td>-0.841127</td><td>0.030492</td><td>&quot;ED3&quot;</td><td>1598</td><td>270</td></tr><tr><td>-11.5</td><td>35.0</td><td>1981-12-04</td><td>23.514063</td><td>27.63125</td><td>19.576563</td><td>298.421875</td><td>92405.875</td><td>3.6953125</td><td>4.53125</td><td>5.4453125</td><td>0.01355</td><td>0.013123</td><td>69.9375</td><td>37.070312</td><td>290.625</td><td>293.640625</td><td>1.40625</td><td>1.081055</td><td>267.429688</td><td>10843.25</td><td>0.0</td><td>193.03125</td><td>-3.515625</td><td>-2.789062</td><td>-4.445312</td><td>1.90625</td><td>1.6015625</td><td>2.109375</td><td>122.125</td><td>123.5625</td><td>119.6875</td><td>-0.346005</td><td>-0.255113</td><td>-0.333117</td><td>-0.287201</td><td>-1.019687</td><td>0.775886</td><td>&quot;ED3&quot;</td><td>1598</td><td>270</td></tr><tr><td>&hellip;</td><td>&hellip;</td><td>&hellip;</td><td>&hellip;</td><td>&hellip;</td><td>&hellip;</td><td>&hellip;</td><td>&hellip;</td><td>&hellip;</td><td>&hellip;</td><td>&hellip;</td><td>&hellip;</td><td>&hellip;</td><td>&hellip;</td><td>&hellip;</td><td>&hellip;</td><td>&hellip;</td><td>&hellip;</td><td>&hellip;</td><td>&hellip;</td><td>&hellip;</td><td>&hellip;</td><td>&hellip;</td><td>&hellip;</td><td>&hellip;</td><td>&hellip;</td><td>&hellip;</td><td>&hellip;</td><td>&hellip;</td><td>&hellip;</td><td>&hellip;</td><td>&hellip;</td><td>&hellip;</td><td>&hellip;</td><td>&hellip;</td><td>&hellip;</td><td>&hellip;</td><td>&hellip;</td><td>&hellip;</td><td>&hellip;</td><td>&hellip;</td></tr><tr><td>22.0</td><td>36.25</td><td>2024-04-25</td><td>32.654688</td><td>40.279688</td><td>25.146875</td><td>309.5</td><td>96249.3125</td><td>2.7109375</td><td>3.3828125</td><td>4.015625</td><td>0.010803</td><td>0.010681</td><td>35.5</td><td>30.789062</td><td>287.695312</td><td>296.75</td><td>0.0234375</td><td>1.092773</td><td>287.734375</td><td>8693.9375</td><td>0.0</td><td>195.835938</td><td>-3.085938</td><td>-2.476562</td><td>-3.59375</td><td>1.03125</td><td>0.8203125</td><td>1.4765625</td><td>112.3125</td><td>112.75</td><td>113.9375</td><td>0.953016</td><td>1.714916</td><td>1.595976</td><td>1.564177</td><td>0.978788</td><td>0.061682</td><td>&quot;EW3&quot;</td><td>1192</td><td>350</td></tr><tr><td>22.0</td><td>36.25</td><td>2024-04-26</td><td>32.685938</td><td>40.201563</td><td>26.623438</td><td>309.945312</td><td>96206.75</td><td>2.1015625</td><td>2.6796875</td><td>3.1640625</td><td>0.01123</td><td>0.011108</td><td>37.75</td><td>25.96875</td><td>288.21875</td><td>297.023438</td><td>0.0234375</td><td>1.091797</td><td>295.875</td><td>10718.0625</td><td>0.0</td><td>200.460938</td><td>-1.734375</td><td>-1.328125</td><td>-2.101562</td><td>-1.398438</td><td>-1.171875</td><td>-1.507812</td><td>69.5</td><td>69.625</td><td>68.4375</td><td>0.988236</td><td>1.717664</td><td>1.600204</td><td>1.535523</td><td>0.978788</td><td>0.003058</td><td>&quot;EW3&quot;</td><td>1192</td><td>350</td></tr><tr><td>22.0</td><td>36.25</td><td>2024-04-27</td><td>30.389063</td><td>38.529688</td><td>24.857813</td><td>307.820312</td><td>96348.8125</td><td>3.0625</td><td>3.7421875</td><td>4.2109375</td><td>0.013123</td><td>0.012939</td><td>50.1875</td><td>33.5</td><td>290.609375</td><td>297.078125</td><td>0.0234375</td><td>1.102539</td><td>298.421875</td><td>10708.5625</td><td>0.000008</td><td>200.226562</td><td>-2.335938</td><td>-1.921875</td><td>-2.648438</td><td>-2.25</td><td>-1.835938</td><td>-2.367188</td><td>91.0</td><td>90.8125</td><td>78.75</td><td>1.050644</td><td>1.706506</td><td>1.607002</td><td>1.507596</td><td>0.943385</td><td>5.993525</td><td>&quot;EW3&quot;</td><td>1192</td><td>350</td></tr><tr><td>22.0</td><td>36.25</td><td>2024-04-28</td><td>29.865625</td><td>37.00625</td><td>24.209375</td><td>306.898438</td><td>96426.5</td><td>3.2578125</td><td>3.984375</td><td>4.421875</td><td>0.013733</td><td>0.01355</td><td>53.25</td><td>34.179688</td><td>291.453125</td><td>297.234375</td><td>0.0234375</td><td>1.104492</td><td>301.34375</td><td>10713.8125</td><td>0.0</td><td>202.101562</td><td>-2.132812</td><td>-1.726562</td><td>-2.507812</td><td>-1.890625</td><td>-1.617188</td><td>-1.625</td><td>91.875</td><td>91.8125</td><td>93.9375</td><td>1.101339</td><td>1.711853</td><td>1.622518</td><td>1.473277</td><td>0.943385</td><td>0.319371</td><td>&quot;EW3&quot;</td><td>1192</td><td>350</td></tr><tr><td>22.0</td><td>36.25</td><td>2024-04-29</td><td>28.240625</td><td>35.592188</td><td>22.826563</td><td>305.46875</td><td>96473.75</td><td>3.3046875</td><td>4.0234375</td><td>4.5078125</td><td>0.011719</td><td>0.011597</td><td>50.5625</td><td>25.984375</td><td>288.882812</td><td>295.140625</td><td>0.0234375</td><td>1.112305</td><td>301.40625</td><td>11014.4375</td><td>0.000008</td><td>203.734375</td><td>0.9609375</td><td>0.78125</td><td>1.25</td><td>-3.742188</td><td>-3.085938</td><td>-4.140625</td><td>265.5625</td><td>280.0625</td><td>279.625</td><td>1.107148</td><td>1.731319</td><td>1.674576</td><td>1.488179</td><td>0.819109</td><td>0.134037</td><td>&quot;EW2&quot;</td><td>1192</td><td>350</td></tr></tbody></table></div>"
      ],
      "text/plain": [
       "shape: (25_390_480, 41)\n",
       "┌───────┬───────┬────────────┬───────────┬───┬────────────────┬───────────────┬──────┬──────────┐\n",
       "│ lat   ┆ lon   ┆ time       ┆ T2M       ┆ … ┆ PRECTOTCORR_mm ┆ eddi_category ┆ id   ┆ id_right │\n",
       "│ ---   ┆ ---   ┆ ---        ┆ ---       ┆   ┆ ---            ┆ ---           ┆ ---  ┆ ---      │\n",
       "│ f64   ┆ f64   ┆ date       ┆ f64       ┆   ┆ f64            ┆ str           ┆ u32  ┆ u32      │\n",
       "╞═══════╪═══════╪════════════╪═══════════╪═══╪════════════════╪═══════════════╪══════╪══════════╡\n",
       "│ -11.5 ┆ 35.0  ┆ 1981-11-30 ┆ 25.326563 ┆ … ┆ 8.020501       ┆ ED2           ┆ 1598 ┆ 270      │\n",
       "│ -11.5 ┆ 35.0  ┆ 1981-12-01 ┆ 24.709375 ┆ … ┆ 20.987721      ┆ ED2           ┆ 1598 ┆ 270      │\n",
       "│ -11.5 ┆ 35.0  ┆ 1981-12-02 ┆ 23.35     ┆ … ┆ 6.153899       ┆ ED2           ┆ 1598 ┆ 270      │\n",
       "│ -11.5 ┆ 35.0  ┆ 1981-12-03 ┆ 21.6625   ┆ … ┆ 0.030492       ┆ ED3           ┆ 1598 ┆ 270      │\n",
       "│ -11.5 ┆ 35.0  ┆ 1981-12-04 ┆ 23.514063 ┆ … ┆ 0.775886       ┆ ED3           ┆ 1598 ┆ 270      │\n",
       "│ …     ┆ …     ┆ …          ┆ …         ┆ … ┆ …              ┆ …             ┆ …    ┆ …        │\n",
       "│ 22.0  ┆ 36.25 ┆ 2024-04-25 ┆ 32.654688 ┆ … ┆ 0.061682       ┆ EW3           ┆ 1192 ┆ 350      │\n",
       "│ 22.0  ┆ 36.25 ┆ 2024-04-26 ┆ 32.685938 ┆ … ┆ 0.003058       ┆ EW3           ┆ 1192 ┆ 350      │\n",
       "│ 22.0  ┆ 36.25 ┆ 2024-04-27 ┆ 30.389063 ┆ … ┆ 5.993525       ┆ EW3           ┆ 1192 ┆ 350      │\n",
       "│ 22.0  ┆ 36.25 ┆ 2024-04-28 ┆ 29.865625 ┆ … ┆ 0.319371       ┆ EW3           ┆ 1192 ┆ 350      │\n",
       "│ 22.0  ┆ 36.25 ┆ 2024-04-29 ┆ 28.240625 ┆ … ┆ 0.134037       ┆ EW2           ┆ 1192 ┆ 350      │\n",
       "└───────┴───────┴────────────┴───────────┴───┴────────────────┴───────────────┴──────┴──────────┘"
      ]
     },
     "execution_count": 1,
     "metadata": {},
     "output_type": "execute_result"
    }
   ],
   "source": [
    "import polars as pl\n",
    "df = pl.read_parquet('/workspace/soil-ml-modeling-pipeline/ml-modeling-pipeline/data/02_intermediate/preprocessed_data.parquet')\n",
    "df"
   ]
  },
  {
   "cell_type": "code",
   "execution_count": 9,
   "metadata": {},
   "outputs": [],
   "source": [
    "import polars as pl\n",
    "\n",
    "# Assuming 'df' is your Polars DataFrame and 'eddi_category' is your target column\n",
    "# Cast the column to categorical to optimize performance and enable category codes\n",
    "df = df.with_columns(df['eddi_category'].cast(pl.Categorical))\n",
    "\n",
    "# Extract category codes directly using Polars\n",
    "df = df.with_columns(df['eddi_category'].cast(pl.UInt32).alias('eddi_category_encoded'))"
   ]
  },
  {
   "cell_type": "code",
   "execution_count": 10,
   "metadata": {},
   "outputs": [
    {
     "data": {
      "text/html": [
       "<div><style>\n",
       ".dataframe > thead > tr,\n",
       ".dataframe > tbody > tr {\n",
       "  text-align: right;\n",
       "  white-space: pre-wrap;\n",
       "}\n",
       "</style>\n",
       "<small>shape: (25_390_480, 42)</small><table border=\"1\" class=\"dataframe\"><thead><tr><th>lat</th><th>lon</th><th>time</th><th>T2M</th><th>T2M_MAX</th><th>T2M_MIN</th><th>TS</th><th>PS</th><th>WS2M</th><th>WS10M</th><th>WS50M</th><th>QV2M</th><th>QV10M</th><th>RH2M</th><th>TQV</th><th>T2MDEW</th><th>T2MWET</th><th>DISPH</th><th>RHOA</th><th>TO3</th><th>TROPPB</th><th>TROPQ</th><th>TROPT</th><th>U10M</th><th>U2M</th><th>U50M</th><th>V10M</th><th>V2M</th><th>V50M</th><th>WD10M</th><th>WD2M</th><th>WD50M</th><th>Nino12</th><th>Nino3</th><th>Nino34</th><th>Nino4</th><th>eddi</th><th>PRECTOTCORR_mm</th><th>eddi_category</th><th>id</th><th>id_right</th><th>eddi_category_encoded</th></tr><tr><td>f64</td><td>f64</td><td>date</td><td>f64</td><td>f64</td><td>f64</td><td>f64</td><td>f64</td><td>f64</td><td>f64</td><td>f64</td><td>f64</td><td>f64</td><td>f64</td><td>f64</td><td>f64</td><td>f64</td><td>f64</td><td>f64</td><td>f64</td><td>f64</td><td>f64</td><td>f64</td><td>f64</td><td>f64</td><td>f64</td><td>f64</td><td>f64</td><td>f64</td><td>f64</td><td>f64</td><td>f64</td><td>f32</td><td>f32</td><td>f32</td><td>f32</td><td>f32</td><td>f64</td><td>cat</td><td>u32</td><td>u32</td><td>u32</td></tr></thead><tbody><tr><td>-11.5</td><td>35.0</td><td>1981-11-30</td><td>25.326563</td><td>27.779688</td><td>23.25625</td><td>299.523438</td><td>92086.625</td><td>1.890625</td><td>2.3984375</td><td>3.09375</td><td>0.015503</td><td>0.015015</td><td>71.125</td><td>45.234375</td><td>292.695312</td><td>295.585938</td><td>1.359375</td><td>1.067383</td><td>267.460938</td><td>10051.5625</td><td>0.0</td><td>190.671875</td><td>-1.117188</td><td>-0.820312</td><td>-1.59375</td><td>-1.5625</td><td>-1.21875</td><td>-1.960938</td><td>68.1875</td><td>66.3125</td><td>59.8125</td><td>0.05473</td><td>-0.033769</td><td>-0.033502</td><td>-0.087432</td><td>-0.761296</td><td>8.020501</td><td>&quot;ED2&quot;</td><td>1598</td><td>270</td><td>0</td></tr><tr><td>-11.5</td><td>35.0</td><td>1981-12-01</td><td>24.709375</td><td>27.44375</td><td>22.576563</td><td>299.59375</td><td>92232.75</td><td>2.484375</td><td>3.0546875</td><td>3.71875</td><td>0.01532</td><td>0.014832</td><td>72.75</td><td>46.632812</td><td>292.515625</td><td>295.1875</td><td>1.3671875</td><td>1.072266</td><td>270.132812</td><td>10191.25</td><td>0.0</td><td>191.890625</td><td>-1.132812</td><td>-0.875</td><td>-1.570312</td><td>1.2109375</td><td>1.0234375</td><td>1.3828125</td><td>124.8125</td><td>124.6875</td><td>123.6875</td><td>0.125351</td><td>-0.068272</td><td>-0.045651</td><td>-0.085928</td><td>-0.761296</td><td>20.987721</td><td>&quot;ED2&quot;</td><td>1598</td><td>270</td><td>0</td></tr><tr><td>-11.5</td><td>35.0</td><td>1981-12-02</td><td>23.35</td><td>25.584375</td><td>22.0375</td><td>297.820312</td><td>92331.1875</td><td>2.9140625</td><td>3.6328125</td><td>4.4765625</td><td>0.015442</td><td>0.014954</td><td>79.3125</td><td>47.429688</td><td>292.648438</td><td>294.570312</td><td>1.3828125</td><td>1.078125</td><td>269.914062</td><td>10124.4375</td><td>0.0</td><td>190.570312</td><td>-3.265625</td><td>-2.59375</td><td>-4.054688</td><td>1.4921875</td><td>1.2265625</td><td>1.78125</td><td>118.3125</td><td>119.75</td><td>116.5625</td><td>0.20493</td><td>-0.132351</td><td>-0.089331</td><td>-0.061235</td><td>-0.761296</td><td>6.153899</td><td>&quot;ED2&quot;</td><td>1598</td><td>270</td><td>0</td></tr><tr><td>-11.5</td><td>35.0</td><td>1981-12-03</td><td>21.6625</td><td>24.264063</td><td>20.053125</td><td>296.664062</td><td>92429.5</td><td>3.96875</td><td>4.875</td><td>5.8359375</td><td>0.013306</td><td>0.012878</td><td>75.9375</td><td>43.054688</td><td>290.28125</td><td>292.546875</td><td>1.390625</td><td>1.086914</td><td>267.726562</td><td>10258.9375</td><td>0.0</td><td>190.515625</td><td>-3.804688</td><td>-3.085938</td><td>-4.601562</td><td>2.734375</td><td>2.2265625</td><td>3.21875</td><td>126.3125</td><td>126.375</td><td>126.0625</td><td>-0.08833</td><td>-0.228514</td><td>-0.27863</td><td>-0.166646</td><td>-0.841127</td><td>0.030492</td><td>&quot;ED3&quot;</td><td>1598</td><td>270</td><td>1</td></tr><tr><td>-11.5</td><td>35.0</td><td>1981-12-04</td><td>23.514063</td><td>27.63125</td><td>19.576563</td><td>298.421875</td><td>92405.875</td><td>3.6953125</td><td>4.53125</td><td>5.4453125</td><td>0.01355</td><td>0.013123</td><td>69.9375</td><td>37.070312</td><td>290.625</td><td>293.640625</td><td>1.40625</td><td>1.081055</td><td>267.429688</td><td>10843.25</td><td>0.0</td><td>193.03125</td><td>-3.515625</td><td>-2.789062</td><td>-4.445312</td><td>1.90625</td><td>1.6015625</td><td>2.109375</td><td>122.125</td><td>123.5625</td><td>119.6875</td><td>-0.346005</td><td>-0.255113</td><td>-0.333117</td><td>-0.287201</td><td>-1.019687</td><td>0.775886</td><td>&quot;ED3&quot;</td><td>1598</td><td>270</td><td>1</td></tr><tr><td>&hellip;</td><td>&hellip;</td><td>&hellip;</td><td>&hellip;</td><td>&hellip;</td><td>&hellip;</td><td>&hellip;</td><td>&hellip;</td><td>&hellip;</td><td>&hellip;</td><td>&hellip;</td><td>&hellip;</td><td>&hellip;</td><td>&hellip;</td><td>&hellip;</td><td>&hellip;</td><td>&hellip;</td><td>&hellip;</td><td>&hellip;</td><td>&hellip;</td><td>&hellip;</td><td>&hellip;</td><td>&hellip;</td><td>&hellip;</td><td>&hellip;</td><td>&hellip;</td><td>&hellip;</td><td>&hellip;</td><td>&hellip;</td><td>&hellip;</td><td>&hellip;</td><td>&hellip;</td><td>&hellip;</td><td>&hellip;</td><td>&hellip;</td><td>&hellip;</td><td>&hellip;</td><td>&hellip;</td><td>&hellip;</td><td>&hellip;</td><td>&hellip;</td><td>&hellip;</td></tr><tr><td>22.0</td><td>36.25</td><td>2024-04-25</td><td>32.654688</td><td>40.279688</td><td>25.146875</td><td>309.5</td><td>96249.3125</td><td>2.7109375</td><td>3.3828125</td><td>4.015625</td><td>0.010803</td><td>0.010681</td><td>35.5</td><td>30.789062</td><td>287.695312</td><td>296.75</td><td>0.0234375</td><td>1.092773</td><td>287.734375</td><td>8693.9375</td><td>0.0</td><td>195.835938</td><td>-3.085938</td><td>-2.476562</td><td>-3.59375</td><td>1.03125</td><td>0.8203125</td><td>1.4765625</td><td>112.3125</td><td>112.75</td><td>113.9375</td><td>0.953016</td><td>1.714916</td><td>1.595976</td><td>1.564177</td><td>0.978788</td><td>0.061682</td><td>&quot;EW3&quot;</td><td>1192</td><td>350</td><td>9</td></tr><tr><td>22.0</td><td>36.25</td><td>2024-04-26</td><td>32.685938</td><td>40.201563</td><td>26.623438</td><td>309.945312</td><td>96206.75</td><td>2.1015625</td><td>2.6796875</td><td>3.1640625</td><td>0.01123</td><td>0.011108</td><td>37.75</td><td>25.96875</td><td>288.21875</td><td>297.023438</td><td>0.0234375</td><td>1.091797</td><td>295.875</td><td>10718.0625</td><td>0.0</td><td>200.460938</td><td>-1.734375</td><td>-1.328125</td><td>-2.101562</td><td>-1.398438</td><td>-1.171875</td><td>-1.507812</td><td>69.5</td><td>69.625</td><td>68.4375</td><td>0.988236</td><td>1.717664</td><td>1.600204</td><td>1.535523</td><td>0.978788</td><td>0.003058</td><td>&quot;EW3&quot;</td><td>1192</td><td>350</td><td>9</td></tr><tr><td>22.0</td><td>36.25</td><td>2024-04-27</td><td>30.389063</td><td>38.529688</td><td>24.857813</td><td>307.820312</td><td>96348.8125</td><td>3.0625</td><td>3.7421875</td><td>4.2109375</td><td>0.013123</td><td>0.012939</td><td>50.1875</td><td>33.5</td><td>290.609375</td><td>297.078125</td><td>0.0234375</td><td>1.102539</td><td>298.421875</td><td>10708.5625</td><td>0.000008</td><td>200.226562</td><td>-2.335938</td><td>-1.921875</td><td>-2.648438</td><td>-2.25</td><td>-1.835938</td><td>-2.367188</td><td>91.0</td><td>90.8125</td><td>78.75</td><td>1.050644</td><td>1.706506</td><td>1.607002</td><td>1.507596</td><td>0.943385</td><td>5.993525</td><td>&quot;EW3&quot;</td><td>1192</td><td>350</td><td>9</td></tr><tr><td>22.0</td><td>36.25</td><td>2024-04-28</td><td>29.865625</td><td>37.00625</td><td>24.209375</td><td>306.898438</td><td>96426.5</td><td>3.2578125</td><td>3.984375</td><td>4.421875</td><td>0.013733</td><td>0.01355</td><td>53.25</td><td>34.179688</td><td>291.453125</td><td>297.234375</td><td>0.0234375</td><td>1.104492</td><td>301.34375</td><td>10713.8125</td><td>0.0</td><td>202.101562</td><td>-2.132812</td><td>-1.726562</td><td>-2.507812</td><td>-1.890625</td><td>-1.617188</td><td>-1.625</td><td>91.875</td><td>91.8125</td><td>93.9375</td><td>1.101339</td><td>1.711853</td><td>1.622518</td><td>1.473277</td><td>0.943385</td><td>0.319371</td><td>&quot;EW3&quot;</td><td>1192</td><td>350</td><td>9</td></tr><tr><td>22.0</td><td>36.25</td><td>2024-04-29</td><td>28.240625</td><td>35.592188</td><td>22.826563</td><td>305.46875</td><td>96473.75</td><td>3.3046875</td><td>4.0234375</td><td>4.5078125</td><td>0.011719</td><td>0.011597</td><td>50.5625</td><td>25.984375</td><td>288.882812</td><td>295.140625</td><td>0.0234375</td><td>1.112305</td><td>301.40625</td><td>11014.4375</td><td>0.000008</td><td>203.734375</td><td>0.9609375</td><td>0.78125</td><td>1.25</td><td>-3.742188</td><td>-3.085938</td><td>-4.140625</td><td>265.5625</td><td>280.0625</td><td>279.625</td><td>1.107148</td><td>1.731319</td><td>1.674576</td><td>1.488179</td><td>0.819109</td><td>0.134037</td><td>&quot;EW2&quot;</td><td>1192</td><td>350</td><td>8</td></tr></tbody></table></div>"
      ],
      "text/plain": [
       "shape: (25_390_480, 42)\n",
       "┌───────┬───────┬────────────┬───────────┬───┬───────────────┬──────┬──────────┬───────────────────┐\n",
       "│ lat   ┆ lon   ┆ time       ┆ T2M       ┆ … ┆ eddi_category ┆ id   ┆ id_right ┆ eddi_category_enc │\n",
       "│ ---   ┆ ---   ┆ ---        ┆ ---       ┆   ┆ ---           ┆ ---  ┆ ---      ┆ oded              │\n",
       "│ f64   ┆ f64   ┆ date       ┆ f64       ┆   ┆ cat           ┆ u32  ┆ u32      ┆ ---               │\n",
       "│       ┆       ┆            ┆           ┆   ┆               ┆      ┆          ┆ u32               │\n",
       "╞═══════╪═══════╪════════════╪═══════════╪═══╪═══════════════╪══════╪══════════╪═══════════════════╡\n",
       "│ -11.5 ┆ 35.0  ┆ 1981-11-30 ┆ 25.326563 ┆ … ┆ ED2           ┆ 1598 ┆ 270      ┆ 0                 │\n",
       "│ -11.5 ┆ 35.0  ┆ 1981-12-01 ┆ 24.709375 ┆ … ┆ ED2           ┆ 1598 ┆ 270      ┆ 0                 │\n",
       "│ -11.5 ┆ 35.0  ┆ 1981-12-02 ┆ 23.35     ┆ … ┆ ED2           ┆ 1598 ┆ 270      ┆ 0                 │\n",
       "│ -11.5 ┆ 35.0  ┆ 1981-12-03 ┆ 21.6625   ┆ … ┆ ED3           ┆ 1598 ┆ 270      ┆ 1                 │\n",
       "│ -11.5 ┆ 35.0  ┆ 1981-12-04 ┆ 23.514063 ┆ … ┆ ED3           ┆ 1598 ┆ 270      ┆ 1                 │\n",
       "│ …     ┆ …     ┆ …          ┆ …         ┆ … ┆ …             ┆ …    ┆ …        ┆ …                 │\n",
       "│ 22.0  ┆ 36.25 ┆ 2024-04-25 ┆ 32.654688 ┆ … ┆ EW3           ┆ 1192 ┆ 350      ┆ 9                 │\n",
       "│ 22.0  ┆ 36.25 ┆ 2024-04-26 ┆ 32.685938 ┆ … ┆ EW3           ┆ 1192 ┆ 350      ┆ 9                 │\n",
       "│ 22.0  ┆ 36.25 ┆ 2024-04-27 ┆ 30.389063 ┆ … ┆ EW3           ┆ 1192 ┆ 350      ┆ 9                 │\n",
       "│ 22.0  ┆ 36.25 ┆ 2024-04-28 ┆ 29.865625 ┆ … ┆ EW3           ┆ 1192 ┆ 350      ┆ 9                 │\n",
       "│ 22.0  ┆ 36.25 ┆ 2024-04-29 ┆ 28.240625 ┆ … ┆ EW2           ┆ 1192 ┆ 350      ┆ 8                 │\n",
       "└───────┴───────┴────────────┴───────────┴───┴───────────────┴──────┴──────────┴───────────────────┘"
      ]
     },
     "execution_count": 10,
     "metadata": {},
     "output_type": "execute_result"
    }
   ],
   "source": [
    "df"
   ]
  },
  {
   "cell_type": "code",
   "execution_count": null,
   "metadata": {},
   "outputs": [],
   "source": [
    "train_data = TimeSeriesDataFrame.from_data_frame(\n",
    "    df,\n",
    "    id_column=\"id\",\n",
    "    timestamp_column=\"time\"\n",
    ")\n",
    "train_data.head()"
   ]
  },
  {
   "cell_type": "code",
   "execution_count": null,
   "metadata": {},
   "outputs": [],
   "source": [
    "predictor = TimeSeriesPredictor(\n",
    "    prediction_length=90,\n",
    "    path=\"autogluon-m4-hourly\",\n",
    "    target=\"eddi_category\",\n",
    "    eval_metric=\"MASE\",\n",
    ")"
   ]
  },
  {
   "cell_type": "code",
   "execution_count": null,
   "metadata": {},
   "outputs": [],
   "source": [
    "predictor.fit(\n",
    "    train_data,\n",
    "    presets=\"medium_quality\",\n",
    "    time_limit=600,\n",
    ")"
   ]
  }
 ],
 "metadata": {
  "language_info": {
   "name": "python"
  }
 },
 "nbformat": 4,
 "nbformat_minor": 2
}
