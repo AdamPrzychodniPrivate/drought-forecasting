{
 "cells": [
  {
   "cell_type": "code",
   "execution_count": 3,
   "metadata": {
    "ExecuteTime": {
     "end_time": "2024-11-08T11:50:25.833421Z",
     "start_time": "2024-11-08T11:50:25.830614Z"
    }
   },
   "outputs": [
    {
     "name": "stderr",
     "output_type": "stream",
     "text": [
      "2024-11-16 11:50:32,704 INFO [2024-09-28T00:00:00] **Welcome to the New Climate Data Store (CDS)!** This new system is in its early days of full operations and still undergoing enhancements and fine tuning. Some disruptions are to be expected. Your \n",
      "[feedback](https://jira.ecmwf.int/plugins/servlet/desk/portal/1/create/202) is key to improve the user experience on the new CDS for the benefit of everyone. Thank you.\n",
      "2024-11-16 11:50:32,705 INFO [2024-09-26T00:00:00] Watch our [Forum](https://forum.ecmwf.int/) for Announcements, news and other discussed topics.\n",
      "2024-11-16 11:50:32,705 INFO [2024-09-16T00:00:00] Remember that you need to have an ECMWF account to use the new CDS. **Your old CDS credentials will not work in new CDS!**\n",
      "2024-11-16 11:50:32,706 WARNING [2024-06-16T00:00:00] CDS API syntax is changed and some keys or parameter names may have also changed. To avoid requests failing, please use the \"Show API request code\" tool on the dataset Download Form to check you are using the correct syntax for your API request.\n"
     ]
    },
    {
     "name": "stderr",
     "output_type": "stream",
     "text": [
      "2024-11-16 11:50:33,129 WARNING [2024-10-10T00:00:00] The final validated ERA5 differs from ERA5T from July 2024 until further notice - please refer to our\n",
      "[Forum announcement](https://forum.ecmwf.int/t/final-validated-era5-product-to-differ-from-era5t-in-july-2024/6685)\n",
      "for details and watch it for further updates on this.\n",
      "2024-11-16 11:50:33,130 INFO Request ID is 2ad6f71a-b159-4921-bdf5-c006b6fecfa5\n",
      "2024-11-16 11:50:33,258 INFO status has been updated to accepted\n",
      "2024-11-16 11:50:37,636 INFO status has been updated to running\n",
      "2024-11-16 11:50:41,158 INFO status has been updated to successful\n"
     ]
    },
    {
     "data": {
      "application/vnd.jupyter.widget-view+json": {
       "model_id": "2c4357ec920a40b7b8bf906b82a99b85",
       "version_major": 2,
       "version_minor": 0
      },
      "text/plain": [
       "ce8b4aceb154890aa79458b13a719f89.nc:   0%|          | 0.00/9.93G [00:00<?, ?B/s]"
      ]
     },
     "metadata": {},
     "output_type": "display_data"
    },
    {
     "data": {
      "text/plain": [
       "'ml-drought-forecasting/soil-water-forecasting/data/01_raw/ERA5_monthly_averaged_data_on_single_levels.nc'"
      ]
     },
     "execution_count": 3,
     "metadata": {},
     "output_type": "execute_result"
    }
   ],
   "source": [
    "import cdsapi\n",
    "\n",
    "dataset = \"reanalysis-era5-single-levels-monthly-means\"\n",
    "request = {\n",
    "    \"product_type\": [\"monthly_averaged_reanalysis\"],\n",
    "    \"variable\": [\n",
    "        \"10m_u_component_of_wind\",\n",
    "        \"10m_v_component_of_wind\",\n",
    "        \"2m_temperature\",\n",
    "        \"sea_surface_temperature\",\n",
    "        \"surface_pressure\",\n",
    "        \"total_precipitation\",\n",
    "        \"surface_net_solar_radiation\",\n",
    "        \"surface_solar_radiation_downwards\",\n",
    "        \"total_cloud_cover\",\n",
    "        \"lake_cover\",\n",
    "        \"evaporation\",\n",
    "        \"potential_evaporation\",\n",
    "        \"runoff\",\n",
    "        \"snow_albedo\",\n",
    "        \"snow_density\",\n",
    "        \"snow_depth\",\n",
    "        \"soil_type\",\n",
    "        \"volumetric_soil_water_layer_1\",\n",
    "        \"high_vegetation_cover\",\n",
    "        \"leaf_area_index_high_vegetation\",\n",
    "        \"type_of_high_vegetation\",\n",
    "        \"geopotential\",\n",
    "        \"land_sea_mask\"\n",
    "    ],\n",
    "    \"year\": [\n",
    "        \"1978\", \"1979\", \"1980\",\n",
    "        \"1981\", \"1982\", \"1983\",\n",
    "        \"1984\", \"1985\", \"1986\",\n",
    "        \"1987\", \"1988\", \"1989\",\n",
    "        \"1990\", \"1991\", \"1992\",\n",
    "        \"1993\", \"1994\", \"1995\",\n",
    "        \"1996\", \"1997\", \"1998\",\n",
    "        \"1999\", \"2000\", \"2001\",\n",
    "        \"2002\", \"2003\", \"2004\",\n",
    "        \"2005\", \"2006\", \"2007\",\n",
    "        \"2008\", \"2009\", \"2010\",\n",
    "        \"2011\", \"2012\", \"2013\",\n",
    "        \"2014\", \"2015\", \"2016\",\n",
    "        \"2017\", \"2018\", \"2019\",\n",
    "        \"2020\", \"2021\", \"2022\",\n",
    "        \"2023\", \"2024\"\n",
    "    ],\n",
    "    \"month\": [\n",
    "        \"01\", \"02\", \"03\",\n",
    "        \"04\", \"05\", \"06\",\n",
    "        \"07\", \"08\", \"09\",\n",
    "        \"10\", \"11\", \"12\"\n",
    "    ],\n",
    "    \"time\": [\"00:00\"],\n",
    "    \"data_format\": \"netcdf\",\n",
    "    \"download_format\": \"unarchived\"\n",
    "}\n",
    "\n",
    "target = 'ml-drought-forecasting/soil-water-forecasting/data/01_raw/ERA5_monthly_averaged_data_on_single_levels.nc'\n",
    "client = cdsapi.Client()\n",
    "client.retrieve(dataset, request, target)\n"
   ]
  },
  {
   "cell_type": "code",
   "execution_count": 1,
   "metadata": {},
   "outputs": [],
   "source": [
    "# import cdsapi\n",
    "# \n",
    "# dataset = \"satellite-soil-moisture\"\n",
    "# request = {\n",
    "#     \"variable\": [\"volumetric_surface_soil_moisture\"],\n",
    "#     \"type_of_sensor\": [\"combined_passive_and_active\"],\n",
    "#     \"time_aggregation\": [\"month_average\"],\n",
    "#     \"year\": [\n",
    "#         \"1978\", \"1979\", \"1980\",\n",
    "#         \"1981\", \"1982\", \"1983\",\n",
    "#         \"1984\", \"1985\", \"1986\",\n",
    "#         \"1987\", \"1988\", \"1989\",\n",
    "#         \"1990\", \"1991\", \"1992\",\n",
    "#         \"1993\", \"1994\", \"1995\",\n",
    "#         \"1996\", \"1997\", \"1998\",\n",
    "#         \"1999\", \"2000\", \"2001\",\n",
    "#         \"2002\", \"2003\", \"2004\",\n",
    "#         \"2005\", \"2006\", \"2007\",\n",
    "#         \"2008\", \"2009\", \"2010\",\n",
    "#         \"2011\", \"2012\", \"2013\",\n",
    "#         \"2014\", \"2015\", \"2016\",\n",
    "#         \"2017\", \"2018\", \"2019\",\n",
    "#         \"2020\", \"2021\", \"2022\",\n",
    "#         \"2023\", \"2024\"\n",
    "#     ],\n",
    "#     \"month\": [\n",
    "#         \"01\", \"02\", \"03\",\n",
    "#         \"04\", \"05\", \"06\",\n",
    "#         \"07\", \"08\", \"09\",\n",
    "#         \"10\", \"11\", \"12\"\n",
    "#     ],\n",
    "#     \"day\": [\"01\"],\n",
    "#     \"type_of_record\": [\"cdr\"],\n",
    "#     \"version\": [\"v202212\"]\n",
    "# }\n",
    "# \n",
    "# client = cdsapi.Client()\n",
    "# client.retrieve(dataset, request).download()\n"
   ]
  },
  {
   "cell_type": "code",
   "execution_count": null,
   "metadata": {},
   "outputs": [],
   "source": []
  }
 ],
 "metadata": {
  "kernelspec": {
   "display_name": "kedro-environment",
   "language": "python",
   "name": "python3"
  },
  "language_info": {
   "codemirror_mode": {
    "name": "ipython",
    "version": 3
   },
   "file_extension": ".py",
   "mimetype": "text/x-python",
   "name": "python",
   "nbconvert_exporter": "python",
   "pygments_lexer": "ipython3",
   "version": "3.11.10"
  }
 },
 "nbformat": 4,
 "nbformat_minor": 2
}
