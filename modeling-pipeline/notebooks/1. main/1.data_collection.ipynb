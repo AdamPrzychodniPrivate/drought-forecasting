{
 "cells": [
  {
   "cell_type": "markdown",
   "metadata": {},
   "source": [
    "\n",
    "Data source: [ERA5 monthly averaged data on single levels from 1940 to present](https://cds.climate.copernicus.eu/datasets/reanalysis-era5-single-levels-monthly-means?tab=overview)\n"
   ]
  },
  {
   "cell_type": "code",
   "execution_count": 1,
   "metadata": {
    "ExecuteTime": {
     "end_time": "2024-11-08T11:50:25.833421Z",
     "start_time": "2024-11-08T11:50:25.830614Z"
    }
   },
   "outputs": [
    {
     "name": "stderr",
     "output_type": "stream",
     "text": [
      "2024-12-15 14:46:41,519 INFO [2024-09-28T00:00:00] **Welcome to the New Climate Data Store (CDS)!** This new system is in its early days of full operations and still undergoing enhancements and fine tuning. Some disruptions are to be expected. Your \n",
      "[feedback](https://jira.ecmwf.int/plugins/servlet/desk/portal/1/create/202) is key to improve the user experience on the new CDS for the benefit of everyone. Thank you.\n",
      "2024-12-15 14:46:41,520 INFO [2024-09-26T00:00:00] Watch our [Forum](https://forum.ecmwf.int/) for Announcements, news and other discussed topics.\n",
      "2024-12-15 14:46:41,520 INFO [2024-09-16T00:00:00] Remember that you need to have an ECMWF account to use the new CDS. **Your old CDS credentials will not work in new CDS!**\n",
      "2024-12-15 14:46:41,521 WARNING [2024-06-16T00:00:00] CDS API syntax is changed and some keys or parameter names may have also changed. To avoid requests failing, please use the \"Show API request code\" tool on the dataset Download Form to check you are using the correct syntax for your API request.\n",
      "2024-12-15 14:46:41,950 WARNING [2024-10-10T00:00:00] The final validated ERA5 differs from ERA5T from July 2024 until further notice - please refer to our\n",
      "[Forum announcement](https://forum.ecmwf.int/t/final-validated-era5-product-to-differ-from-era5t-in-july-2024/6685)\n",
      "for details and watch it for further updates on this.\n",
      "2024-12-15 14:46:41,951 INFO Request ID is e3ed0f4d-e33d-4cc7-bafe-7334c8293935\n",
      "2024-12-15 14:46:42,078 INFO status has been updated to accepted\n",
      "2024-12-15 14:46:54,794 INFO status has been updated to successful\n"
     ]
    },
    {
     "data": {
      "application/vnd.jupyter.widget-view+json": {
       "model_id": "bca7a2a43c9d4c61a3b42bc7cd5911fc",
       "version_major": 2,
       "version_minor": 0
      },
      "text/plain": [
       "89f4a624fddfc5551abee57d822fb907.zip:   0%|          | 0.00/11.8G [00:00<?, ?B/s]"
      ]
     },
     "metadata": {},
     "output_type": "display_data"
    },
    {
     "data": {
      "text/plain": [
       "'soil-water-forecasting/modeling-pipeline/data/01_raw/ERA5_monthly_averaged_data_on_single_levels.zip'"
      ]
     },
     "execution_count": 1,
     "metadata": {},
     "output_type": "execute_result"
    }
   ],
   "source": [
    "import cdsapi\n",
    "\n",
    "dataset = \"reanalysis-era5-single-levels-monthly-means\"\n",
    "request = {\n",
    "    \"product_type\": [\"monthly_averaged_reanalysis\"],\n",
    "    \"variable\": [\n",
    "        \"10m_u_component_of_wind\",\n",
    "        \"10m_v_component_of_wind\",\n",
    "        \"2m_temperature\",\n",
    "        \"2m_dewpoint_temperature\",\n",
    "        \"mean_sea_level_pressure\",\n",
    "        \"sea_surface_temperature\",\n",
    "        \"surface_pressure\",\n",
    "        \"total_precipitation\",\n",
    "        \"10m_wind_speed\",\n",
    "        \"total_cloud_cover\",\n",
    "        \"total_column_cloud_ice_water\",\n",
    "        \"total_column_cloud_liquid_water\",\n",
    "        \"lake_cover\",\n",
    "        \"evaporation\",\n",
    "        \"potential_evaporation\",\n",
    "        \"runoff\",\n",
    "        \"snow_albedo\",\n",
    "        \"soil_type\",\n",
    "        \"volumetric_soil_water_layer_1\",\n",
    "        \"high_vegetation_cover\",\n",
    "        \"leaf_area_index_high_vegetation\",\n",
    "        \"type_of_high_vegetation\",\n",
    "        \"geopotential\",\n",
    "        \"land_sea_mask\"\n",
    "    ],\n",
    "    \"year\": [\n",
    "        \"1979\", \"1980\", \"1981\",\n",
    "        \"1982\", \"1983\", \"1984\",\n",
    "        \"1985\", \"1986\", \"1987\",\n",
    "        \"1988\", \"1989\", \"1990\",\n",
    "        \"1991\", \"1992\", \"1993\",\n",
    "        \"1994\", \"1995\", \"1996\",\n",
    "        \"1997\", \"1998\", \"1999\",\n",
    "        \"2000\", \"2001\", \"2002\",\n",
    "        \"2003\", \"2004\", \"2005\",\n",
    "        \"2006\", \"2007\", \"2008\",\n",
    "        \"2009\", \"2010\", \"2011\",\n",
    "        \"2012\", \"2013\", \"2014\",\n",
    "        \"2015\", \"2016\", \"2017\",\n",
    "        \"2018\", \"2019\", \"2020\",\n",
    "        \"2021\", \"2022\", \"2023\",\n",
    "        \"2024\"\n",
    "    ],\n",
    "    \"month\": [\n",
    "        \"01\", \"02\", \"03\",\n",
    "        \"04\", \"05\", \"06\",\n",
    "        \"07\", \"08\", \"09\",\n",
    "        \"10\", \"11\", \"12\"\n",
    "    ],\n",
    "    \"time\": [\"00:00\"],\n",
    "    \"data_format\": \"netcdf\",\n",
    "    \"download_format\": \"zip\"\n",
    "}\n",
    "\n",
    "target = 'drought-forecasting/modeling-pipeline/data/01_raw/ERA5_monthly_averaged_data_on_single_levels.zip'\n",
    "client = cdsapi.Client()\n",
    "client.retrieve(dataset, request, target)\n"
   ]
  },
  {
   "cell_type": "markdown",
   "metadata": {},
   "source": [
    "Unzipped data files"
   ]
  },
  {
   "cell_type": "code",
   "execution_count": 5,
   "metadata": {},
   "outputs": [],
   "source": [
    "import zipfile\n",
    "import os\n",
    "\n",
    "def unzip_file(zip_file_path: str, output_dir: str) -> None:\n",
    "    \"\"\"\n",
    "    Unzips a file to the specified output directory.\n",
    "    \n",
    "    Args:\n",
    "        zip_file_path (str): The path to the zip file.\n",
    "        output_dir (str): The directory where the contents should be extracted.\n",
    "        \n",
    "    Raises:\n",
    "        FileNotFoundError: If the zip file does not exist.\n",
    "        zipfile.BadZipFile: If the file is not a valid zip file.\n",
    "    \"\"\"\n",
    "    if not os.path.exists(zip_file_path):\n",
    "        raise FileNotFoundError(f\"The zip file '{zip_file_path}' does not exist.\")\n",
    "    \n",
    "    if not zipfile.is_zipfile(zip_file_path):\n",
    "        raise zipfile.BadZipFile(f\"The file '{zip_file_path}' is not a valid zip file.\")\n",
    "    \n",
    "    # Ensure the output directory exists\n",
    "    os.makedirs(output_dir, exist_ok=True)\n",
    "    \n",
    "    with zipfile.ZipFile(zip_file_path, 'r') as zip_ref:\n",
    "        zip_ref.extractall(output_dir)\n",
    "        print(f\"Extracted all files to: {output_dir}\")\n"
   ]
  },
  {
   "cell_type": "code",
   "execution_count": null,
   "metadata": {},
   "outputs": [],
   "source": [
    "# Example usage:\n",
    "zip_file_path = \"drought-forecasting/modeling-pipeline/data/01_raw/ERA5_monthly_averaged_data_on_single_levels.zip\"\n",
    "output_dir = \"drought-forecasting/modeling-pipeline/data/01_raw/unzipped_files/ERA5_monthly_averaged_data_on_single_levels/\"\n",
    "\n",
    "try:\n",
    "    unzip_file(zip_file_path, output_dir)\n",
    "except Exception as e:\n",
    "    print(f\"An error occurred: {e}\")"
   ]
  },
  {
   "cell_type": "code",
   "execution_count": 1,
   "metadata": {},
   "outputs": [],
   "source": [
    "import requests\n",
    "\n",
    "def download_file(url: str, destination: str) -> None:\n",
    "    \"\"\"\n",
    "    Downloads a file from a given URL and saves it to the specified destination.\n",
    "\n",
    "    Args:\n",
    "        url (str): The URL of the file to download.\n",
    "        destination (str): The local file path where the file will be saved.\n",
    "\n",
    "    Raises:\n",
    "        Exception: If there is an issue during the download process.\n",
    "    \"\"\"\n",
    "    try:\n",
    "        # Send a GET request to the URL\n",
    "        response = requests.get(url, stream=True)\n",
    "        response.raise_for_status()  # Check for HTTP request errors\n",
    "\n",
    "        # Write the content of the response to the destination file\n",
    "        with open(destination, \"wb\") as file:\n",
    "            for chunk in response.iter_content(chunk_size=8192):  # Download in chunks\n",
    "                file.write(chunk)\n",
    "\n",
    "        print(f\"File successfully downloaded as {destination}\")\n",
    "    except requests.exceptions.RequestException as e:\n",
    "        print(f\"An error occurred: {e}\")\n",
    "        raise\n"
   ]
  },
  {
   "cell_type": "markdown",
   "metadata": {},
   "source": [
    "Tang, Fiona  H. M.; Nguyen, Thu Ha; Conchedda, Giulia; Casse, Leon; Tubiello, Francesco N.; Maggi, Federico (2023). CROPGRIDS. figshare. Dataset. https://doi.org/10.6084/m9.figshare.22491997.v9"
   ]
  },
  {
   "cell_type": "code",
   "execution_count": 2,
   "metadata": {},
   "outputs": [
    {
     "name": "stdout",
     "output_type": "stream",
     "text": [
      "File successfully downloaded as drought-forecasting/modeling-pipeline/data/01_raw/CROPGRIDS.zip\n"
     ]
    }
   ],
   "source": [
    "# Example usage:\n",
    "download_file(\"https://figshare.com/ndownloader/articles/22491997/versions/9\", \"drought-forecasting/modeling-pipeline/data/01_raw/CROPGRIDS.zip\")"
   ]
  },
  {
   "cell_type": "code",
   "execution_count": 7,
   "metadata": {},
   "outputs": [
    {
     "name": "stdout",
     "output_type": "stream",
     "text": [
      "Extracted all files to: drought-forecasting/modeling-pipeline/data/01_raw/unzipped_files/CROPGRIDS/\n"
     ]
    }
   ],
   "source": [
    "# Example usage:\n",
    "zip_file_path = \"drought-forecasting/modeling-pipeline/data/01_raw/CROPGRIDS.zip\"\n",
    "output_dir = \"drought-forecasting/modeling-pipeline/data/01_raw/unzipped_files/CROPGRIDS/\"\n",
    "\n",
    "try:\n",
    "    unzip_file(zip_file_path, output_dir)\n",
    "except Exception as e:\n",
    "    print(f\"An error occurred: {e}\")"
   ]
  },
  {
   "cell_type": "code",
   "execution_count": 8,
   "metadata": {},
   "outputs": [
    {
     "name": "stdout",
     "output_type": "stream",
     "text": [
      "Extracted all files to: drought-forecasting/modeling-pipeline/data/01_raw/unzipped_files/CROPGRIDS/CROPGRIDSv1.08_NC_maps/\n"
     ]
    }
   ],
   "source": [
    "# Example usage:\n",
    "zip_file_path = \"/teamspace/studios/this_studio/drought-forecasting/modeling-pipeline/data/01_raw/unzipped_files/CROPGRIDS/CROPGRIDSv1.08_NC_maps.zip\"\n",
    "output_dir = \"drought-forecasting/modeling-pipeline/data/01_raw/unzipped_files/CROPGRIDS/CROPGRIDSv1.08_NC_maps/\"\n",
    "\n",
    "try:\n",
    "    unzip_file(zip_file_path, output_dir)\n",
    "except Exception as e:\n",
    "    print(f\"An error occurred: {e}\")"
   ]
  },
  {
   "cell_type": "code",
   "execution_count": null,
   "metadata": {},
   "outputs": [],
   "source": []
  }
 ],
 "metadata": {
  "kernelspec": {
   "display_name": "kedro-environment",
   "language": "python",
   "name": "python3"
  },
  "language_info": {
   "codemirror_mode": {
    "name": "ipython",
    "version": 3
   },
   "file_extension": ".py",
   "mimetype": "text/x-python",
   "name": "python",
   "nbconvert_exporter": "python",
   "pygments_lexer": "ipython3",
   "version": "3.11.10"
  }
 },
 "nbformat": 4,
 "nbformat_minor": 2
}
